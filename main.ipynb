{
 "cells": [
  {
   "cell_type": "markdown",
   "metadata": {},
   "source": [
    "# Authors : \n",
    "# Michael KAHLA- Hongdu WEI - Antoine Lebrun"
   ]
  },
  {
   "cell_type": "markdown",
   "metadata": {},
   "source": [
    "# Question 1 - Feature selection and data preprocessing : \n",
    "\n",
    "- Remove categorical variables\n",
    "- Replace NAs by mean\n",
    "- Feature selection using the correlation with the output technique"
   ]
  },
  {
   "cell_type": "code",
   "execution_count": 2,
   "metadata": {
    "vscode": {
     "languageId": "r"
    }
   },
   "outputs": [
    {
     "name": "stderr",
     "output_type": "stream",
     "text": [
      "Warning message:\n",
      "\"package 'tree' was built under R version 4.3.3\"\n",
      "Warning message:\n",
      "\"package 'rpart' was built under R version 4.3.3\"\n",
      "Warning message:\n",
      "\"package 'randomForest' was built under R version 4.3.3\"\n",
      "randomForest 4.7-1.1\n",
      "\n",
      "Type rfNews() to see new features/changes/bug fixes.\n",
      "\n"
     ]
    }
   ],
   "source": [
    "## Importing the libraries for the models : \n",
    "# 1 - Decision tree\n",
    "# 2 - Random forest\n",
    "# 3 - Neural network\n",
    "library(\"tree\")\n",
    "library(\"rpart\")\n",
    "library(\"randomForest\")\n"
   ]
  },
  {
   "cell_type": "code",
   "execution_count": 1,
   "metadata": {
    "vscode": {
     "languageId": "r"
    }
   },
   "outputs": [
    {
     "data": {
      "text/html": [
       "<style>\n",
       ".list-inline {list-style: none; margin:0; padding: 0}\n",
       ".list-inline>li {display: inline-block}\n",
       ".list-inline>li:not(:last-child)::after {content: \"\\00b7\"; padding: 0 .5ex}\n",
       "</style>\n",
       "<ol class=list-inline><li>16136</li><li>77</li></ol>\n"
      ],
      "text/latex": [
       "\\begin{enumerate*}\n",
       "\\item 16136\n",
       "\\item 77\n",
       "\\end{enumerate*}\n"
      ],
      "text/markdown": [
       "1. 16136\n",
       "2. 77\n",
       "\n",
       "\n"
      ],
      "text/plain": [
       "[1] 16136    77"
      ]
     },
     "metadata": {},
     "output_type": "display_data"
    },
    {
     "data": {
      "text/html": [
       "<style>\n",
       ".list-inline {list-style: none; margin:0; padding: 0}\n",
       ".list-inline>li {display: inline-block}\n",
       ".list-inline>li:not(:last-child)::after {content: \"\\00b7\"; padding: 0 .5ex}\n",
       "</style>\n",
       "<ol class=list-inline><li>30557</li><li>82</li></ol>\n"
      ],
      "text/latex": [
       "\\begin{enumerate*}\n",
       "\\item 30557\n",
       "\\item 82\n",
       "\\end{enumerate*}\n"
      ],
      "text/markdown": [
       "1. 30557\n",
       "2. 82\n",
       "\n",
       "\n"
      ],
      "text/plain": [
       "[1] 30557    82"
      ]
     },
     "metadata": {},
     "output_type": "display_data"
    }
   ],
   "source": [
    "# Importing the data and visualizing it\n",
    "\n",
    "train_path <- \"data/Train.csv\"  \n",
    "test_path <- \"data/Test.csv\"    \n",
    "\n",
    "train_data <- read.csv(train_path)\n",
    "test_data <- read.csv(test_path)\n",
    "\n",
    "\n",
    "set.seed(2)\n",
    "\n",
    "dim(test_data)\n",
    "dim(train_data)\n"
   ]
  },
  {
   "cell_type": "markdown",
   "metadata": {},
   "source": [
    "The number of features in the test and train datasets are not the same, we need to be coherent and have the same number of columns in the two datasets in order to do the predictions"
   ]
  },
  {
   "cell_type": "markdown",
   "metadata": {},
   "source": [
    "# First, let's remove categorical variables\n",
    "\n",
    "Indeed, we need to do statistics on our variables, one way to do that is to remove the categorical features, so that all remains numerical. Another way, is to one hot encode the cattegoriacal variables, but here, we just removed them. We could use one hot encoding for further elaboration of this project in the future."
   ]
  },
  {
   "cell_type": "code",
   "execution_count": 2,
   "metadata": {
    "vscode": {
     "languageId": "r"
    }
   },
   "outputs": [
    {
     "data": {
      "text/html": [],
      "text/latex": [],
      "text/markdown": [],
      "text/plain": [
       "named integer(0)"
      ]
     },
     "metadata": {},
     "output_type": "display_data"
    },
    {
     "data": {
      "text/html": [],
      "text/latex": [],
      "text/markdown": [],
      "text/plain": [
       "named integer(0)"
      ]
     },
     "metadata": {},
     "output_type": "display_data"
    }
   ],
   "source": [
    "factor_variablesTrainSet<-which(sapply(train_data[1,],class)==\"factor\")\n",
    "factor_variablesTrainSet\n",
    "\n",
    "factor_VariablesTestSet<-which(sapply(test_data[1,],class)==\"factor\")\n",
    "factor_VariablesTestSet"
   ]
  },
  {
   "cell_type": "markdown",
   "metadata": {},
   "source": [
    "We don't have factor variables types in neither the train nor the test set. Let's see if we have variables with types \"chr\", and how many of them"
   ]
  },
  {
   "cell_type": "code",
   "execution_count": 3,
   "metadata": {
    "vscode": {
     "languageId": "r"
    }
   },
   "outputs": [
    {
     "data": {
      "text/html": [
       "<style>\n",
       ".dl-inline {width: auto; margin:0; padding: 0}\n",
       ".dl-inline>dt, .dl-inline>dd {float: none; width: auto; display: inline-block}\n",
       ".dl-inline>dt::after {content: \":\\0020\"; padding-right: .5ex}\n",
       ".dl-inline>dt:not(:first-of-type) {padding-left: .5ex}\n",
       "</style><dl class=dl-inline><dt>Place_ID.X.Date</dt><dd>1</dd><dt>Date</dt><dd>2</dd><dt>Place_ID</dt><dd>3</dd></dl>\n"
      ],
      "text/latex": [
       "\\begin{description*}\n",
       "\\item[Place\\textbackslash{}\\_ID.X.Date] 1\n",
       "\\item[Date] 2\n",
       "\\item[Place\\textbackslash{}\\_ID] 3\n",
       "\\end{description*}\n"
      ],
      "text/markdown": [
       "Place_ID.X.Date\n",
       ":   1Date\n",
       ":   2Place_ID\n",
       ":   3\n",
       "\n"
      ],
      "text/plain": [
       "Place_ID.X.Date            Date        Place_ID \n",
       "              1               2               3 "
      ]
     },
     "metadata": {},
     "output_type": "display_data"
    },
    {
     "data": {
      "text/html": [
       "<style>\n",
       ".dl-inline {width: auto; margin:0; padding: 0}\n",
       ".dl-inline>dt, .dl-inline>dd {float: none; width: auto; display: inline-block}\n",
       ".dl-inline>dt::after {content: \":\\0020\"; padding-right: .5ex}\n",
       ".dl-inline>dt:not(:first-of-type) {padding-left: .5ex}\n",
       "</style><dl class=dl-inline><dt>Place_ID.X.Date</dt><dd>1</dd><dt>Date</dt><dd>2</dd><dt>Place_ID</dt><dd>3</dd></dl>\n"
      ],
      "text/latex": [
       "\\begin{description*}\n",
       "\\item[Place\\textbackslash{}\\_ID.X.Date] 1\n",
       "\\item[Date] 2\n",
       "\\item[Place\\textbackslash{}\\_ID] 3\n",
       "\\end{description*}\n"
      ],
      "text/markdown": [
       "Place_ID.X.Date\n",
       ":   1Date\n",
       ":   2Place_ID\n",
       ":   3\n",
       "\n"
      ],
      "text/plain": [
       "Place_ID.X.Date            Date        Place_ID \n",
       "              1               2               3 "
      ]
     },
     "metadata": {},
     "output_type": "display_data"
    }
   ],
   "source": [
    "is_categoricalTrainSet<-which(sapply(train_data[1,],class)==\"character\")\n",
    "is_categoricalTrainSet\n",
    "\n",
    "is_categoricalTestSet<-which(sapply(test_data[1,],class)==\"character\")\n",
    "is_categoricalTrainSet"
   ]
  },
  {
   "cell_type": "markdown",
   "metadata": {},
   "source": [
    "As it suggest, we have categorical variables of type \"character\" in both datasets, so we need to remove them in order to make our statistics"
   ]
  },
  {
   "cell_type": "code",
   "execution_count": 4,
   "metadata": {
    "vscode": {
     "languageId": "r"
    }
   },
   "outputs": [
    {
     "name": "stdout",
     "output_type": "stream",
     "text": [
      "Training dimension 30557 79"
     ]
    },
    {
     "name": "stdout",
     "output_type": "stream",
     "text": [
      "\n",
      "Testing dimension 16136 74\n",
      " The two sets don't have the same features"
     ]
    },
    {
     "data": {
      "text/html": [
       "<table class=\"dataframe\">\n",
       "<caption>A data.frame: 6 × 79</caption>\n",
       "<thead>\n",
       "\t<tr><th></th><th scope=col>target</th><th scope=col>target_min</th><th scope=col>target_max</th><th scope=col>target_variance</th><th scope=col>target_count</th><th scope=col>precipitable_water_entire_atmosphere</th><th scope=col>relative_humidity_2m_above_ground</th><th scope=col>specific_humidity_2m_above_ground</th><th scope=col>temperature_2m_above_ground</th><th scope=col>u_component_of_wind_10m_above_ground</th><th scope=col>⋯</th><th scope=col>L3_SO2_sensor_zenith_angle</th><th scope=col>L3_SO2_solar_azimuth_angle</th><th scope=col>L3_SO2_solar_zenith_angle</th><th scope=col>L3_CH4_CH4_column_volume_mixing_ratio_dry_air</th><th scope=col>L3_CH4_aerosol_height</th><th scope=col>L3_CH4_aerosol_optical_depth</th><th scope=col>L3_CH4_sensor_azimuth_angle</th><th scope=col>L3_CH4_sensor_zenith_angle</th><th scope=col>L3_CH4_solar_azimuth_angle</th><th scope=col>L3_CH4_solar_zenith_angle</th></tr>\n",
       "\t<tr><th></th><th scope=col>&lt;dbl&gt;</th><th scope=col>&lt;dbl&gt;</th><th scope=col>&lt;dbl&gt;</th><th scope=col>&lt;dbl&gt;</th><th scope=col>&lt;int&gt;</th><th scope=col>&lt;dbl&gt;</th><th scope=col>&lt;dbl&gt;</th><th scope=col>&lt;dbl&gt;</th><th scope=col>&lt;dbl&gt;</th><th scope=col>&lt;dbl&gt;</th><th scope=col>⋯</th><th scope=col>&lt;dbl&gt;</th><th scope=col>&lt;dbl&gt;</th><th scope=col>&lt;dbl&gt;</th><th scope=col>&lt;dbl&gt;</th><th scope=col>&lt;dbl&gt;</th><th scope=col>&lt;dbl&gt;</th><th scope=col>&lt;dbl&gt;</th><th scope=col>&lt;dbl&gt;</th><th scope=col>&lt;dbl&gt;</th><th scope=col>&lt;dbl&gt;</th></tr>\n",
       "</thead>\n",
       "<tbody>\n",
       "\t<tr><th scope=row>1</th><td>38</td><td>23</td><td>53</td><td> 769.50</td><td>92</td><td>11.000000</td><td>60.2</td><td>0.00804000</td><td>18.51684</td><td>1.996377</td><td>⋯</td><td>38.5930174</td><td>-61.75259</td><td>22.36366</td><td>1793.794</td><td>3227.855</td><td>0.01057904</td><td>74.48105</td><td>37.50150</td><td>-62.14264</td><td>22.54512</td></tr>\n",
       "\t<tr><th scope=row>2</th><td>39</td><td>25</td><td>63</td><td>1319.85</td><td>91</td><td>14.600000</td><td>48.8</td><td>0.00839000</td><td>22.54653</td><td>3.330430</td><td>⋯</td><td>59.6249116</td><td>-67.69351</td><td>28.61480</td><td>1789.960</td><td>3384.227</td><td>0.01510438</td><td>75.63004</td><td>55.65749</td><td>-53.86813</td><td>19.29365</td></tr>\n",
       "\t<tr><th scope=row>3</th><td>24</td><td> 8</td><td>56</td><td>1181.96</td><td>96</td><td>16.400000</td><td>33.4</td><td>0.00750000</td><td>27.03103</td><td>5.065727</td><td>⋯</td><td>49.8397137</td><td>-78.34270</td><td>34.29698</td><td>      NA</td><td>      NA</td><td>        NA</td><td>      NA</td><td>      NA</td><td>       NA</td><td>      NA</td></tr>\n",
       "\t<tr><th scope=row>4</th><td>49</td><td>10</td><td>55</td><td>1113.67</td><td>96</td><td> 6.911948</td><td>21.3</td><td>0.00391000</td><td>23.97186</td><td>3.004001</td><td>⋯</td><td>29.1812580</td><td>-73.89659</td><td>30.54545</td><td>      NA</td><td>      NA</td><td>        NA</td><td>      NA</td><td>      NA</td><td>       NA</td><td>      NA</td></tr>\n",
       "\t<tr><th scope=row>5</th><td>21</td><td> 9</td><td>52</td><td>1164.82</td><td>95</td><td>13.900001</td><td>44.7</td><td>0.00535000</td><td>16.81631</td><td>2.621787</td><td>⋯</td><td> 0.7972941</td><td>-68.61248</td><td>26.89969</td><td>      NA</td><td>      NA</td><td>        NA</td><td>      NA</td><td>      NA</td><td>       NA</td><td>      NA</td></tr>\n",
       "\t<tr><th scope=row>6</th><td>28</td><td>10</td><td>52</td><td>1053.22</td><td>94</td><td>14.600000</td><td>42.2</td><td>0.00586156</td><td>19.17489</td><td>2.955603</td><td>⋯</td><td>30.6051757</td><td>-62.13426</td><td>23.41999</td><td>      NA</td><td>      NA</td><td>        NA</td><td>      NA</td><td>      NA</td><td>       NA</td><td>      NA</td></tr>\n",
       "</tbody>\n",
       "</table>\n"
      ],
      "text/latex": [
       "A data.frame: 6 × 79\n",
       "\\begin{tabular}{r|lllllllllllllllllllll}\n",
       "  & target & target\\_min & target\\_max & target\\_variance & target\\_count & precipitable\\_water\\_entire\\_atmosphere & relative\\_humidity\\_2m\\_above\\_ground & specific\\_humidity\\_2m\\_above\\_ground & temperature\\_2m\\_above\\_ground & u\\_component\\_of\\_wind\\_10m\\_above\\_ground & ⋯ & L3\\_SO2\\_sensor\\_zenith\\_angle & L3\\_SO2\\_solar\\_azimuth\\_angle & L3\\_SO2\\_solar\\_zenith\\_angle & L3\\_CH4\\_CH4\\_column\\_volume\\_mixing\\_ratio\\_dry\\_air & L3\\_CH4\\_aerosol\\_height & L3\\_CH4\\_aerosol\\_optical\\_depth & L3\\_CH4\\_sensor\\_azimuth\\_angle & L3\\_CH4\\_sensor\\_zenith\\_angle & L3\\_CH4\\_solar\\_azimuth\\_angle & L3\\_CH4\\_solar\\_zenith\\_angle\\\\\n",
       "  & <dbl> & <dbl> & <dbl> & <dbl> & <int> & <dbl> & <dbl> & <dbl> & <dbl> & <dbl> & ⋯ & <dbl> & <dbl> & <dbl> & <dbl> & <dbl> & <dbl> & <dbl> & <dbl> & <dbl> & <dbl>\\\\\n",
       "\\hline\n",
       "\t1 & 38 & 23 & 53 &  769.50 & 92 & 11.000000 & 60.2 & 0.00804000 & 18.51684 & 1.996377 & ⋯ & 38.5930174 & -61.75259 & 22.36366 & 1793.794 & 3227.855 & 0.01057904 & 74.48105 & 37.50150 & -62.14264 & 22.54512\\\\\n",
       "\t2 & 39 & 25 & 63 & 1319.85 & 91 & 14.600000 & 48.8 & 0.00839000 & 22.54653 & 3.330430 & ⋯ & 59.6249116 & -67.69351 & 28.61480 & 1789.960 & 3384.227 & 0.01510438 & 75.63004 & 55.65749 & -53.86813 & 19.29365\\\\\n",
       "\t3 & 24 &  8 & 56 & 1181.96 & 96 & 16.400000 & 33.4 & 0.00750000 & 27.03103 & 5.065727 & ⋯ & 49.8397137 & -78.34270 & 34.29698 &       NA &       NA &         NA &       NA &       NA &        NA &       NA\\\\\n",
       "\t4 & 49 & 10 & 55 & 1113.67 & 96 &  6.911948 & 21.3 & 0.00391000 & 23.97186 & 3.004001 & ⋯ & 29.1812580 & -73.89659 & 30.54545 &       NA &       NA &         NA &       NA &       NA &        NA &       NA\\\\\n",
       "\t5 & 21 &  9 & 52 & 1164.82 & 95 & 13.900001 & 44.7 & 0.00535000 & 16.81631 & 2.621787 & ⋯ &  0.7972941 & -68.61248 & 26.89969 &       NA &       NA &         NA &       NA &       NA &        NA &       NA\\\\\n",
       "\t6 & 28 & 10 & 52 & 1053.22 & 94 & 14.600000 & 42.2 & 0.00586156 & 19.17489 & 2.955603 & ⋯ & 30.6051757 & -62.13426 & 23.41999 &       NA &       NA &         NA &       NA &       NA &        NA &       NA\\\\\n",
       "\\end{tabular}\n"
      ],
      "text/markdown": [
       "\n",
       "A data.frame: 6 × 79\n",
       "\n",
       "| <!--/--> | target &lt;dbl&gt; | target_min &lt;dbl&gt; | target_max &lt;dbl&gt; | target_variance &lt;dbl&gt; | target_count &lt;int&gt; | precipitable_water_entire_atmosphere &lt;dbl&gt; | relative_humidity_2m_above_ground &lt;dbl&gt; | specific_humidity_2m_above_ground &lt;dbl&gt; | temperature_2m_above_ground &lt;dbl&gt; | u_component_of_wind_10m_above_ground &lt;dbl&gt; | ⋯ ⋯ | L3_SO2_sensor_zenith_angle &lt;dbl&gt; | L3_SO2_solar_azimuth_angle &lt;dbl&gt; | L3_SO2_solar_zenith_angle &lt;dbl&gt; | L3_CH4_CH4_column_volume_mixing_ratio_dry_air &lt;dbl&gt; | L3_CH4_aerosol_height &lt;dbl&gt; | L3_CH4_aerosol_optical_depth &lt;dbl&gt; | L3_CH4_sensor_azimuth_angle &lt;dbl&gt; | L3_CH4_sensor_zenith_angle &lt;dbl&gt; | L3_CH4_solar_azimuth_angle &lt;dbl&gt; | L3_CH4_solar_zenith_angle &lt;dbl&gt; |\n",
       "|---|---|---|---|---|---|---|---|---|---|---|---|---|---|---|---|---|---|---|---|---|---|\n",
       "| 1 | 38 | 23 | 53 |  769.50 | 92 | 11.000000 | 60.2 | 0.00804000 | 18.51684 | 1.996377 | ⋯ | 38.5930174 | -61.75259 | 22.36366 | 1793.794 | 3227.855 | 0.01057904 | 74.48105 | 37.50150 | -62.14264 | 22.54512 |\n",
       "| 2 | 39 | 25 | 63 | 1319.85 | 91 | 14.600000 | 48.8 | 0.00839000 | 22.54653 | 3.330430 | ⋯ | 59.6249116 | -67.69351 | 28.61480 | 1789.960 | 3384.227 | 0.01510438 | 75.63004 | 55.65749 | -53.86813 | 19.29365 |\n",
       "| 3 | 24 |  8 | 56 | 1181.96 | 96 | 16.400000 | 33.4 | 0.00750000 | 27.03103 | 5.065727 | ⋯ | 49.8397137 | -78.34270 | 34.29698 |       NA |       NA |         NA |       NA |       NA |        NA |       NA |\n",
       "| 4 | 49 | 10 | 55 | 1113.67 | 96 |  6.911948 | 21.3 | 0.00391000 | 23.97186 | 3.004001 | ⋯ | 29.1812580 | -73.89659 | 30.54545 |       NA |       NA |         NA |       NA |       NA |        NA |       NA |\n",
       "| 5 | 21 |  9 | 52 | 1164.82 | 95 | 13.900001 | 44.7 | 0.00535000 | 16.81631 | 2.621787 | ⋯ |  0.7972941 | -68.61248 | 26.89969 |       NA |       NA |         NA |       NA |       NA |        NA |       NA |\n",
       "| 6 | 28 | 10 | 52 | 1053.22 | 94 | 14.600000 | 42.2 | 0.00586156 | 19.17489 | 2.955603 | ⋯ | 30.6051757 | -62.13426 | 23.41999 |       NA |       NA |         NA |       NA |       NA |        NA |       NA |\n",
       "\n"
      ],
      "text/plain": [
       "  target target_min target_max target_variance target_count\n",
       "1 38     23         53          769.50         92          \n",
       "2 39     25         63         1319.85         91          \n",
       "3 24      8         56         1181.96         96          \n",
       "4 49     10         55         1113.67         96          \n",
       "5 21      9         52         1164.82         95          \n",
       "6 28     10         52         1053.22         94          \n",
       "  precipitable_water_entire_atmosphere relative_humidity_2m_above_ground\n",
       "1 11.000000                            60.2                             \n",
       "2 14.600000                            48.8                             \n",
       "3 16.400000                            33.4                             \n",
       "4  6.911948                            21.3                             \n",
       "5 13.900001                            44.7                             \n",
       "6 14.600000                            42.2                             \n",
       "  specific_humidity_2m_above_ground temperature_2m_above_ground\n",
       "1 0.00804000                        18.51684                   \n",
       "2 0.00839000                        22.54653                   \n",
       "3 0.00750000                        27.03103                   \n",
       "4 0.00391000                        23.97186                   \n",
       "5 0.00535000                        16.81631                   \n",
       "6 0.00586156                        19.17489                   \n",
       "  u_component_of_wind_10m_above_ground ⋯ L3_SO2_sensor_zenith_angle\n",
       "1 1.996377                             ⋯ 38.5930174                \n",
       "2 3.330430                             ⋯ 59.6249116                \n",
       "3 5.065727                             ⋯ 49.8397137                \n",
       "4 3.004001                             ⋯ 29.1812580                \n",
       "5 2.621787                             ⋯  0.7972941                \n",
       "6 2.955603                             ⋯ 30.6051757                \n",
       "  L3_SO2_solar_azimuth_angle L3_SO2_solar_zenith_angle\n",
       "1 -61.75259                  22.36366                 \n",
       "2 -67.69351                  28.61480                 \n",
       "3 -78.34270                  34.29698                 \n",
       "4 -73.89659                  30.54545                 \n",
       "5 -68.61248                  26.89969                 \n",
       "6 -62.13426                  23.41999                 \n",
       "  L3_CH4_CH4_column_volume_mixing_ratio_dry_air L3_CH4_aerosol_height\n",
       "1 1793.794                                      3227.855             \n",
       "2 1789.960                                      3384.227             \n",
       "3       NA                                            NA             \n",
       "4       NA                                            NA             \n",
       "5       NA                                            NA             \n",
       "6       NA                                            NA             \n",
       "  L3_CH4_aerosol_optical_depth L3_CH4_sensor_azimuth_angle\n",
       "1 0.01057904                   74.48105                   \n",
       "2 0.01510438                   75.63004                   \n",
       "3         NA                         NA                   \n",
       "4         NA                         NA                   \n",
       "5         NA                         NA                   \n",
       "6         NA                         NA                   \n",
       "  L3_CH4_sensor_zenith_angle L3_CH4_solar_azimuth_angle\n",
       "1 37.50150                   -62.14264                 \n",
       "2 55.65749                   -53.86813                 \n",
       "3       NA                          NA                 \n",
       "4       NA                          NA                 \n",
       "5       NA                          NA                 \n",
       "6       NA                          NA                 \n",
       "  L3_CH4_solar_zenith_angle\n",
       "1 22.54512                 \n",
       "2 19.29365                 \n",
       "3       NA                 \n",
       "4       NA                 \n",
       "5       NA                 \n",
       "6       NA                 "
      ]
     },
     "metadata": {},
     "output_type": "display_data"
    },
    {
     "data": {
      "text/html": [
       "<table class=\"dataframe\">\n",
       "<caption>A data.frame: 6 × 74</caption>\n",
       "<thead>\n",
       "\t<tr><th></th><th scope=col>precipitable_water_entire_atmosphere</th><th scope=col>relative_humidity_2m_above_ground</th><th scope=col>specific_humidity_2m_above_ground</th><th scope=col>temperature_2m_above_ground</th><th scope=col>u_component_of_wind_10m_above_ground</th><th scope=col>v_component_of_wind_10m_above_ground</th><th scope=col>L3_NO2_NO2_column_number_density</th><th scope=col>L3_NO2_NO2_slant_column_number_density</th><th scope=col>L3_NO2_absorbing_aerosol_index</th><th scope=col>L3_NO2_cloud_fraction</th><th scope=col>⋯</th><th scope=col>L3_SO2_sensor_zenith_angle</th><th scope=col>L3_SO2_solar_azimuth_angle</th><th scope=col>L3_SO2_solar_zenith_angle</th><th scope=col>L3_CH4_CH4_column_volume_mixing_ratio_dry_air</th><th scope=col>L3_CH4_aerosol_height</th><th scope=col>L3_CH4_aerosol_optical_depth</th><th scope=col>L3_CH4_sensor_azimuth_angle</th><th scope=col>L3_CH4_sensor_zenith_angle</th><th scope=col>L3_CH4_solar_azimuth_angle</th><th scope=col>L3_CH4_solar_zenith_angle</th></tr>\n",
       "\t<tr><th></th><th scope=col>&lt;dbl&gt;</th><th scope=col>&lt;dbl&gt;</th><th scope=col>&lt;dbl&gt;</th><th scope=col>&lt;dbl&gt;</th><th scope=col>&lt;dbl&gt;</th><th scope=col>&lt;dbl&gt;</th><th scope=col>&lt;dbl&gt;</th><th scope=col>&lt;dbl&gt;</th><th scope=col>&lt;dbl&gt;</th><th scope=col>&lt;dbl&gt;</th><th scope=col>⋯</th><th scope=col>&lt;dbl&gt;</th><th scope=col>&lt;dbl&gt;</th><th scope=col>&lt;dbl&gt;</th><th scope=col>&lt;dbl&gt;</th><th scope=col>&lt;dbl&gt;</th><th scope=col>&lt;dbl&gt;</th><th scope=col>&lt;dbl&gt;</th><th scope=col>&lt;dbl&gt;</th><th scope=col>&lt;dbl&gt;</th><th scope=col>&lt;dbl&gt;</th></tr>\n",
       "</thead>\n",
       "<tbody>\n",
       "\t<tr><th scope=row>1</th><td>11.60000</td><td>30.2</td><td>0.00409000</td><td>14.65682</td><td>3.956377</td><td> 0.7126049</td><td>5.338188e-05</td><td>0.0001081872</td><td> 0.4661706</td><td>0.01075178</td><td>⋯</td><td> 1.445658</td><td>-95.98498</td><td>22.94202</td><td>      NA</td><td>      NA</td><td>        NA</td><td>        NA</td><td>      NA</td><td>       NA</td><td>      NA</td></tr>\n",
       "\t<tr><th scope=row>2</th><td>18.30000</td><td>42.9</td><td>0.00595000</td><td>15.02654</td><td>4.230430</td><td> 0.6618921</td><td>5.044761e-05</td><td>0.0001090962</td><td>-0.2136590</td><td>0.02830689</td><td>⋯</td><td>34.641758</td><td>-95.01491</td><td>18.53912</td><td>      NA</td><td>      NA</td><td>        NA</td><td>        NA</td><td>      NA</td><td>       NA</td><td>      NA</td></tr>\n",
       "\t<tr><th scope=row>3</th><td>17.60000</td><td>41.3</td><td>0.00590000</td><td>15.51104</td><td>5.245728</td><td> 1.6405591</td><td>5.035383e-05</td><td>0.0001344593</td><td>-0.2542505</td><td>0.01037382</td><td>⋯</td><td>55.872276</td><td>-94.01542</td><td>14.14082</td><td>      NA</td><td>      NA</td><td>        NA</td><td>        NA</td><td>      NA</td><td>       NA</td><td>      NA</td></tr>\n",
       "\t<tr><th scope=row>4</th><td>15.01195</td><td>53.1</td><td>0.00709000</td><td>14.44186</td><td>5.454001</td><td>-0.1905322</td><td>5.499153e-05</td><td>0.0001546277</td><td>-0.2684903</td><td>0.08879496</td><td>⋯</td><td>59.174188</td><td>-97.24760</td><td>32.73055</td><td>      NA</td><td>      NA</td><td>        NA</td><td>        NA</td><td>      NA</td><td>       NA</td><td>      NA</td></tr>\n",
       "\t<tr><th scope=row>5</th><td> 9.70000</td><td>71.6</td><td>0.00808000</td><td>11.89630</td><td>3.511787</td><td>-0.2794409</td><td>5.508028e-05</td><td>0.0001308539</td><td> 0.4607204</td><td>0.04119687</td><td>⋯</td><td>40.925873</td><td>-96.05727</td><td>28.32053</td><td>1831.262</td><td>3229.119</td><td>0.03106805</td><td>-100.27834</td><td>41.84708</td><td>-95.91074</td><td>28.49879</td></tr>\n",
       "\t<tr><th scope=row>6</th><td>13.40000</td><td>69.3</td><td>0.00828156</td><td>12.74487</td><td>3.945603</td><td>-0.2409253</td><td>5.809714e-05</td><td>0.0001141703</td><td> 0.8438090</td><td>0.02319110</td><td>⋯</td><td>10.836973</td><td>-94.79964</td><td>23.90786</td><td>1837.775</td><td>2994.671</td><td>0.02152895</td><td> -97.42958</td><td>11.77791</td><td>-94.48296</td><td>24.03635</td></tr>\n",
       "</tbody>\n",
       "</table>\n"
      ],
      "text/latex": [
       "A data.frame: 6 × 74\n",
       "\\begin{tabular}{r|lllllllllllllllllllll}\n",
       "  & precipitable\\_water\\_entire\\_atmosphere & relative\\_humidity\\_2m\\_above\\_ground & specific\\_humidity\\_2m\\_above\\_ground & temperature\\_2m\\_above\\_ground & u\\_component\\_of\\_wind\\_10m\\_above\\_ground & v\\_component\\_of\\_wind\\_10m\\_above\\_ground & L3\\_NO2\\_NO2\\_column\\_number\\_density & L3\\_NO2\\_NO2\\_slant\\_column\\_number\\_density & L3\\_NO2\\_absorbing\\_aerosol\\_index & L3\\_NO2\\_cloud\\_fraction & ⋯ & L3\\_SO2\\_sensor\\_zenith\\_angle & L3\\_SO2\\_solar\\_azimuth\\_angle & L3\\_SO2\\_solar\\_zenith\\_angle & L3\\_CH4\\_CH4\\_column\\_volume\\_mixing\\_ratio\\_dry\\_air & L3\\_CH4\\_aerosol\\_height & L3\\_CH4\\_aerosol\\_optical\\_depth & L3\\_CH4\\_sensor\\_azimuth\\_angle & L3\\_CH4\\_sensor\\_zenith\\_angle & L3\\_CH4\\_solar\\_azimuth\\_angle & L3\\_CH4\\_solar\\_zenith\\_angle\\\\\n",
       "  & <dbl> & <dbl> & <dbl> & <dbl> & <dbl> & <dbl> & <dbl> & <dbl> & <dbl> & <dbl> & ⋯ & <dbl> & <dbl> & <dbl> & <dbl> & <dbl> & <dbl> & <dbl> & <dbl> & <dbl> & <dbl>\\\\\n",
       "\\hline\n",
       "\t1 & 11.60000 & 30.2 & 0.00409000 & 14.65682 & 3.956377 &  0.7126049 & 5.338188e-05 & 0.0001081872 &  0.4661706 & 0.01075178 & ⋯ &  1.445658 & -95.98498 & 22.94202 &       NA &       NA &         NA &         NA &       NA &        NA &       NA\\\\\n",
       "\t2 & 18.30000 & 42.9 & 0.00595000 & 15.02654 & 4.230430 &  0.6618921 & 5.044761e-05 & 0.0001090962 & -0.2136590 & 0.02830689 & ⋯ & 34.641758 & -95.01491 & 18.53912 &       NA &       NA &         NA &         NA &       NA &        NA &       NA\\\\\n",
       "\t3 & 17.60000 & 41.3 & 0.00590000 & 15.51104 & 5.245728 &  1.6405591 & 5.035383e-05 & 0.0001344593 & -0.2542505 & 0.01037382 & ⋯ & 55.872276 & -94.01542 & 14.14082 &       NA &       NA &         NA &         NA &       NA &        NA &       NA\\\\\n",
       "\t4 & 15.01195 & 53.1 & 0.00709000 & 14.44186 & 5.454001 & -0.1905322 & 5.499153e-05 & 0.0001546277 & -0.2684903 & 0.08879496 & ⋯ & 59.174188 & -97.24760 & 32.73055 &       NA &       NA &         NA &         NA &       NA &        NA &       NA\\\\\n",
       "\t5 &  9.70000 & 71.6 & 0.00808000 & 11.89630 & 3.511787 & -0.2794409 & 5.508028e-05 & 0.0001308539 &  0.4607204 & 0.04119687 & ⋯ & 40.925873 & -96.05727 & 28.32053 & 1831.262 & 3229.119 & 0.03106805 & -100.27834 & 41.84708 & -95.91074 & 28.49879\\\\\n",
       "\t6 & 13.40000 & 69.3 & 0.00828156 & 12.74487 & 3.945603 & -0.2409253 & 5.809714e-05 & 0.0001141703 &  0.8438090 & 0.02319110 & ⋯ & 10.836973 & -94.79964 & 23.90786 & 1837.775 & 2994.671 & 0.02152895 &  -97.42958 & 11.77791 & -94.48296 & 24.03635\\\\\n",
       "\\end{tabular}\n"
      ],
      "text/markdown": [
       "\n",
       "A data.frame: 6 × 74\n",
       "\n",
       "| <!--/--> | precipitable_water_entire_atmosphere &lt;dbl&gt; | relative_humidity_2m_above_ground &lt;dbl&gt; | specific_humidity_2m_above_ground &lt;dbl&gt; | temperature_2m_above_ground &lt;dbl&gt; | u_component_of_wind_10m_above_ground &lt;dbl&gt; | v_component_of_wind_10m_above_ground &lt;dbl&gt; | L3_NO2_NO2_column_number_density &lt;dbl&gt; | L3_NO2_NO2_slant_column_number_density &lt;dbl&gt; | L3_NO2_absorbing_aerosol_index &lt;dbl&gt; | L3_NO2_cloud_fraction &lt;dbl&gt; | ⋯ ⋯ | L3_SO2_sensor_zenith_angle &lt;dbl&gt; | L3_SO2_solar_azimuth_angle &lt;dbl&gt; | L3_SO2_solar_zenith_angle &lt;dbl&gt; | L3_CH4_CH4_column_volume_mixing_ratio_dry_air &lt;dbl&gt; | L3_CH4_aerosol_height &lt;dbl&gt; | L3_CH4_aerosol_optical_depth &lt;dbl&gt; | L3_CH4_sensor_azimuth_angle &lt;dbl&gt; | L3_CH4_sensor_zenith_angle &lt;dbl&gt; | L3_CH4_solar_azimuth_angle &lt;dbl&gt; | L3_CH4_solar_zenith_angle &lt;dbl&gt; |\n",
       "|---|---|---|---|---|---|---|---|---|---|---|---|---|---|---|---|---|---|---|---|---|---|\n",
       "| 1 | 11.60000 | 30.2 | 0.00409000 | 14.65682 | 3.956377 |  0.7126049 | 5.338188e-05 | 0.0001081872 |  0.4661706 | 0.01075178 | ⋯ |  1.445658 | -95.98498 | 22.94202 |       NA |       NA |         NA |         NA |       NA |        NA |       NA |\n",
       "| 2 | 18.30000 | 42.9 | 0.00595000 | 15.02654 | 4.230430 |  0.6618921 | 5.044761e-05 | 0.0001090962 | -0.2136590 | 0.02830689 | ⋯ | 34.641758 | -95.01491 | 18.53912 |       NA |       NA |         NA |         NA |       NA |        NA |       NA |\n",
       "| 3 | 17.60000 | 41.3 | 0.00590000 | 15.51104 | 5.245728 |  1.6405591 | 5.035383e-05 | 0.0001344593 | -0.2542505 | 0.01037382 | ⋯ | 55.872276 | -94.01542 | 14.14082 |       NA |       NA |         NA |         NA |       NA |        NA |       NA |\n",
       "| 4 | 15.01195 | 53.1 | 0.00709000 | 14.44186 | 5.454001 | -0.1905322 | 5.499153e-05 | 0.0001546277 | -0.2684903 | 0.08879496 | ⋯ | 59.174188 | -97.24760 | 32.73055 |       NA |       NA |         NA |         NA |       NA |        NA |       NA |\n",
       "| 5 |  9.70000 | 71.6 | 0.00808000 | 11.89630 | 3.511787 | -0.2794409 | 5.508028e-05 | 0.0001308539 |  0.4607204 | 0.04119687 | ⋯ | 40.925873 | -96.05727 | 28.32053 | 1831.262 | 3229.119 | 0.03106805 | -100.27834 | 41.84708 | -95.91074 | 28.49879 |\n",
       "| 6 | 13.40000 | 69.3 | 0.00828156 | 12.74487 | 3.945603 | -0.2409253 | 5.809714e-05 | 0.0001141703 |  0.8438090 | 0.02319110 | ⋯ | 10.836973 | -94.79964 | 23.90786 | 1837.775 | 2994.671 | 0.02152895 |  -97.42958 | 11.77791 | -94.48296 | 24.03635 |\n",
       "\n"
      ],
      "text/plain": [
       "  precipitable_water_entire_atmosphere relative_humidity_2m_above_ground\n",
       "1 11.60000                             30.2                             \n",
       "2 18.30000                             42.9                             \n",
       "3 17.60000                             41.3                             \n",
       "4 15.01195                             53.1                             \n",
       "5  9.70000                             71.6                             \n",
       "6 13.40000                             69.3                             \n",
       "  specific_humidity_2m_above_ground temperature_2m_above_ground\n",
       "1 0.00409000                        14.65682                   \n",
       "2 0.00595000                        15.02654                   \n",
       "3 0.00590000                        15.51104                   \n",
       "4 0.00709000                        14.44186                   \n",
       "5 0.00808000                        11.89630                   \n",
       "6 0.00828156                        12.74487                   \n",
       "  u_component_of_wind_10m_above_ground v_component_of_wind_10m_above_ground\n",
       "1 3.956377                              0.7126049                          \n",
       "2 4.230430                              0.6618921                          \n",
       "3 5.245728                              1.6405591                          \n",
       "4 5.454001                             -0.1905322                          \n",
       "5 3.511787                             -0.2794409                          \n",
       "6 3.945603                             -0.2409253                          \n",
       "  L3_NO2_NO2_column_number_density L3_NO2_NO2_slant_column_number_density\n",
       "1 5.338188e-05                     0.0001081872                          \n",
       "2 5.044761e-05                     0.0001090962                          \n",
       "3 5.035383e-05                     0.0001344593                          \n",
       "4 5.499153e-05                     0.0001546277                          \n",
       "5 5.508028e-05                     0.0001308539                          \n",
       "6 5.809714e-05                     0.0001141703                          \n",
       "  L3_NO2_absorbing_aerosol_index L3_NO2_cloud_fraction ⋯\n",
       "1  0.4661706                     0.01075178            ⋯\n",
       "2 -0.2136590                     0.02830689            ⋯\n",
       "3 -0.2542505                     0.01037382            ⋯\n",
       "4 -0.2684903                     0.08879496            ⋯\n",
       "5  0.4607204                     0.04119687            ⋯\n",
       "6  0.8438090                     0.02319110            ⋯\n",
       "  L3_SO2_sensor_zenith_angle L3_SO2_solar_azimuth_angle\n",
       "1  1.445658                  -95.98498                 \n",
       "2 34.641758                  -95.01491                 \n",
       "3 55.872276                  -94.01542                 \n",
       "4 59.174188                  -97.24760                 \n",
       "5 40.925873                  -96.05727                 \n",
       "6 10.836973                  -94.79964                 \n",
       "  L3_SO2_solar_zenith_angle L3_CH4_CH4_column_volume_mixing_ratio_dry_air\n",
       "1 22.94202                        NA                                     \n",
       "2 18.53912                        NA                                     \n",
       "3 14.14082                        NA                                     \n",
       "4 32.73055                        NA                                     \n",
       "5 28.32053                  1831.262                                     \n",
       "6 23.90786                  1837.775                                     \n",
       "  L3_CH4_aerosol_height L3_CH4_aerosol_optical_depth\n",
       "1       NA                      NA                  \n",
       "2       NA                      NA                  \n",
       "3       NA                      NA                  \n",
       "4       NA                      NA                  \n",
       "5 3229.119              0.03106805                  \n",
       "6 2994.671              0.02152895                  \n",
       "  L3_CH4_sensor_azimuth_angle L3_CH4_sensor_zenith_angle\n",
       "1         NA                        NA                  \n",
       "2         NA                        NA                  \n",
       "3         NA                        NA                  \n",
       "4         NA                        NA                  \n",
       "5 -100.27834                  41.84708                  \n",
       "6  -97.42958                  11.77791                  \n",
       "  L3_CH4_solar_azimuth_angle L3_CH4_solar_zenith_angle\n",
       "1        NA                        NA                 \n",
       "2        NA                        NA                 \n",
       "3        NA                        NA                 \n",
       "4        NA                        NA                 \n",
       "5 -95.91074                  28.49879                 \n",
       "6 -94.48296                  24.03635                 "
      ]
     },
     "metadata": {},
     "output_type": "display_data"
    }
   ],
   "source": [
    "training_preprocessed<-train_data[,-is_categoricalTrainSet]\n",
    "testing_preprocessed<-test_data[,-is_categoricalTestSet]\n",
    "\n",
    "cat(\"Training dimension\", dim(training_preprocessed))\n",
    "\n",
    "cat(\"\\nTesting dimension\" , dim(testing_preprocessed))\n",
    "\n",
    "if(identical(names(training_preprocessed), names(testing_preprocessed))==FALSE)\n",
    "{\n",
    "    cat(\"\\n The two sets don't have the same features\")\n",
    "}\n",
    "head(training_preprocessed)\n",
    "head(testing_preprocessed)"
   ]
  },
  {
   "cell_type": "markdown",
   "metadata": {},
   "source": [
    "As we can see, the 3 categorical columns of our datasets were removed, and we are left with numerical variables. But we have still one problem : in order to be coherent, we need to have the same amount of columns in the train dataset and in the test dataset. As we can see with the \"dim()\" function, that is not the case (We have 79 columns) in our training dataset, and 74 in our testing. That's because we have 4 features (\"target_min\", \"target_max\", \"target_variance\", and \"target_count\", which are not present in our testing set. The 5th column which is not present is the \"target\", but we'll define it later when we'll define our inputs and outputs)"
   ]
  },
  {
   "cell_type": "code",
   "execution_count": 5,
   "metadata": {
    "vscode": {
     "languageId": "r"
    }
   },
   "outputs": [
    {
     "data": {
      "text/html": [
       "<style>\n",
       ".list-inline {list-style: none; margin:0; padding: 0}\n",
       ".list-inline>li {display: inline-block}\n",
       ".list-inline>li:not(:last-child)::after {content: \"\\00b7\"; padding: 0 .5ex}\n",
       "</style>\n",
       "<ol class=list-inline><li>30557</li><li>75</li></ol>\n"
      ],
      "text/latex": [
       "\\begin{enumerate*}\n",
       "\\item 30557\n",
       "\\item 75\n",
       "\\end{enumerate*}\n"
      ],
      "text/markdown": [
       "1. 30557\n",
       "2. 75\n",
       "\n",
       "\n"
      ],
      "text/plain": [
       "[1] 30557    75"
      ]
     },
     "metadata": {},
     "output_type": "display_data"
    },
    {
     "data": {
      "text/html": [
       "<style>\n",
       ".list-inline {list-style: none; margin:0; padding: 0}\n",
       ".list-inline>li {display: inline-block}\n",
       ".list-inline>li:not(:last-child)::after {content: \"\\00b7\"; padding: 0 .5ex}\n",
       "</style>\n",
       "<ol class=list-inline><li>16136</li><li>74</li></ol>\n"
      ],
      "text/latex": [
       "\\begin{enumerate*}\n",
       "\\item 16136\n",
       "\\item 74\n",
       "\\end{enumerate*}\n"
      ],
      "text/markdown": [
       "1. 16136\n",
       "2. 74\n",
       "\n",
       "\n"
      ],
      "text/plain": [
       "[1] 16136    74"
      ]
     },
     "metadata": {},
     "output_type": "display_data"
    },
    {
     "data": {
      "text/html": [
       "<table class=\"dataframe\">\n",
       "<caption>A data.frame: 6 × 75</caption>\n",
       "<thead>\n",
       "\t<tr><th></th><th scope=col>target</th><th scope=col>precipitable_water_entire_atmosphere</th><th scope=col>relative_humidity_2m_above_ground</th><th scope=col>specific_humidity_2m_above_ground</th><th scope=col>temperature_2m_above_ground</th><th scope=col>u_component_of_wind_10m_above_ground</th><th scope=col>v_component_of_wind_10m_above_ground</th><th scope=col>L3_NO2_NO2_column_number_density</th><th scope=col>L3_NO2_NO2_slant_column_number_density</th><th scope=col>L3_NO2_absorbing_aerosol_index</th><th scope=col>⋯</th><th scope=col>L3_SO2_sensor_zenith_angle</th><th scope=col>L3_SO2_solar_azimuth_angle</th><th scope=col>L3_SO2_solar_zenith_angle</th><th scope=col>L3_CH4_CH4_column_volume_mixing_ratio_dry_air</th><th scope=col>L3_CH4_aerosol_height</th><th scope=col>L3_CH4_aerosol_optical_depth</th><th scope=col>L3_CH4_sensor_azimuth_angle</th><th scope=col>L3_CH4_sensor_zenith_angle</th><th scope=col>L3_CH4_solar_azimuth_angle</th><th scope=col>L3_CH4_solar_zenith_angle</th></tr>\n",
       "\t<tr><th></th><th scope=col>&lt;dbl&gt;</th><th scope=col>&lt;dbl&gt;</th><th scope=col>&lt;dbl&gt;</th><th scope=col>&lt;dbl&gt;</th><th scope=col>&lt;dbl&gt;</th><th scope=col>&lt;dbl&gt;</th><th scope=col>&lt;dbl&gt;</th><th scope=col>&lt;dbl&gt;</th><th scope=col>&lt;dbl&gt;</th><th scope=col>&lt;dbl&gt;</th><th scope=col>⋯</th><th scope=col>&lt;dbl&gt;</th><th scope=col>&lt;dbl&gt;</th><th scope=col>&lt;dbl&gt;</th><th scope=col>&lt;dbl&gt;</th><th scope=col>&lt;dbl&gt;</th><th scope=col>&lt;dbl&gt;</th><th scope=col>&lt;dbl&gt;</th><th scope=col>&lt;dbl&gt;</th><th scope=col>&lt;dbl&gt;</th><th scope=col>&lt;dbl&gt;</th></tr>\n",
       "</thead>\n",
       "<tbody>\n",
       "\t<tr><th scope=row>1</th><td>38</td><td>11.000000</td><td>60.2</td><td>0.00804000</td><td>18.51684</td><td>1.996377</td><td>-1.2273949</td><td>7.383038e-05</td><td>0.0001558203</td><td>-1.2313303</td><td>⋯</td><td>38.5930174</td><td>-61.75259</td><td>22.36366</td><td>1793.794</td><td>3227.855</td><td>0.01057904</td><td>74.48105</td><td>37.50150</td><td>-62.14264</td><td>22.54512</td></tr>\n",
       "\t<tr><th scope=row>2</th><td>39</td><td>14.600000</td><td>48.8</td><td>0.00839000</td><td>22.54653</td><td>3.330430</td><td>-1.1881078</td><td>7.603261e-05</td><td>0.0001968663</td><td>-1.0825535</td><td>⋯</td><td>59.6249116</td><td>-67.69351</td><td>28.61480</td><td>1789.960</td><td>3384.227</td><td>0.01510438</td><td>75.63004</td><td>55.65749</td><td>-53.86813</td><td>19.29365</td></tr>\n",
       "\t<tr><th scope=row>3</th><td>24</td><td>16.400000</td><td>33.4</td><td>0.00750000</td><td>27.03103</td><td>5.065727</td><td> 3.5005591</td><td>6.660776e-05</td><td>0.0001704180</td><td>-1.0012421</td><td>⋯</td><td>49.8397137</td><td>-78.34270</td><td>34.29698</td><td>      NA</td><td>      NA</td><td>        NA</td><td>      NA</td><td>      NA</td><td>       NA</td><td>      NA</td></tr>\n",
       "\t<tr><th scope=row>4</th><td>49</td><td> 6.911948</td><td>21.3</td><td>0.00391000</td><td>23.97186</td><td>3.004001</td><td> 1.0994678</td><td>8.258178e-05</td><td>0.0001748593</td><td>-0.7770191</td><td>⋯</td><td>29.1812580</td><td>-73.89659</td><td>30.54545</td><td>      NA</td><td>      NA</td><td>        NA</td><td>      NA</td><td>      NA</td><td>       NA</td><td>      NA</td></tr>\n",
       "\t<tr><th scope=row>5</th><td>21</td><td>13.900001</td><td>44.7</td><td>0.00535000</td><td>16.81631</td><td>2.621787</td><td> 2.6705589</td><td>7.038484e-05</td><td>0.0001415511</td><td> 0.3663234</td><td>⋯</td><td> 0.7972941</td><td>-68.61248</td><td>26.89969</td><td>      NA</td><td>      NA</td><td>        NA</td><td>      NA</td><td>      NA</td><td>       NA</td><td>      NA</td></tr>\n",
       "\t<tr><th scope=row>6</th><td>28</td><td>14.600000</td><td>42.2</td><td>0.00586156</td><td>19.17489</td><td>2.955603</td><td> 0.9690747</td><td>6.866629e-05</td><td>0.0001455166</td><td>-0.7253287</td><td>⋯</td><td>30.6051757</td><td>-62.13426</td><td>23.41999</td><td>      NA</td><td>      NA</td><td>        NA</td><td>      NA</td><td>      NA</td><td>       NA</td><td>      NA</td></tr>\n",
       "</tbody>\n",
       "</table>\n"
      ],
      "text/latex": [
       "A data.frame: 6 × 75\n",
       "\\begin{tabular}{r|lllllllllllllllllllll}\n",
       "  & target & precipitable\\_water\\_entire\\_atmosphere & relative\\_humidity\\_2m\\_above\\_ground & specific\\_humidity\\_2m\\_above\\_ground & temperature\\_2m\\_above\\_ground & u\\_component\\_of\\_wind\\_10m\\_above\\_ground & v\\_component\\_of\\_wind\\_10m\\_above\\_ground & L3\\_NO2\\_NO2\\_column\\_number\\_density & L3\\_NO2\\_NO2\\_slant\\_column\\_number\\_density & L3\\_NO2\\_absorbing\\_aerosol\\_index & ⋯ & L3\\_SO2\\_sensor\\_zenith\\_angle & L3\\_SO2\\_solar\\_azimuth\\_angle & L3\\_SO2\\_solar\\_zenith\\_angle & L3\\_CH4\\_CH4\\_column\\_volume\\_mixing\\_ratio\\_dry\\_air & L3\\_CH4\\_aerosol\\_height & L3\\_CH4\\_aerosol\\_optical\\_depth & L3\\_CH4\\_sensor\\_azimuth\\_angle & L3\\_CH4\\_sensor\\_zenith\\_angle & L3\\_CH4\\_solar\\_azimuth\\_angle & L3\\_CH4\\_solar\\_zenith\\_angle\\\\\n",
       "  & <dbl> & <dbl> & <dbl> & <dbl> & <dbl> & <dbl> & <dbl> & <dbl> & <dbl> & <dbl> & ⋯ & <dbl> & <dbl> & <dbl> & <dbl> & <dbl> & <dbl> & <dbl> & <dbl> & <dbl> & <dbl>\\\\\n",
       "\\hline\n",
       "\t1 & 38 & 11.000000 & 60.2 & 0.00804000 & 18.51684 & 1.996377 & -1.2273949 & 7.383038e-05 & 0.0001558203 & -1.2313303 & ⋯ & 38.5930174 & -61.75259 & 22.36366 & 1793.794 & 3227.855 & 0.01057904 & 74.48105 & 37.50150 & -62.14264 & 22.54512\\\\\n",
       "\t2 & 39 & 14.600000 & 48.8 & 0.00839000 & 22.54653 & 3.330430 & -1.1881078 & 7.603261e-05 & 0.0001968663 & -1.0825535 & ⋯ & 59.6249116 & -67.69351 & 28.61480 & 1789.960 & 3384.227 & 0.01510438 & 75.63004 & 55.65749 & -53.86813 & 19.29365\\\\\n",
       "\t3 & 24 & 16.400000 & 33.4 & 0.00750000 & 27.03103 & 5.065727 &  3.5005591 & 6.660776e-05 & 0.0001704180 & -1.0012421 & ⋯ & 49.8397137 & -78.34270 & 34.29698 &       NA &       NA &         NA &       NA &       NA &        NA &       NA\\\\\n",
       "\t4 & 49 &  6.911948 & 21.3 & 0.00391000 & 23.97186 & 3.004001 &  1.0994678 & 8.258178e-05 & 0.0001748593 & -0.7770191 & ⋯ & 29.1812580 & -73.89659 & 30.54545 &       NA &       NA &         NA &       NA &       NA &        NA &       NA\\\\\n",
       "\t5 & 21 & 13.900001 & 44.7 & 0.00535000 & 16.81631 & 2.621787 &  2.6705589 & 7.038484e-05 & 0.0001415511 &  0.3663234 & ⋯ &  0.7972941 & -68.61248 & 26.89969 &       NA &       NA &         NA &       NA &       NA &        NA &       NA\\\\\n",
       "\t6 & 28 & 14.600000 & 42.2 & 0.00586156 & 19.17489 & 2.955603 &  0.9690747 & 6.866629e-05 & 0.0001455166 & -0.7253287 & ⋯ & 30.6051757 & -62.13426 & 23.41999 &       NA &       NA &         NA &       NA &       NA &        NA &       NA\\\\\n",
       "\\end{tabular}\n"
      ],
      "text/markdown": [
       "\n",
       "A data.frame: 6 × 75\n",
       "\n",
       "| <!--/--> | target &lt;dbl&gt; | precipitable_water_entire_atmosphere &lt;dbl&gt; | relative_humidity_2m_above_ground &lt;dbl&gt; | specific_humidity_2m_above_ground &lt;dbl&gt; | temperature_2m_above_ground &lt;dbl&gt; | u_component_of_wind_10m_above_ground &lt;dbl&gt; | v_component_of_wind_10m_above_ground &lt;dbl&gt; | L3_NO2_NO2_column_number_density &lt;dbl&gt; | L3_NO2_NO2_slant_column_number_density &lt;dbl&gt; | L3_NO2_absorbing_aerosol_index &lt;dbl&gt; | ⋯ ⋯ | L3_SO2_sensor_zenith_angle &lt;dbl&gt; | L3_SO2_solar_azimuth_angle &lt;dbl&gt; | L3_SO2_solar_zenith_angle &lt;dbl&gt; | L3_CH4_CH4_column_volume_mixing_ratio_dry_air &lt;dbl&gt; | L3_CH4_aerosol_height &lt;dbl&gt; | L3_CH4_aerosol_optical_depth &lt;dbl&gt; | L3_CH4_sensor_azimuth_angle &lt;dbl&gt; | L3_CH4_sensor_zenith_angle &lt;dbl&gt; | L3_CH4_solar_azimuth_angle &lt;dbl&gt; | L3_CH4_solar_zenith_angle &lt;dbl&gt; |\n",
       "|---|---|---|---|---|---|---|---|---|---|---|---|---|---|---|---|---|---|---|---|---|---|\n",
       "| 1 | 38 | 11.000000 | 60.2 | 0.00804000 | 18.51684 | 1.996377 | -1.2273949 | 7.383038e-05 | 0.0001558203 | -1.2313303 | ⋯ | 38.5930174 | -61.75259 | 22.36366 | 1793.794 | 3227.855 | 0.01057904 | 74.48105 | 37.50150 | -62.14264 | 22.54512 |\n",
       "| 2 | 39 | 14.600000 | 48.8 | 0.00839000 | 22.54653 | 3.330430 | -1.1881078 | 7.603261e-05 | 0.0001968663 | -1.0825535 | ⋯ | 59.6249116 | -67.69351 | 28.61480 | 1789.960 | 3384.227 | 0.01510438 | 75.63004 | 55.65749 | -53.86813 | 19.29365 |\n",
       "| 3 | 24 | 16.400000 | 33.4 | 0.00750000 | 27.03103 | 5.065727 |  3.5005591 | 6.660776e-05 | 0.0001704180 | -1.0012421 | ⋯ | 49.8397137 | -78.34270 | 34.29698 |       NA |       NA |         NA |       NA |       NA |        NA |       NA |\n",
       "| 4 | 49 |  6.911948 | 21.3 | 0.00391000 | 23.97186 | 3.004001 |  1.0994678 | 8.258178e-05 | 0.0001748593 | -0.7770191 | ⋯ | 29.1812580 | -73.89659 | 30.54545 |       NA |       NA |         NA |       NA |       NA |        NA |       NA |\n",
       "| 5 | 21 | 13.900001 | 44.7 | 0.00535000 | 16.81631 | 2.621787 |  2.6705589 | 7.038484e-05 | 0.0001415511 |  0.3663234 | ⋯ |  0.7972941 | -68.61248 | 26.89969 |       NA |       NA |         NA |       NA |       NA |        NA |       NA |\n",
       "| 6 | 28 | 14.600000 | 42.2 | 0.00586156 | 19.17489 | 2.955603 |  0.9690747 | 6.866629e-05 | 0.0001455166 | -0.7253287 | ⋯ | 30.6051757 | -62.13426 | 23.41999 |       NA |       NA |         NA |       NA |       NA |        NA |       NA |\n",
       "\n"
      ],
      "text/plain": [
       "  target precipitable_water_entire_atmosphere relative_humidity_2m_above_ground\n",
       "1 38     11.000000                            60.2                             \n",
       "2 39     14.600000                            48.8                             \n",
       "3 24     16.400000                            33.4                             \n",
       "4 49      6.911948                            21.3                             \n",
       "5 21     13.900001                            44.7                             \n",
       "6 28     14.600000                            42.2                             \n",
       "  specific_humidity_2m_above_ground temperature_2m_above_ground\n",
       "1 0.00804000                        18.51684                   \n",
       "2 0.00839000                        22.54653                   \n",
       "3 0.00750000                        27.03103                   \n",
       "4 0.00391000                        23.97186                   \n",
       "5 0.00535000                        16.81631                   \n",
       "6 0.00586156                        19.17489                   \n",
       "  u_component_of_wind_10m_above_ground v_component_of_wind_10m_above_ground\n",
       "1 1.996377                             -1.2273949                          \n",
       "2 3.330430                             -1.1881078                          \n",
       "3 5.065727                              3.5005591                          \n",
       "4 3.004001                              1.0994678                          \n",
       "5 2.621787                              2.6705589                          \n",
       "6 2.955603                              0.9690747                          \n",
       "  L3_NO2_NO2_column_number_density L3_NO2_NO2_slant_column_number_density\n",
       "1 7.383038e-05                     0.0001558203                          \n",
       "2 7.603261e-05                     0.0001968663                          \n",
       "3 6.660776e-05                     0.0001704180                          \n",
       "4 8.258178e-05                     0.0001748593                          \n",
       "5 7.038484e-05                     0.0001415511                          \n",
       "6 6.866629e-05                     0.0001455166                          \n",
       "  L3_NO2_absorbing_aerosol_index ⋯ L3_SO2_sensor_zenith_angle\n",
       "1 -1.2313303                     ⋯ 38.5930174                \n",
       "2 -1.0825535                     ⋯ 59.6249116                \n",
       "3 -1.0012421                     ⋯ 49.8397137                \n",
       "4 -0.7770191                     ⋯ 29.1812580                \n",
       "5  0.3663234                     ⋯  0.7972941                \n",
       "6 -0.7253287                     ⋯ 30.6051757                \n",
       "  L3_SO2_solar_azimuth_angle L3_SO2_solar_zenith_angle\n",
       "1 -61.75259                  22.36366                 \n",
       "2 -67.69351                  28.61480                 \n",
       "3 -78.34270                  34.29698                 \n",
       "4 -73.89659                  30.54545                 \n",
       "5 -68.61248                  26.89969                 \n",
       "6 -62.13426                  23.41999                 \n",
       "  L3_CH4_CH4_column_volume_mixing_ratio_dry_air L3_CH4_aerosol_height\n",
       "1 1793.794                                      3227.855             \n",
       "2 1789.960                                      3384.227             \n",
       "3       NA                                            NA             \n",
       "4       NA                                            NA             \n",
       "5       NA                                            NA             \n",
       "6       NA                                            NA             \n",
       "  L3_CH4_aerosol_optical_depth L3_CH4_sensor_azimuth_angle\n",
       "1 0.01057904                   74.48105                   \n",
       "2 0.01510438                   75.63004                   \n",
       "3         NA                         NA                   \n",
       "4         NA                         NA                   \n",
       "5         NA                         NA                   \n",
       "6         NA                         NA                   \n",
       "  L3_CH4_sensor_zenith_angle L3_CH4_solar_azimuth_angle\n",
       "1 37.50150                   -62.14264                 \n",
       "2 55.65749                   -53.86813                 \n",
       "3       NA                          NA                 \n",
       "4       NA                          NA                 \n",
       "5       NA                          NA                 \n",
       "6       NA                          NA                 \n",
       "  L3_CH4_solar_zenith_angle\n",
       "1 22.54512                 \n",
       "2 19.29365                 \n",
       "3       NA                 \n",
       "4       NA                 \n",
       "5       NA                 \n",
       "6       NA                 "
      ]
     },
     "metadata": {},
     "output_type": "display_data"
    },
    {
     "data": {
      "text/html": [
       "<table class=\"dataframe\">\n",
       "<caption>A data.frame: 6 × 74</caption>\n",
       "<thead>\n",
       "\t<tr><th></th><th scope=col>precipitable_water_entire_atmosphere</th><th scope=col>relative_humidity_2m_above_ground</th><th scope=col>specific_humidity_2m_above_ground</th><th scope=col>temperature_2m_above_ground</th><th scope=col>u_component_of_wind_10m_above_ground</th><th scope=col>v_component_of_wind_10m_above_ground</th><th scope=col>L3_NO2_NO2_column_number_density</th><th scope=col>L3_NO2_NO2_slant_column_number_density</th><th scope=col>L3_NO2_absorbing_aerosol_index</th><th scope=col>L3_NO2_cloud_fraction</th><th scope=col>⋯</th><th scope=col>L3_SO2_sensor_zenith_angle</th><th scope=col>L3_SO2_solar_azimuth_angle</th><th scope=col>L3_SO2_solar_zenith_angle</th><th scope=col>L3_CH4_CH4_column_volume_mixing_ratio_dry_air</th><th scope=col>L3_CH4_aerosol_height</th><th scope=col>L3_CH4_aerosol_optical_depth</th><th scope=col>L3_CH4_sensor_azimuth_angle</th><th scope=col>L3_CH4_sensor_zenith_angle</th><th scope=col>L3_CH4_solar_azimuth_angle</th><th scope=col>L3_CH4_solar_zenith_angle</th></tr>\n",
       "\t<tr><th></th><th scope=col>&lt;dbl&gt;</th><th scope=col>&lt;dbl&gt;</th><th scope=col>&lt;dbl&gt;</th><th scope=col>&lt;dbl&gt;</th><th scope=col>&lt;dbl&gt;</th><th scope=col>&lt;dbl&gt;</th><th scope=col>&lt;dbl&gt;</th><th scope=col>&lt;dbl&gt;</th><th scope=col>&lt;dbl&gt;</th><th scope=col>&lt;dbl&gt;</th><th scope=col>⋯</th><th scope=col>&lt;dbl&gt;</th><th scope=col>&lt;dbl&gt;</th><th scope=col>&lt;dbl&gt;</th><th scope=col>&lt;dbl&gt;</th><th scope=col>&lt;dbl&gt;</th><th scope=col>&lt;dbl&gt;</th><th scope=col>&lt;dbl&gt;</th><th scope=col>&lt;dbl&gt;</th><th scope=col>&lt;dbl&gt;</th><th scope=col>&lt;dbl&gt;</th></tr>\n",
       "</thead>\n",
       "<tbody>\n",
       "\t<tr><th scope=row>1</th><td>11.60000</td><td>30.2</td><td>0.00409000</td><td>14.65682</td><td>3.956377</td><td> 0.7126049</td><td>5.338188e-05</td><td>0.0001081872</td><td> 0.4661706</td><td>0.01075178</td><td>⋯</td><td> 1.445658</td><td>-95.98498</td><td>22.94202</td><td>      NA</td><td>      NA</td><td>        NA</td><td>        NA</td><td>      NA</td><td>       NA</td><td>      NA</td></tr>\n",
       "\t<tr><th scope=row>2</th><td>18.30000</td><td>42.9</td><td>0.00595000</td><td>15.02654</td><td>4.230430</td><td> 0.6618921</td><td>5.044761e-05</td><td>0.0001090962</td><td>-0.2136590</td><td>0.02830689</td><td>⋯</td><td>34.641758</td><td>-95.01491</td><td>18.53912</td><td>      NA</td><td>      NA</td><td>        NA</td><td>        NA</td><td>      NA</td><td>       NA</td><td>      NA</td></tr>\n",
       "\t<tr><th scope=row>3</th><td>17.60000</td><td>41.3</td><td>0.00590000</td><td>15.51104</td><td>5.245728</td><td> 1.6405591</td><td>5.035383e-05</td><td>0.0001344593</td><td>-0.2542505</td><td>0.01037382</td><td>⋯</td><td>55.872276</td><td>-94.01542</td><td>14.14082</td><td>      NA</td><td>      NA</td><td>        NA</td><td>        NA</td><td>      NA</td><td>       NA</td><td>      NA</td></tr>\n",
       "\t<tr><th scope=row>4</th><td>15.01195</td><td>53.1</td><td>0.00709000</td><td>14.44186</td><td>5.454001</td><td>-0.1905322</td><td>5.499153e-05</td><td>0.0001546277</td><td>-0.2684903</td><td>0.08879496</td><td>⋯</td><td>59.174188</td><td>-97.24760</td><td>32.73055</td><td>      NA</td><td>      NA</td><td>        NA</td><td>        NA</td><td>      NA</td><td>       NA</td><td>      NA</td></tr>\n",
       "\t<tr><th scope=row>5</th><td> 9.70000</td><td>71.6</td><td>0.00808000</td><td>11.89630</td><td>3.511787</td><td>-0.2794409</td><td>5.508028e-05</td><td>0.0001308539</td><td> 0.4607204</td><td>0.04119687</td><td>⋯</td><td>40.925873</td><td>-96.05727</td><td>28.32053</td><td>1831.262</td><td>3229.119</td><td>0.03106805</td><td>-100.27834</td><td>41.84708</td><td>-95.91074</td><td>28.49879</td></tr>\n",
       "\t<tr><th scope=row>6</th><td>13.40000</td><td>69.3</td><td>0.00828156</td><td>12.74487</td><td>3.945603</td><td>-0.2409253</td><td>5.809714e-05</td><td>0.0001141703</td><td> 0.8438090</td><td>0.02319110</td><td>⋯</td><td>10.836973</td><td>-94.79964</td><td>23.90786</td><td>1837.775</td><td>2994.671</td><td>0.02152895</td><td> -97.42958</td><td>11.77791</td><td>-94.48296</td><td>24.03635</td></tr>\n",
       "</tbody>\n",
       "</table>\n"
      ],
      "text/latex": [
       "A data.frame: 6 × 74\n",
       "\\begin{tabular}{r|lllllllllllllllllllll}\n",
       "  & precipitable\\_water\\_entire\\_atmosphere & relative\\_humidity\\_2m\\_above\\_ground & specific\\_humidity\\_2m\\_above\\_ground & temperature\\_2m\\_above\\_ground & u\\_component\\_of\\_wind\\_10m\\_above\\_ground & v\\_component\\_of\\_wind\\_10m\\_above\\_ground & L3\\_NO2\\_NO2\\_column\\_number\\_density & L3\\_NO2\\_NO2\\_slant\\_column\\_number\\_density & L3\\_NO2\\_absorbing\\_aerosol\\_index & L3\\_NO2\\_cloud\\_fraction & ⋯ & L3\\_SO2\\_sensor\\_zenith\\_angle & L3\\_SO2\\_solar\\_azimuth\\_angle & L3\\_SO2\\_solar\\_zenith\\_angle & L3\\_CH4\\_CH4\\_column\\_volume\\_mixing\\_ratio\\_dry\\_air & L3\\_CH4\\_aerosol\\_height & L3\\_CH4\\_aerosol\\_optical\\_depth & L3\\_CH4\\_sensor\\_azimuth\\_angle & L3\\_CH4\\_sensor\\_zenith\\_angle & L3\\_CH4\\_solar\\_azimuth\\_angle & L3\\_CH4\\_solar\\_zenith\\_angle\\\\\n",
       "  & <dbl> & <dbl> & <dbl> & <dbl> & <dbl> & <dbl> & <dbl> & <dbl> & <dbl> & <dbl> & ⋯ & <dbl> & <dbl> & <dbl> & <dbl> & <dbl> & <dbl> & <dbl> & <dbl> & <dbl> & <dbl>\\\\\n",
       "\\hline\n",
       "\t1 & 11.60000 & 30.2 & 0.00409000 & 14.65682 & 3.956377 &  0.7126049 & 5.338188e-05 & 0.0001081872 &  0.4661706 & 0.01075178 & ⋯ &  1.445658 & -95.98498 & 22.94202 &       NA &       NA &         NA &         NA &       NA &        NA &       NA\\\\\n",
       "\t2 & 18.30000 & 42.9 & 0.00595000 & 15.02654 & 4.230430 &  0.6618921 & 5.044761e-05 & 0.0001090962 & -0.2136590 & 0.02830689 & ⋯ & 34.641758 & -95.01491 & 18.53912 &       NA &       NA &         NA &         NA &       NA &        NA &       NA\\\\\n",
       "\t3 & 17.60000 & 41.3 & 0.00590000 & 15.51104 & 5.245728 &  1.6405591 & 5.035383e-05 & 0.0001344593 & -0.2542505 & 0.01037382 & ⋯ & 55.872276 & -94.01542 & 14.14082 &       NA &       NA &         NA &         NA &       NA &        NA &       NA\\\\\n",
       "\t4 & 15.01195 & 53.1 & 0.00709000 & 14.44186 & 5.454001 & -0.1905322 & 5.499153e-05 & 0.0001546277 & -0.2684903 & 0.08879496 & ⋯ & 59.174188 & -97.24760 & 32.73055 &       NA &       NA &         NA &         NA &       NA &        NA &       NA\\\\\n",
       "\t5 &  9.70000 & 71.6 & 0.00808000 & 11.89630 & 3.511787 & -0.2794409 & 5.508028e-05 & 0.0001308539 &  0.4607204 & 0.04119687 & ⋯ & 40.925873 & -96.05727 & 28.32053 & 1831.262 & 3229.119 & 0.03106805 & -100.27834 & 41.84708 & -95.91074 & 28.49879\\\\\n",
       "\t6 & 13.40000 & 69.3 & 0.00828156 & 12.74487 & 3.945603 & -0.2409253 & 5.809714e-05 & 0.0001141703 &  0.8438090 & 0.02319110 & ⋯ & 10.836973 & -94.79964 & 23.90786 & 1837.775 & 2994.671 & 0.02152895 &  -97.42958 & 11.77791 & -94.48296 & 24.03635\\\\\n",
       "\\end{tabular}\n"
      ],
      "text/markdown": [
       "\n",
       "A data.frame: 6 × 74\n",
       "\n",
       "| <!--/--> | precipitable_water_entire_atmosphere &lt;dbl&gt; | relative_humidity_2m_above_ground &lt;dbl&gt; | specific_humidity_2m_above_ground &lt;dbl&gt; | temperature_2m_above_ground &lt;dbl&gt; | u_component_of_wind_10m_above_ground &lt;dbl&gt; | v_component_of_wind_10m_above_ground &lt;dbl&gt; | L3_NO2_NO2_column_number_density &lt;dbl&gt; | L3_NO2_NO2_slant_column_number_density &lt;dbl&gt; | L3_NO2_absorbing_aerosol_index &lt;dbl&gt; | L3_NO2_cloud_fraction &lt;dbl&gt; | ⋯ ⋯ | L3_SO2_sensor_zenith_angle &lt;dbl&gt; | L3_SO2_solar_azimuth_angle &lt;dbl&gt; | L3_SO2_solar_zenith_angle &lt;dbl&gt; | L3_CH4_CH4_column_volume_mixing_ratio_dry_air &lt;dbl&gt; | L3_CH4_aerosol_height &lt;dbl&gt; | L3_CH4_aerosol_optical_depth &lt;dbl&gt; | L3_CH4_sensor_azimuth_angle &lt;dbl&gt; | L3_CH4_sensor_zenith_angle &lt;dbl&gt; | L3_CH4_solar_azimuth_angle &lt;dbl&gt; | L3_CH4_solar_zenith_angle &lt;dbl&gt; |\n",
       "|---|---|---|---|---|---|---|---|---|---|---|---|---|---|---|---|---|---|---|---|---|---|\n",
       "| 1 | 11.60000 | 30.2 | 0.00409000 | 14.65682 | 3.956377 |  0.7126049 | 5.338188e-05 | 0.0001081872 |  0.4661706 | 0.01075178 | ⋯ |  1.445658 | -95.98498 | 22.94202 |       NA |       NA |         NA |         NA |       NA |        NA |       NA |\n",
       "| 2 | 18.30000 | 42.9 | 0.00595000 | 15.02654 | 4.230430 |  0.6618921 | 5.044761e-05 | 0.0001090962 | -0.2136590 | 0.02830689 | ⋯ | 34.641758 | -95.01491 | 18.53912 |       NA |       NA |         NA |         NA |       NA |        NA |       NA |\n",
       "| 3 | 17.60000 | 41.3 | 0.00590000 | 15.51104 | 5.245728 |  1.6405591 | 5.035383e-05 | 0.0001344593 | -0.2542505 | 0.01037382 | ⋯ | 55.872276 | -94.01542 | 14.14082 |       NA |       NA |         NA |         NA |       NA |        NA |       NA |\n",
       "| 4 | 15.01195 | 53.1 | 0.00709000 | 14.44186 | 5.454001 | -0.1905322 | 5.499153e-05 | 0.0001546277 | -0.2684903 | 0.08879496 | ⋯ | 59.174188 | -97.24760 | 32.73055 |       NA |       NA |         NA |         NA |       NA |        NA |       NA |\n",
       "| 5 |  9.70000 | 71.6 | 0.00808000 | 11.89630 | 3.511787 | -0.2794409 | 5.508028e-05 | 0.0001308539 |  0.4607204 | 0.04119687 | ⋯ | 40.925873 | -96.05727 | 28.32053 | 1831.262 | 3229.119 | 0.03106805 | -100.27834 | 41.84708 | -95.91074 | 28.49879 |\n",
       "| 6 | 13.40000 | 69.3 | 0.00828156 | 12.74487 | 3.945603 | -0.2409253 | 5.809714e-05 | 0.0001141703 |  0.8438090 | 0.02319110 | ⋯ | 10.836973 | -94.79964 | 23.90786 | 1837.775 | 2994.671 | 0.02152895 |  -97.42958 | 11.77791 | -94.48296 | 24.03635 |\n",
       "\n"
      ],
      "text/plain": [
       "  precipitable_water_entire_atmosphere relative_humidity_2m_above_ground\n",
       "1 11.60000                             30.2                             \n",
       "2 18.30000                             42.9                             \n",
       "3 17.60000                             41.3                             \n",
       "4 15.01195                             53.1                             \n",
       "5  9.70000                             71.6                             \n",
       "6 13.40000                             69.3                             \n",
       "  specific_humidity_2m_above_ground temperature_2m_above_ground\n",
       "1 0.00409000                        14.65682                   \n",
       "2 0.00595000                        15.02654                   \n",
       "3 0.00590000                        15.51104                   \n",
       "4 0.00709000                        14.44186                   \n",
       "5 0.00808000                        11.89630                   \n",
       "6 0.00828156                        12.74487                   \n",
       "  u_component_of_wind_10m_above_ground v_component_of_wind_10m_above_ground\n",
       "1 3.956377                              0.7126049                          \n",
       "2 4.230430                              0.6618921                          \n",
       "3 5.245728                              1.6405591                          \n",
       "4 5.454001                             -0.1905322                          \n",
       "5 3.511787                             -0.2794409                          \n",
       "6 3.945603                             -0.2409253                          \n",
       "  L3_NO2_NO2_column_number_density L3_NO2_NO2_slant_column_number_density\n",
       "1 5.338188e-05                     0.0001081872                          \n",
       "2 5.044761e-05                     0.0001090962                          \n",
       "3 5.035383e-05                     0.0001344593                          \n",
       "4 5.499153e-05                     0.0001546277                          \n",
       "5 5.508028e-05                     0.0001308539                          \n",
       "6 5.809714e-05                     0.0001141703                          \n",
       "  L3_NO2_absorbing_aerosol_index L3_NO2_cloud_fraction ⋯\n",
       "1  0.4661706                     0.01075178            ⋯\n",
       "2 -0.2136590                     0.02830689            ⋯\n",
       "3 -0.2542505                     0.01037382            ⋯\n",
       "4 -0.2684903                     0.08879496            ⋯\n",
       "5  0.4607204                     0.04119687            ⋯\n",
       "6  0.8438090                     0.02319110            ⋯\n",
       "  L3_SO2_sensor_zenith_angle L3_SO2_solar_azimuth_angle\n",
       "1  1.445658                  -95.98498                 \n",
       "2 34.641758                  -95.01491                 \n",
       "3 55.872276                  -94.01542                 \n",
       "4 59.174188                  -97.24760                 \n",
       "5 40.925873                  -96.05727                 \n",
       "6 10.836973                  -94.79964                 \n",
       "  L3_SO2_solar_zenith_angle L3_CH4_CH4_column_volume_mixing_ratio_dry_air\n",
       "1 22.94202                        NA                                     \n",
       "2 18.53912                        NA                                     \n",
       "3 14.14082                        NA                                     \n",
       "4 32.73055                        NA                                     \n",
       "5 28.32053                  1831.262                                     \n",
       "6 23.90786                  1837.775                                     \n",
       "  L3_CH4_aerosol_height L3_CH4_aerosol_optical_depth\n",
       "1       NA                      NA                  \n",
       "2       NA                      NA                  \n",
       "3       NA                      NA                  \n",
       "4       NA                      NA                  \n",
       "5 3229.119              0.03106805                  \n",
       "6 2994.671              0.02152895                  \n",
       "  L3_CH4_sensor_azimuth_angle L3_CH4_sensor_zenith_angle\n",
       "1         NA                        NA                  \n",
       "2         NA                        NA                  \n",
       "3         NA                        NA                  \n",
       "4         NA                        NA                  \n",
       "5 -100.27834                  41.84708                  \n",
       "6  -97.42958                  11.77791                  \n",
       "  L3_CH4_solar_azimuth_angle L3_CH4_solar_zenith_angle\n",
       "1        NA                        NA                 \n",
       "2        NA                        NA                 \n",
       "3        NA                        NA                 \n",
       "4        NA                        NA                 \n",
       "5 -95.91074                  28.49879                 \n",
       "6 -94.48296                  24.03635                 "
      ]
     },
     "metadata": {},
     "output_type": "display_data"
    }
   ],
   "source": [
    "# Remove the useless variables\n",
    "training<-training_preprocessed[,setdiff(colnames(training_preprocessed), c(\"target_min\", \"target_max\", \"target_variance\", \"target_count\"))]\n",
    "testing<-testing_preprocessed\n",
    "\n",
    "dim(training)\n",
    "dim(testing)\n",
    "head(training)\n",
    "head(testing)"
   ]
  },
  {
   "cell_type": "markdown",
   "metadata": {},
   "source": [
    "Okay now we can see that it worked, but our target variable remained in the training set, but we'll deal with it later"
   ]
  },
  {
   "cell_type": "markdown",
   "metadata": {},
   "source": [
    "# 2 - Now let's see if we have missing values"
   ]
  },
  {
   "cell_type": "code",
   "execution_count": 6,
   "metadata": {
    "vscode": {
     "languageId": "r"
    }
   },
   "outputs": [
    {
     "name": "stdout",
     "output_type": "stream",
     "text": [
      "We have 388262 NA in the training\n"
     ]
    },
    {
     "name": "stdout",
     "output_type": "stream",
     "text": [
      "We have 215137 NA in the testing"
     ]
    }
   ],
   "source": [
    "cat(\"We have\", sum(is.na(training)), \"NA in the training\\n\")\n",
    "cat(\"We have\", sum(is.na(testing)), \"NA in the testing\")"
   ]
  },
  {
   "cell_type": "markdown",
   "metadata": {},
   "source": [
    "We have too much NA, we cannot just remove the lines where we meet them, we will loose too much informations. Instead, we will replace them with the mean values of the columns. "
   ]
  },
  {
   "cell_type": "code",
   "execution_count": 7,
   "metadata": {
    "vscode": {
     "languageId": "r"
    }
   },
   "outputs": [
    {
     "name": "stdout",
     "output_type": "stream",
     "text": [
      "We had 388262 NA in the train data. Now we have 0 NA, and its dimension is : 30557 X 75\n",
      "We had 215137 NA in the test data. Now we have 0 NA, and its dimension is : 16136 X 74"
     ]
    }
   ],
   "source": [
    "replace_na_with_mean_value <- function(vec) {\n",
    "    mean_vec <- mean(vec, na.rm = TRUE)\n",
    "    vec[is.na(vec)] <- mean_vec\n",
    "  return(vec)\n",
    "}\n",
    "\n",
    "trainDataset <- data.frame(lapply(training, replace_na_with_mean_value))\n",
    "testDataset <- data.frame(lapply(testing, replace_na_with_mean_value))\n",
    "\n",
    "cat(\"We had\", sum(is.na(training)), \"NA in the train data. Now we have\", sum(is.na(trainDataset)), \"NA, and its dimension is :\", dim(trainDataset)[1], \"X\", dim(trainDataset)[2])\n",
    "cat(\"\\nWe had\", sum(is.na(testing)), \"NA in the test data. Now we have\", sum(is.na(testDataset)), \"NA, and its dimension is :\",  dim(testDataset)[1], \"X\", dim(testDataset)[2])"
   ]
  },
  {
   "cell_type": "markdown",
   "metadata": {},
   "source": [
    "Now that our datasets are preprocessed, we will initialize our inputs and outputs as we discussed first."
   ]
  },
  {
   "cell_type": "markdown",
   "metadata": {},
   "source": [
    "The output is the target, and the inputs are the other columns. So let's define it"
   ]
  },
  {
   "cell_type": "code",
   "execution_count": 8,
   "metadata": {
    "vscode": {
     "languageId": "r"
    }
   },
   "outputs": [
    {
     "data": {
      "text/html": [
       "30557"
      ],
      "text/latex": [
       "30557"
      ],
      "text/markdown": [
       "30557"
      ],
      "text/plain": [
       "[1] 30557"
      ]
     },
     "metadata": {},
     "output_type": "display_data"
    },
    {
     "data": {
      "text/html": [
       "<style>\n",
       ".list-inline {list-style: none; margin:0; padding: 0}\n",
       ".list-inline>li {display: inline-block}\n",
       ".list-inline>li:not(:last-child)::after {content: \"\\00b7\"; padding: 0 .5ex}\n",
       "</style>\n",
       "<ol class=list-inline><li>30557</li><li>74</li></ol>\n"
      ],
      "text/latex": [
       "\\begin{enumerate*}\n",
       "\\item 30557\n",
       "\\item 74\n",
       "\\end{enumerate*}\n"
      ],
      "text/markdown": [
       "1. 30557\n",
       "2. 74\n",
       "\n",
       "\n"
      ],
      "text/plain": [
       "[1] 30557    74"
      ]
     },
     "metadata": {},
     "output_type": "display_data"
    }
   ],
   "source": [
    "options(repr.plot.width=20, repr.plot.height=10)\n",
    "set.seed(3)\n",
    "\n",
    "X_train<-trainDataset[,setdiff(colnames(trainDataset),\"target\")]\n",
    "Y_train<-trainDataset[,\"target\"] # This is our output\n",
    "X_test<-testDataset        # We don't have target column in test dataset\n",
    "\n",
    "N_train<-nrow(X_train)    #Number of example in train set\n",
    "n_train<-ncol(X_train)    #Number of input variables in train set\n",
    "\n",
    "N_test<-nrow(X_test)    #Number of examples in test set\n",
    "n_test<-ncol(X_test)    #Number of input variables in test set\n",
    "\n",
    "length(Y_train)\n",
    "\n",
    "dim(X_train)"
   ]
  },
  {
   "cell_type": "code",
   "execution_count": 9,
   "metadata": {
    "vscode": {
     "languageId": "r"
    }
   },
   "outputs": [
    {
     "data": {
      "text/html": [
       "<table class=\"dataframe\">\n",
       "<caption>A data.frame: 6 × 75</caption>\n",
       "<thead>\n",
       "\t<tr><th></th><th scope=col>target</th><th scope=col>precipitable_water_entire_atmosphere</th><th scope=col>relative_humidity_2m_above_ground</th><th scope=col>specific_humidity_2m_above_ground</th><th scope=col>temperature_2m_above_ground</th><th scope=col>u_component_of_wind_10m_above_ground</th><th scope=col>v_component_of_wind_10m_above_ground</th><th scope=col>L3_NO2_NO2_column_number_density</th><th scope=col>L3_NO2_NO2_slant_column_number_density</th><th scope=col>L3_NO2_absorbing_aerosol_index</th><th scope=col>⋯</th><th scope=col>L3_SO2_sensor_zenith_angle</th><th scope=col>L3_SO2_solar_azimuth_angle</th><th scope=col>L3_SO2_solar_zenith_angle</th><th scope=col>L3_CH4_CH4_column_volume_mixing_ratio_dry_air</th><th scope=col>L3_CH4_aerosol_height</th><th scope=col>L3_CH4_aerosol_optical_depth</th><th scope=col>L3_CH4_sensor_azimuth_angle</th><th scope=col>L3_CH4_sensor_zenith_angle</th><th scope=col>L3_CH4_solar_azimuth_angle</th><th scope=col>L3_CH4_solar_zenith_angle</th></tr>\n",
       "\t<tr><th></th><th scope=col>&lt;dbl&gt;</th><th scope=col>&lt;dbl&gt;</th><th scope=col>&lt;dbl&gt;</th><th scope=col>&lt;dbl&gt;</th><th scope=col>&lt;dbl&gt;</th><th scope=col>&lt;dbl&gt;</th><th scope=col>&lt;dbl&gt;</th><th scope=col>&lt;dbl&gt;</th><th scope=col>&lt;dbl&gt;</th><th scope=col>&lt;dbl&gt;</th><th scope=col>⋯</th><th scope=col>&lt;dbl&gt;</th><th scope=col>&lt;dbl&gt;</th><th scope=col>&lt;dbl&gt;</th><th scope=col>&lt;dbl&gt;</th><th scope=col>&lt;dbl&gt;</th><th scope=col>&lt;dbl&gt;</th><th scope=col>&lt;dbl&gt;</th><th scope=col>&lt;dbl&gt;</th><th scope=col>&lt;dbl&gt;</th><th scope=col>&lt;dbl&gt;</th></tr>\n",
       "</thead>\n",
       "<tbody>\n",
       "\t<tr><th scope=row>1</th><td>38</td><td>11.000000</td><td>60.2</td><td>0.00804000</td><td>18.51684</td><td>1.996377</td><td>-1.2273949</td><td>7.383038e-05</td><td>0.0001558203</td><td>-1.2313303</td><td>⋯</td><td>38.5930174</td><td>-61.75259</td><td>22.36366</td><td>1793.7936</td><td>3227.855</td><td>0.01057904</td><td>74.481049</td><td>37.50150</td><td>-62.14264</td><td>22.54512</td></tr>\n",
       "\t<tr><th scope=row>2</th><td>39</td><td>14.600000</td><td>48.8</td><td>0.00839000</td><td>22.54653</td><td>3.330430</td><td>-1.1881078</td><td>7.603261e-05</td><td>0.0001968663</td><td>-1.0825535</td><td>⋯</td><td>59.6249116</td><td>-67.69351</td><td>28.61480</td><td>1789.9604</td><td>3384.227</td><td>0.01510438</td><td>75.630043</td><td>55.65749</td><td>-53.86813</td><td>19.29365</td></tr>\n",
       "\t<tr><th scope=row>3</th><td>24</td><td>16.400000</td><td>33.4</td><td>0.00750000</td><td>27.03103</td><td>5.065727</td><td> 3.5005591</td><td>6.660776e-05</td><td>0.0001704180</td><td>-1.0012421</td><td>⋯</td><td>49.8397137</td><td>-78.34270</td><td>34.29698</td><td> 923.2319</td><td>1711.794</td><td>0.01622666</td><td> 1.254703</td><td>13.84904</td><td>-69.09859</td><td>23.10063</td></tr>\n",
       "\t<tr><th scope=row>4</th><td>49</td><td> 6.911948</td><td>21.3</td><td>0.00391000</td><td>23.97186</td><td>3.004001</td><td> 1.0994678</td><td>8.258178e-05</td><td>0.0001748593</td><td>-0.7770191</td><td>⋯</td><td>29.1812580</td><td>-73.89659</td><td>30.54545</td><td> 923.2319</td><td>1711.794</td><td>0.01622666</td><td> 1.254703</td><td>13.84904</td><td>-69.09859</td><td>23.10063</td></tr>\n",
       "\t<tr><th scope=row>5</th><td>21</td><td>13.900001</td><td>44.7</td><td>0.00535000</td><td>16.81631</td><td>2.621787</td><td> 2.6705589</td><td>7.038484e-05</td><td>0.0001415511</td><td> 0.3663234</td><td>⋯</td><td> 0.7972941</td><td>-68.61248</td><td>26.89969</td><td> 923.2319</td><td>1711.794</td><td>0.01622666</td><td> 1.254703</td><td>13.84904</td><td>-69.09859</td><td>23.10063</td></tr>\n",
       "\t<tr><th scope=row>6</th><td>28</td><td>14.600000</td><td>42.2</td><td>0.00586156</td><td>19.17489</td><td>2.955603</td><td> 0.9690747</td><td>6.866629e-05</td><td>0.0001455166</td><td>-0.7253287</td><td>⋯</td><td>30.6051757</td><td>-62.13426</td><td>23.41999</td><td> 923.2319</td><td>1711.794</td><td>0.01622666</td><td> 1.254703</td><td>13.84904</td><td>-69.09859</td><td>23.10063</td></tr>\n",
       "</tbody>\n",
       "</table>\n"
      ],
      "text/latex": [
       "A data.frame: 6 × 75\n",
       "\\begin{tabular}{r|lllllllllllllllllllll}\n",
       "  & target & precipitable\\_water\\_entire\\_atmosphere & relative\\_humidity\\_2m\\_above\\_ground & specific\\_humidity\\_2m\\_above\\_ground & temperature\\_2m\\_above\\_ground & u\\_component\\_of\\_wind\\_10m\\_above\\_ground & v\\_component\\_of\\_wind\\_10m\\_above\\_ground & L3\\_NO2\\_NO2\\_column\\_number\\_density & L3\\_NO2\\_NO2\\_slant\\_column\\_number\\_density & L3\\_NO2\\_absorbing\\_aerosol\\_index & ⋯ & L3\\_SO2\\_sensor\\_zenith\\_angle & L3\\_SO2\\_solar\\_azimuth\\_angle & L3\\_SO2\\_solar\\_zenith\\_angle & L3\\_CH4\\_CH4\\_column\\_volume\\_mixing\\_ratio\\_dry\\_air & L3\\_CH4\\_aerosol\\_height & L3\\_CH4\\_aerosol\\_optical\\_depth & L3\\_CH4\\_sensor\\_azimuth\\_angle & L3\\_CH4\\_sensor\\_zenith\\_angle & L3\\_CH4\\_solar\\_azimuth\\_angle & L3\\_CH4\\_solar\\_zenith\\_angle\\\\\n",
       "  & <dbl> & <dbl> & <dbl> & <dbl> & <dbl> & <dbl> & <dbl> & <dbl> & <dbl> & <dbl> & ⋯ & <dbl> & <dbl> & <dbl> & <dbl> & <dbl> & <dbl> & <dbl> & <dbl> & <dbl> & <dbl>\\\\\n",
       "\\hline\n",
       "\t1 & 38 & 11.000000 & 60.2 & 0.00804000 & 18.51684 & 1.996377 & -1.2273949 & 7.383038e-05 & 0.0001558203 & -1.2313303 & ⋯ & 38.5930174 & -61.75259 & 22.36366 & 1793.7936 & 3227.855 & 0.01057904 & 74.481049 & 37.50150 & -62.14264 & 22.54512\\\\\n",
       "\t2 & 39 & 14.600000 & 48.8 & 0.00839000 & 22.54653 & 3.330430 & -1.1881078 & 7.603261e-05 & 0.0001968663 & -1.0825535 & ⋯ & 59.6249116 & -67.69351 & 28.61480 & 1789.9604 & 3384.227 & 0.01510438 & 75.630043 & 55.65749 & -53.86813 & 19.29365\\\\\n",
       "\t3 & 24 & 16.400000 & 33.4 & 0.00750000 & 27.03103 & 5.065727 &  3.5005591 & 6.660776e-05 & 0.0001704180 & -1.0012421 & ⋯ & 49.8397137 & -78.34270 & 34.29698 &  923.2319 & 1711.794 & 0.01622666 &  1.254703 & 13.84904 & -69.09859 & 23.10063\\\\\n",
       "\t4 & 49 &  6.911948 & 21.3 & 0.00391000 & 23.97186 & 3.004001 &  1.0994678 & 8.258178e-05 & 0.0001748593 & -0.7770191 & ⋯ & 29.1812580 & -73.89659 & 30.54545 &  923.2319 & 1711.794 & 0.01622666 &  1.254703 & 13.84904 & -69.09859 & 23.10063\\\\\n",
       "\t5 & 21 & 13.900001 & 44.7 & 0.00535000 & 16.81631 & 2.621787 &  2.6705589 & 7.038484e-05 & 0.0001415511 &  0.3663234 & ⋯ &  0.7972941 & -68.61248 & 26.89969 &  923.2319 & 1711.794 & 0.01622666 &  1.254703 & 13.84904 & -69.09859 & 23.10063\\\\\n",
       "\t6 & 28 & 14.600000 & 42.2 & 0.00586156 & 19.17489 & 2.955603 &  0.9690747 & 6.866629e-05 & 0.0001455166 & -0.7253287 & ⋯ & 30.6051757 & -62.13426 & 23.41999 &  923.2319 & 1711.794 & 0.01622666 &  1.254703 & 13.84904 & -69.09859 & 23.10063\\\\\n",
       "\\end{tabular}\n"
      ],
      "text/markdown": [
       "\n",
       "A data.frame: 6 × 75\n",
       "\n",
       "| <!--/--> | target &lt;dbl&gt; | precipitable_water_entire_atmosphere &lt;dbl&gt; | relative_humidity_2m_above_ground &lt;dbl&gt; | specific_humidity_2m_above_ground &lt;dbl&gt; | temperature_2m_above_ground &lt;dbl&gt; | u_component_of_wind_10m_above_ground &lt;dbl&gt; | v_component_of_wind_10m_above_ground &lt;dbl&gt; | L3_NO2_NO2_column_number_density &lt;dbl&gt; | L3_NO2_NO2_slant_column_number_density &lt;dbl&gt; | L3_NO2_absorbing_aerosol_index &lt;dbl&gt; | ⋯ ⋯ | L3_SO2_sensor_zenith_angle &lt;dbl&gt; | L3_SO2_solar_azimuth_angle &lt;dbl&gt; | L3_SO2_solar_zenith_angle &lt;dbl&gt; | L3_CH4_CH4_column_volume_mixing_ratio_dry_air &lt;dbl&gt; | L3_CH4_aerosol_height &lt;dbl&gt; | L3_CH4_aerosol_optical_depth &lt;dbl&gt; | L3_CH4_sensor_azimuth_angle &lt;dbl&gt; | L3_CH4_sensor_zenith_angle &lt;dbl&gt; | L3_CH4_solar_azimuth_angle &lt;dbl&gt; | L3_CH4_solar_zenith_angle &lt;dbl&gt; |\n",
       "|---|---|---|---|---|---|---|---|---|---|---|---|---|---|---|---|---|---|---|---|---|---|\n",
       "| 1 | 38 | 11.000000 | 60.2 | 0.00804000 | 18.51684 | 1.996377 | -1.2273949 | 7.383038e-05 | 0.0001558203 | -1.2313303 | ⋯ | 38.5930174 | -61.75259 | 22.36366 | 1793.7936 | 3227.855 | 0.01057904 | 74.481049 | 37.50150 | -62.14264 | 22.54512 |\n",
       "| 2 | 39 | 14.600000 | 48.8 | 0.00839000 | 22.54653 | 3.330430 | -1.1881078 | 7.603261e-05 | 0.0001968663 | -1.0825535 | ⋯ | 59.6249116 | -67.69351 | 28.61480 | 1789.9604 | 3384.227 | 0.01510438 | 75.630043 | 55.65749 | -53.86813 | 19.29365 |\n",
       "| 3 | 24 | 16.400000 | 33.4 | 0.00750000 | 27.03103 | 5.065727 |  3.5005591 | 6.660776e-05 | 0.0001704180 | -1.0012421 | ⋯ | 49.8397137 | -78.34270 | 34.29698 |  923.2319 | 1711.794 | 0.01622666 |  1.254703 | 13.84904 | -69.09859 | 23.10063 |\n",
       "| 4 | 49 |  6.911948 | 21.3 | 0.00391000 | 23.97186 | 3.004001 |  1.0994678 | 8.258178e-05 | 0.0001748593 | -0.7770191 | ⋯ | 29.1812580 | -73.89659 | 30.54545 |  923.2319 | 1711.794 | 0.01622666 |  1.254703 | 13.84904 | -69.09859 | 23.10063 |\n",
       "| 5 | 21 | 13.900001 | 44.7 | 0.00535000 | 16.81631 | 2.621787 |  2.6705589 | 7.038484e-05 | 0.0001415511 |  0.3663234 | ⋯ |  0.7972941 | -68.61248 | 26.89969 |  923.2319 | 1711.794 | 0.01622666 |  1.254703 | 13.84904 | -69.09859 | 23.10063 |\n",
       "| 6 | 28 | 14.600000 | 42.2 | 0.00586156 | 19.17489 | 2.955603 |  0.9690747 | 6.866629e-05 | 0.0001455166 | -0.7253287 | ⋯ | 30.6051757 | -62.13426 | 23.41999 |  923.2319 | 1711.794 | 0.01622666 |  1.254703 | 13.84904 | -69.09859 | 23.10063 |\n",
       "\n"
      ],
      "text/plain": [
       "  target precipitable_water_entire_atmosphere relative_humidity_2m_above_ground\n",
       "1 38     11.000000                            60.2                             \n",
       "2 39     14.600000                            48.8                             \n",
       "3 24     16.400000                            33.4                             \n",
       "4 49      6.911948                            21.3                             \n",
       "5 21     13.900001                            44.7                             \n",
       "6 28     14.600000                            42.2                             \n",
       "  specific_humidity_2m_above_ground temperature_2m_above_ground\n",
       "1 0.00804000                        18.51684                   \n",
       "2 0.00839000                        22.54653                   \n",
       "3 0.00750000                        27.03103                   \n",
       "4 0.00391000                        23.97186                   \n",
       "5 0.00535000                        16.81631                   \n",
       "6 0.00586156                        19.17489                   \n",
       "  u_component_of_wind_10m_above_ground v_component_of_wind_10m_above_ground\n",
       "1 1.996377                             -1.2273949                          \n",
       "2 3.330430                             -1.1881078                          \n",
       "3 5.065727                              3.5005591                          \n",
       "4 3.004001                              1.0994678                          \n",
       "5 2.621787                              2.6705589                          \n",
       "6 2.955603                              0.9690747                          \n",
       "  L3_NO2_NO2_column_number_density L3_NO2_NO2_slant_column_number_density\n",
       "1 7.383038e-05                     0.0001558203                          \n",
       "2 7.603261e-05                     0.0001968663                          \n",
       "3 6.660776e-05                     0.0001704180                          \n",
       "4 8.258178e-05                     0.0001748593                          \n",
       "5 7.038484e-05                     0.0001415511                          \n",
       "6 6.866629e-05                     0.0001455166                          \n",
       "  L3_NO2_absorbing_aerosol_index ⋯ L3_SO2_sensor_zenith_angle\n",
       "1 -1.2313303                     ⋯ 38.5930174                \n",
       "2 -1.0825535                     ⋯ 59.6249116                \n",
       "3 -1.0012421                     ⋯ 49.8397137                \n",
       "4 -0.7770191                     ⋯ 29.1812580                \n",
       "5  0.3663234                     ⋯  0.7972941                \n",
       "6 -0.7253287                     ⋯ 30.6051757                \n",
       "  L3_SO2_solar_azimuth_angle L3_SO2_solar_zenith_angle\n",
       "1 -61.75259                  22.36366                 \n",
       "2 -67.69351                  28.61480                 \n",
       "3 -78.34270                  34.29698                 \n",
       "4 -73.89659                  30.54545                 \n",
       "5 -68.61248                  26.89969                 \n",
       "6 -62.13426                  23.41999                 \n",
       "  L3_CH4_CH4_column_volume_mixing_ratio_dry_air L3_CH4_aerosol_height\n",
       "1 1793.7936                                     3227.855             \n",
       "2 1789.9604                                     3384.227             \n",
       "3  923.2319                                     1711.794             \n",
       "4  923.2319                                     1711.794             \n",
       "5  923.2319                                     1711.794             \n",
       "6  923.2319                                     1711.794             \n",
       "  L3_CH4_aerosol_optical_depth L3_CH4_sensor_azimuth_angle\n",
       "1 0.01057904                   74.481049                  \n",
       "2 0.01510438                   75.630043                  \n",
       "3 0.01622666                    1.254703                  \n",
       "4 0.01622666                    1.254703                  \n",
       "5 0.01622666                    1.254703                  \n",
       "6 0.01622666                    1.254703                  \n",
       "  L3_CH4_sensor_zenith_angle L3_CH4_solar_azimuth_angle\n",
       "1 37.50150                   -62.14264                 \n",
       "2 55.65749                   -53.86813                 \n",
       "3 13.84904                   -69.09859                 \n",
       "4 13.84904                   -69.09859                 \n",
       "5 13.84904                   -69.09859                 \n",
       "6 13.84904                   -69.09859                 \n",
       "  L3_CH4_solar_zenith_angle\n",
       "1 22.54512                 \n",
       "2 19.29365                 \n",
       "3 23.10063                 \n",
       "4 23.10063                 \n",
       "5 23.10063                 \n",
       "6 23.10063                 "
      ]
     },
     "metadata": {},
     "output_type": "display_data"
    },
    {
     "data": {
      "text/html": [
       "<table class=\"dataframe\">\n",
       "<caption>A data.frame: 6 × 74</caption>\n",
       "<thead>\n",
       "\t<tr><th></th><th scope=col>precipitable_water_entire_atmosphere</th><th scope=col>relative_humidity_2m_above_ground</th><th scope=col>specific_humidity_2m_above_ground</th><th scope=col>temperature_2m_above_ground</th><th scope=col>u_component_of_wind_10m_above_ground</th><th scope=col>v_component_of_wind_10m_above_ground</th><th scope=col>L3_NO2_NO2_column_number_density</th><th scope=col>L3_NO2_NO2_slant_column_number_density</th><th scope=col>L3_NO2_absorbing_aerosol_index</th><th scope=col>L3_NO2_cloud_fraction</th><th scope=col>⋯</th><th scope=col>L3_SO2_sensor_zenith_angle</th><th scope=col>L3_SO2_solar_azimuth_angle</th><th scope=col>L3_SO2_solar_zenith_angle</th><th scope=col>L3_CH4_CH4_column_volume_mixing_ratio_dry_air</th><th scope=col>L3_CH4_aerosol_height</th><th scope=col>L3_CH4_aerosol_optical_depth</th><th scope=col>L3_CH4_sensor_azimuth_angle</th><th scope=col>L3_CH4_sensor_zenith_angle</th><th scope=col>L3_CH4_solar_azimuth_angle</th><th scope=col>L3_CH4_solar_zenith_angle</th></tr>\n",
       "\t<tr><th></th><th scope=col>&lt;dbl&gt;</th><th scope=col>&lt;dbl&gt;</th><th scope=col>&lt;dbl&gt;</th><th scope=col>&lt;dbl&gt;</th><th scope=col>&lt;dbl&gt;</th><th scope=col>&lt;dbl&gt;</th><th scope=col>&lt;dbl&gt;</th><th scope=col>&lt;dbl&gt;</th><th scope=col>&lt;dbl&gt;</th><th scope=col>&lt;dbl&gt;</th><th scope=col>⋯</th><th scope=col>&lt;dbl&gt;</th><th scope=col>&lt;dbl&gt;</th><th scope=col>&lt;dbl&gt;</th><th scope=col>&lt;dbl&gt;</th><th scope=col>&lt;dbl&gt;</th><th scope=col>&lt;dbl&gt;</th><th scope=col>&lt;dbl&gt;</th><th scope=col>&lt;dbl&gt;</th><th scope=col>&lt;dbl&gt;</th><th scope=col>&lt;dbl&gt;</th></tr>\n",
       "</thead>\n",
       "<tbody>\n",
       "\t<tr><th scope=row>1</th><td>11.000000</td><td>60.2</td><td>0.00804000</td><td>18.51684</td><td>1.996377</td><td>-1.2273949</td><td>7.383038e-05</td><td>0.0001558203</td><td>-1.2313303</td><td>0.006506796</td><td>⋯</td><td>38.5930174</td><td>-61.75259</td><td>22.36366</td><td>1793.7936</td><td>3227.855</td><td>0.01057904</td><td>74.481049</td><td>37.50150</td><td>-62.14264</td><td>22.54512</td></tr>\n",
       "\t<tr><th scope=row>2</th><td>14.600000</td><td>48.8</td><td>0.00839000</td><td>22.54653</td><td>3.330430</td><td>-1.1881078</td><td>7.603261e-05</td><td>0.0001968663</td><td>-1.0825535</td><td>0.018360030</td><td>⋯</td><td>59.6249116</td><td>-67.69351</td><td>28.61480</td><td>1789.9604</td><td>3384.227</td><td>0.01510438</td><td>75.630043</td><td>55.65749</td><td>-53.86813</td><td>19.29365</td></tr>\n",
       "\t<tr><th scope=row>3</th><td>16.400000</td><td>33.4</td><td>0.00750000</td><td>27.03103</td><td>5.065727</td><td> 3.5005591</td><td>6.660776e-05</td><td>0.0001704180</td><td>-1.0012421</td><td>0.015903901</td><td>⋯</td><td>49.8397137</td><td>-78.34270</td><td>34.29698</td><td> 923.2319</td><td>1711.794</td><td>0.01622666</td><td> 1.254703</td><td>13.84904</td><td>-69.09859</td><td>23.10063</td></tr>\n",
       "\t<tr><th scope=row>4</th><td> 6.911948</td><td>21.3</td><td>0.00391000</td><td>23.97186</td><td>3.004001</td><td> 1.0994678</td><td>8.258178e-05</td><td>0.0001748593</td><td>-0.7770191</td><td>0.055765467</td><td>⋯</td><td>29.1812580</td><td>-73.89659</td><td>30.54545</td><td> 923.2319</td><td>1711.794</td><td>0.01622666</td><td> 1.254703</td><td>13.84904</td><td>-69.09859</td><td>23.10063</td></tr>\n",
       "\t<tr><th scope=row>5</th><td>13.900001</td><td>44.7</td><td>0.00535000</td><td>16.81631</td><td>2.621787</td><td> 2.6705589</td><td>7.038484e-05</td><td>0.0001415511</td><td> 0.3663234</td><td>0.028529577</td><td>⋯</td><td> 0.7972941</td><td>-68.61248</td><td>26.89969</td><td> 923.2319</td><td>1711.794</td><td>0.01622666</td><td> 1.254703</td><td>13.84904</td><td>-69.09859</td><td>23.10063</td></tr>\n",
       "\t<tr><th scope=row>6</th><td>14.600000</td><td>42.2</td><td>0.00586156</td><td>19.17489</td><td>2.955603</td><td> 0.9690747</td><td>6.866629e-05</td><td>0.0001455166</td><td>-0.7253287</td><td>0.070249175</td><td>⋯</td><td>30.6051757</td><td>-62.13426</td><td>23.41999</td><td> 923.2319</td><td>1711.794</td><td>0.01622666</td><td> 1.254703</td><td>13.84904</td><td>-69.09859</td><td>23.10063</td></tr>\n",
       "</tbody>\n",
       "</table>\n"
      ],
      "text/latex": [
       "A data.frame: 6 × 74\n",
       "\\begin{tabular}{r|lllllllllllllllllllll}\n",
       "  & precipitable\\_water\\_entire\\_atmosphere & relative\\_humidity\\_2m\\_above\\_ground & specific\\_humidity\\_2m\\_above\\_ground & temperature\\_2m\\_above\\_ground & u\\_component\\_of\\_wind\\_10m\\_above\\_ground & v\\_component\\_of\\_wind\\_10m\\_above\\_ground & L3\\_NO2\\_NO2\\_column\\_number\\_density & L3\\_NO2\\_NO2\\_slant\\_column\\_number\\_density & L3\\_NO2\\_absorbing\\_aerosol\\_index & L3\\_NO2\\_cloud\\_fraction & ⋯ & L3\\_SO2\\_sensor\\_zenith\\_angle & L3\\_SO2\\_solar\\_azimuth\\_angle & L3\\_SO2\\_solar\\_zenith\\_angle & L3\\_CH4\\_CH4\\_column\\_volume\\_mixing\\_ratio\\_dry\\_air & L3\\_CH4\\_aerosol\\_height & L3\\_CH4\\_aerosol\\_optical\\_depth & L3\\_CH4\\_sensor\\_azimuth\\_angle & L3\\_CH4\\_sensor\\_zenith\\_angle & L3\\_CH4\\_solar\\_azimuth\\_angle & L3\\_CH4\\_solar\\_zenith\\_angle\\\\\n",
       "  & <dbl> & <dbl> & <dbl> & <dbl> & <dbl> & <dbl> & <dbl> & <dbl> & <dbl> & <dbl> & ⋯ & <dbl> & <dbl> & <dbl> & <dbl> & <dbl> & <dbl> & <dbl> & <dbl> & <dbl> & <dbl>\\\\\n",
       "\\hline\n",
       "\t1 & 11.000000 & 60.2 & 0.00804000 & 18.51684 & 1.996377 & -1.2273949 & 7.383038e-05 & 0.0001558203 & -1.2313303 & 0.006506796 & ⋯ & 38.5930174 & -61.75259 & 22.36366 & 1793.7936 & 3227.855 & 0.01057904 & 74.481049 & 37.50150 & -62.14264 & 22.54512\\\\\n",
       "\t2 & 14.600000 & 48.8 & 0.00839000 & 22.54653 & 3.330430 & -1.1881078 & 7.603261e-05 & 0.0001968663 & -1.0825535 & 0.018360030 & ⋯ & 59.6249116 & -67.69351 & 28.61480 & 1789.9604 & 3384.227 & 0.01510438 & 75.630043 & 55.65749 & -53.86813 & 19.29365\\\\\n",
       "\t3 & 16.400000 & 33.4 & 0.00750000 & 27.03103 & 5.065727 &  3.5005591 & 6.660776e-05 & 0.0001704180 & -1.0012421 & 0.015903901 & ⋯ & 49.8397137 & -78.34270 & 34.29698 &  923.2319 & 1711.794 & 0.01622666 &  1.254703 & 13.84904 & -69.09859 & 23.10063\\\\\n",
       "\t4 &  6.911948 & 21.3 & 0.00391000 & 23.97186 & 3.004001 &  1.0994678 & 8.258178e-05 & 0.0001748593 & -0.7770191 & 0.055765467 & ⋯ & 29.1812580 & -73.89659 & 30.54545 &  923.2319 & 1711.794 & 0.01622666 &  1.254703 & 13.84904 & -69.09859 & 23.10063\\\\\n",
       "\t5 & 13.900001 & 44.7 & 0.00535000 & 16.81631 & 2.621787 &  2.6705589 & 7.038484e-05 & 0.0001415511 &  0.3663234 & 0.028529577 & ⋯ &  0.7972941 & -68.61248 & 26.89969 &  923.2319 & 1711.794 & 0.01622666 &  1.254703 & 13.84904 & -69.09859 & 23.10063\\\\\n",
       "\t6 & 14.600000 & 42.2 & 0.00586156 & 19.17489 & 2.955603 &  0.9690747 & 6.866629e-05 & 0.0001455166 & -0.7253287 & 0.070249175 & ⋯ & 30.6051757 & -62.13426 & 23.41999 &  923.2319 & 1711.794 & 0.01622666 &  1.254703 & 13.84904 & -69.09859 & 23.10063\\\\\n",
       "\\end{tabular}\n"
      ],
      "text/markdown": [
       "\n",
       "A data.frame: 6 × 74\n",
       "\n",
       "| <!--/--> | precipitable_water_entire_atmosphere &lt;dbl&gt; | relative_humidity_2m_above_ground &lt;dbl&gt; | specific_humidity_2m_above_ground &lt;dbl&gt; | temperature_2m_above_ground &lt;dbl&gt; | u_component_of_wind_10m_above_ground &lt;dbl&gt; | v_component_of_wind_10m_above_ground &lt;dbl&gt; | L3_NO2_NO2_column_number_density &lt;dbl&gt; | L3_NO2_NO2_slant_column_number_density &lt;dbl&gt; | L3_NO2_absorbing_aerosol_index &lt;dbl&gt; | L3_NO2_cloud_fraction &lt;dbl&gt; | ⋯ ⋯ | L3_SO2_sensor_zenith_angle &lt;dbl&gt; | L3_SO2_solar_azimuth_angle &lt;dbl&gt; | L3_SO2_solar_zenith_angle &lt;dbl&gt; | L3_CH4_CH4_column_volume_mixing_ratio_dry_air &lt;dbl&gt; | L3_CH4_aerosol_height &lt;dbl&gt; | L3_CH4_aerosol_optical_depth &lt;dbl&gt; | L3_CH4_sensor_azimuth_angle &lt;dbl&gt; | L3_CH4_sensor_zenith_angle &lt;dbl&gt; | L3_CH4_solar_azimuth_angle &lt;dbl&gt; | L3_CH4_solar_zenith_angle &lt;dbl&gt; |\n",
       "|---|---|---|---|---|---|---|---|---|---|---|---|---|---|---|---|---|---|---|---|---|---|\n",
       "| 1 | 11.000000 | 60.2 | 0.00804000 | 18.51684 | 1.996377 | -1.2273949 | 7.383038e-05 | 0.0001558203 | -1.2313303 | 0.006506796 | ⋯ | 38.5930174 | -61.75259 | 22.36366 | 1793.7936 | 3227.855 | 0.01057904 | 74.481049 | 37.50150 | -62.14264 | 22.54512 |\n",
       "| 2 | 14.600000 | 48.8 | 0.00839000 | 22.54653 | 3.330430 | -1.1881078 | 7.603261e-05 | 0.0001968663 | -1.0825535 | 0.018360030 | ⋯ | 59.6249116 | -67.69351 | 28.61480 | 1789.9604 | 3384.227 | 0.01510438 | 75.630043 | 55.65749 | -53.86813 | 19.29365 |\n",
       "| 3 | 16.400000 | 33.4 | 0.00750000 | 27.03103 | 5.065727 |  3.5005591 | 6.660776e-05 | 0.0001704180 | -1.0012421 | 0.015903901 | ⋯ | 49.8397137 | -78.34270 | 34.29698 |  923.2319 | 1711.794 | 0.01622666 |  1.254703 | 13.84904 | -69.09859 | 23.10063 |\n",
       "| 4 |  6.911948 | 21.3 | 0.00391000 | 23.97186 | 3.004001 |  1.0994678 | 8.258178e-05 | 0.0001748593 | -0.7770191 | 0.055765467 | ⋯ | 29.1812580 | -73.89659 | 30.54545 |  923.2319 | 1711.794 | 0.01622666 |  1.254703 | 13.84904 | -69.09859 | 23.10063 |\n",
       "| 5 | 13.900001 | 44.7 | 0.00535000 | 16.81631 | 2.621787 |  2.6705589 | 7.038484e-05 | 0.0001415511 |  0.3663234 | 0.028529577 | ⋯ |  0.7972941 | -68.61248 | 26.89969 |  923.2319 | 1711.794 | 0.01622666 |  1.254703 | 13.84904 | -69.09859 | 23.10063 |\n",
       "| 6 | 14.600000 | 42.2 | 0.00586156 | 19.17489 | 2.955603 |  0.9690747 | 6.866629e-05 | 0.0001455166 | -0.7253287 | 0.070249175 | ⋯ | 30.6051757 | -62.13426 | 23.41999 |  923.2319 | 1711.794 | 0.01622666 |  1.254703 | 13.84904 | -69.09859 | 23.10063 |\n",
       "\n"
      ],
      "text/plain": [
       "  precipitable_water_entire_atmosphere relative_humidity_2m_above_ground\n",
       "1 11.000000                            60.2                             \n",
       "2 14.600000                            48.8                             \n",
       "3 16.400000                            33.4                             \n",
       "4  6.911948                            21.3                             \n",
       "5 13.900001                            44.7                             \n",
       "6 14.600000                            42.2                             \n",
       "  specific_humidity_2m_above_ground temperature_2m_above_ground\n",
       "1 0.00804000                        18.51684                   \n",
       "2 0.00839000                        22.54653                   \n",
       "3 0.00750000                        27.03103                   \n",
       "4 0.00391000                        23.97186                   \n",
       "5 0.00535000                        16.81631                   \n",
       "6 0.00586156                        19.17489                   \n",
       "  u_component_of_wind_10m_above_ground v_component_of_wind_10m_above_ground\n",
       "1 1.996377                             -1.2273949                          \n",
       "2 3.330430                             -1.1881078                          \n",
       "3 5.065727                              3.5005591                          \n",
       "4 3.004001                              1.0994678                          \n",
       "5 2.621787                              2.6705589                          \n",
       "6 2.955603                              0.9690747                          \n",
       "  L3_NO2_NO2_column_number_density L3_NO2_NO2_slant_column_number_density\n",
       "1 7.383038e-05                     0.0001558203                          \n",
       "2 7.603261e-05                     0.0001968663                          \n",
       "3 6.660776e-05                     0.0001704180                          \n",
       "4 8.258178e-05                     0.0001748593                          \n",
       "5 7.038484e-05                     0.0001415511                          \n",
       "6 6.866629e-05                     0.0001455166                          \n",
       "  L3_NO2_absorbing_aerosol_index L3_NO2_cloud_fraction ⋯\n",
       "1 -1.2313303                     0.006506796           ⋯\n",
       "2 -1.0825535                     0.018360030           ⋯\n",
       "3 -1.0012421                     0.015903901           ⋯\n",
       "4 -0.7770191                     0.055765467           ⋯\n",
       "5  0.3663234                     0.028529577           ⋯\n",
       "6 -0.7253287                     0.070249175           ⋯\n",
       "  L3_SO2_sensor_zenith_angle L3_SO2_solar_azimuth_angle\n",
       "1 38.5930174                 -61.75259                 \n",
       "2 59.6249116                 -67.69351                 \n",
       "3 49.8397137                 -78.34270                 \n",
       "4 29.1812580                 -73.89659                 \n",
       "5  0.7972941                 -68.61248                 \n",
       "6 30.6051757                 -62.13426                 \n",
       "  L3_SO2_solar_zenith_angle L3_CH4_CH4_column_volume_mixing_ratio_dry_air\n",
       "1 22.36366                  1793.7936                                    \n",
       "2 28.61480                  1789.9604                                    \n",
       "3 34.29698                   923.2319                                    \n",
       "4 30.54545                   923.2319                                    \n",
       "5 26.89969                   923.2319                                    \n",
       "6 23.41999                   923.2319                                    \n",
       "  L3_CH4_aerosol_height L3_CH4_aerosol_optical_depth\n",
       "1 3227.855              0.01057904                  \n",
       "2 3384.227              0.01510438                  \n",
       "3 1711.794              0.01622666                  \n",
       "4 1711.794              0.01622666                  \n",
       "5 1711.794              0.01622666                  \n",
       "6 1711.794              0.01622666                  \n",
       "  L3_CH4_sensor_azimuth_angle L3_CH4_sensor_zenith_angle\n",
       "1 74.481049                   37.50150                  \n",
       "2 75.630043                   55.65749                  \n",
       "3  1.254703                   13.84904                  \n",
       "4  1.254703                   13.84904                  \n",
       "5  1.254703                   13.84904                  \n",
       "6  1.254703                   13.84904                  \n",
       "  L3_CH4_solar_azimuth_angle L3_CH4_solar_zenith_angle\n",
       "1 -62.14264                  22.54512                 \n",
       "2 -53.86813                  19.29365                 \n",
       "3 -69.09859                  23.10063                 \n",
       "4 -69.09859                  23.10063                 \n",
       "5 -69.09859                  23.10063                 \n",
       "6 -69.09859                  23.10063                 "
      ]
     },
     "metadata": {},
     "output_type": "display_data"
    },
    {
     "data": {
      "text/html": [
       "<table class=\"dataframe\">\n",
       "<caption>A data.frame: 6 × 74</caption>\n",
       "<thead>\n",
       "\t<tr><th></th><th scope=col>precipitable_water_entire_atmosphere</th><th scope=col>relative_humidity_2m_above_ground</th><th scope=col>specific_humidity_2m_above_ground</th><th scope=col>temperature_2m_above_ground</th><th scope=col>u_component_of_wind_10m_above_ground</th><th scope=col>v_component_of_wind_10m_above_ground</th><th scope=col>L3_NO2_NO2_column_number_density</th><th scope=col>L3_NO2_NO2_slant_column_number_density</th><th scope=col>L3_NO2_absorbing_aerosol_index</th><th scope=col>L3_NO2_cloud_fraction</th><th scope=col>⋯</th><th scope=col>L3_SO2_sensor_zenith_angle</th><th scope=col>L3_SO2_solar_azimuth_angle</th><th scope=col>L3_SO2_solar_zenith_angle</th><th scope=col>L3_CH4_CH4_column_volume_mixing_ratio_dry_air</th><th scope=col>L3_CH4_aerosol_height</th><th scope=col>L3_CH4_aerosol_optical_depth</th><th scope=col>L3_CH4_sensor_azimuth_angle</th><th scope=col>L3_CH4_sensor_zenith_angle</th><th scope=col>L3_CH4_solar_azimuth_angle</th><th scope=col>L3_CH4_solar_zenith_angle</th></tr>\n",
       "\t<tr><th></th><th scope=col>&lt;dbl&gt;</th><th scope=col>&lt;dbl&gt;</th><th scope=col>&lt;dbl&gt;</th><th scope=col>&lt;dbl&gt;</th><th scope=col>&lt;dbl&gt;</th><th scope=col>&lt;dbl&gt;</th><th scope=col>&lt;dbl&gt;</th><th scope=col>&lt;dbl&gt;</th><th scope=col>&lt;dbl&gt;</th><th scope=col>&lt;dbl&gt;</th><th scope=col>⋯</th><th scope=col>&lt;dbl&gt;</th><th scope=col>&lt;dbl&gt;</th><th scope=col>&lt;dbl&gt;</th><th scope=col>&lt;dbl&gt;</th><th scope=col>&lt;dbl&gt;</th><th scope=col>&lt;dbl&gt;</th><th scope=col>&lt;dbl&gt;</th><th scope=col>&lt;dbl&gt;</th><th scope=col>&lt;dbl&gt;</th><th scope=col>&lt;dbl&gt;</th></tr>\n",
       "</thead>\n",
       "<tbody>\n",
       "\t<tr><th scope=row>1</th><td>11.60000</td><td>30.2</td><td>0.00409000</td><td>14.65682</td><td>3.956377</td><td> 0.7126049</td><td>5.338188e-05</td><td>0.0001081872</td><td> 0.4661706</td><td>0.01075178</td><td>⋯</td><td> 1.445658</td><td>-95.98498</td><td>22.94202</td><td> 945.231</td><td>1766.062</td><td>0.01812192</td><td>   0.5874307</td><td>14.05384</td><td>-71.28798</td><td>24.11399</td></tr>\n",
       "\t<tr><th scope=row>2</th><td>18.30000</td><td>42.9</td><td>0.00595000</td><td>15.02654</td><td>4.230430</td><td> 0.6618921</td><td>5.044761e-05</td><td>0.0001090962</td><td>-0.2136590</td><td>0.02830689</td><td>⋯</td><td>34.641758</td><td>-95.01491</td><td>18.53912</td><td> 945.231</td><td>1766.062</td><td>0.01812192</td><td>   0.5874307</td><td>14.05384</td><td>-71.28798</td><td>24.11399</td></tr>\n",
       "\t<tr><th scope=row>3</th><td>17.60000</td><td>41.3</td><td>0.00590000</td><td>15.51104</td><td>5.245728</td><td> 1.6405591</td><td>5.035383e-05</td><td>0.0001344593</td><td>-0.2542505</td><td>0.01037382</td><td>⋯</td><td>55.872276</td><td>-94.01542</td><td>14.14082</td><td> 945.231</td><td>1766.062</td><td>0.01812192</td><td>   0.5874307</td><td>14.05384</td><td>-71.28798</td><td>24.11399</td></tr>\n",
       "\t<tr><th scope=row>4</th><td>15.01195</td><td>53.1</td><td>0.00709000</td><td>14.44186</td><td>5.454001</td><td>-0.1905322</td><td>5.499153e-05</td><td>0.0001546277</td><td>-0.2684903</td><td>0.08879496</td><td>⋯</td><td>59.174188</td><td>-97.24760</td><td>32.73055</td><td> 945.231</td><td>1766.062</td><td>0.01812192</td><td>   0.5874307</td><td>14.05384</td><td>-71.28798</td><td>24.11399</td></tr>\n",
       "\t<tr><th scope=row>5</th><td> 9.70000</td><td>71.6</td><td>0.00808000</td><td>11.89630</td><td>3.511787</td><td>-0.2794409</td><td>5.508028e-05</td><td>0.0001308539</td><td> 0.4607204</td><td>0.04119687</td><td>⋯</td><td>40.925873</td><td>-96.05727</td><td>28.32053</td><td>1831.262</td><td>3229.119</td><td>0.03106805</td><td>-100.2783432</td><td>41.84708</td><td>-95.91074</td><td>28.49879</td></tr>\n",
       "\t<tr><th scope=row>6</th><td>13.40000</td><td>69.3</td><td>0.00828156</td><td>12.74487</td><td>3.945603</td><td>-0.2409253</td><td>5.809714e-05</td><td>0.0001141703</td><td> 0.8438090</td><td>0.02319110</td><td>⋯</td><td>10.836973</td><td>-94.79964</td><td>23.90786</td><td>1837.775</td><td>2994.671</td><td>0.02152895</td><td> -97.4295780</td><td>11.77791</td><td>-94.48296</td><td>24.03635</td></tr>\n",
       "</tbody>\n",
       "</table>\n"
      ],
      "text/latex": [
       "A data.frame: 6 × 74\n",
       "\\begin{tabular}{r|lllllllllllllllllllll}\n",
       "  & precipitable\\_water\\_entire\\_atmosphere & relative\\_humidity\\_2m\\_above\\_ground & specific\\_humidity\\_2m\\_above\\_ground & temperature\\_2m\\_above\\_ground & u\\_component\\_of\\_wind\\_10m\\_above\\_ground & v\\_component\\_of\\_wind\\_10m\\_above\\_ground & L3\\_NO2\\_NO2\\_column\\_number\\_density & L3\\_NO2\\_NO2\\_slant\\_column\\_number\\_density & L3\\_NO2\\_absorbing\\_aerosol\\_index & L3\\_NO2\\_cloud\\_fraction & ⋯ & L3\\_SO2\\_sensor\\_zenith\\_angle & L3\\_SO2\\_solar\\_azimuth\\_angle & L3\\_SO2\\_solar\\_zenith\\_angle & L3\\_CH4\\_CH4\\_column\\_volume\\_mixing\\_ratio\\_dry\\_air & L3\\_CH4\\_aerosol\\_height & L3\\_CH4\\_aerosol\\_optical\\_depth & L3\\_CH4\\_sensor\\_azimuth\\_angle & L3\\_CH4\\_sensor\\_zenith\\_angle & L3\\_CH4\\_solar\\_azimuth\\_angle & L3\\_CH4\\_solar\\_zenith\\_angle\\\\\n",
       "  & <dbl> & <dbl> & <dbl> & <dbl> & <dbl> & <dbl> & <dbl> & <dbl> & <dbl> & <dbl> & ⋯ & <dbl> & <dbl> & <dbl> & <dbl> & <dbl> & <dbl> & <dbl> & <dbl> & <dbl> & <dbl>\\\\\n",
       "\\hline\n",
       "\t1 & 11.60000 & 30.2 & 0.00409000 & 14.65682 & 3.956377 &  0.7126049 & 5.338188e-05 & 0.0001081872 &  0.4661706 & 0.01075178 & ⋯ &  1.445658 & -95.98498 & 22.94202 &  945.231 & 1766.062 & 0.01812192 &    0.5874307 & 14.05384 & -71.28798 & 24.11399\\\\\n",
       "\t2 & 18.30000 & 42.9 & 0.00595000 & 15.02654 & 4.230430 &  0.6618921 & 5.044761e-05 & 0.0001090962 & -0.2136590 & 0.02830689 & ⋯ & 34.641758 & -95.01491 & 18.53912 &  945.231 & 1766.062 & 0.01812192 &    0.5874307 & 14.05384 & -71.28798 & 24.11399\\\\\n",
       "\t3 & 17.60000 & 41.3 & 0.00590000 & 15.51104 & 5.245728 &  1.6405591 & 5.035383e-05 & 0.0001344593 & -0.2542505 & 0.01037382 & ⋯ & 55.872276 & -94.01542 & 14.14082 &  945.231 & 1766.062 & 0.01812192 &    0.5874307 & 14.05384 & -71.28798 & 24.11399\\\\\n",
       "\t4 & 15.01195 & 53.1 & 0.00709000 & 14.44186 & 5.454001 & -0.1905322 & 5.499153e-05 & 0.0001546277 & -0.2684903 & 0.08879496 & ⋯ & 59.174188 & -97.24760 & 32.73055 &  945.231 & 1766.062 & 0.01812192 &    0.5874307 & 14.05384 & -71.28798 & 24.11399\\\\\n",
       "\t5 &  9.70000 & 71.6 & 0.00808000 & 11.89630 & 3.511787 & -0.2794409 & 5.508028e-05 & 0.0001308539 &  0.4607204 & 0.04119687 & ⋯ & 40.925873 & -96.05727 & 28.32053 & 1831.262 & 3229.119 & 0.03106805 & -100.2783432 & 41.84708 & -95.91074 & 28.49879\\\\\n",
       "\t6 & 13.40000 & 69.3 & 0.00828156 & 12.74487 & 3.945603 & -0.2409253 & 5.809714e-05 & 0.0001141703 &  0.8438090 & 0.02319110 & ⋯ & 10.836973 & -94.79964 & 23.90786 & 1837.775 & 2994.671 & 0.02152895 &  -97.4295780 & 11.77791 & -94.48296 & 24.03635\\\\\n",
       "\\end{tabular}\n"
      ],
      "text/markdown": [
       "\n",
       "A data.frame: 6 × 74\n",
       "\n",
       "| <!--/--> | precipitable_water_entire_atmosphere &lt;dbl&gt; | relative_humidity_2m_above_ground &lt;dbl&gt; | specific_humidity_2m_above_ground &lt;dbl&gt; | temperature_2m_above_ground &lt;dbl&gt; | u_component_of_wind_10m_above_ground &lt;dbl&gt; | v_component_of_wind_10m_above_ground &lt;dbl&gt; | L3_NO2_NO2_column_number_density &lt;dbl&gt; | L3_NO2_NO2_slant_column_number_density &lt;dbl&gt; | L3_NO2_absorbing_aerosol_index &lt;dbl&gt; | L3_NO2_cloud_fraction &lt;dbl&gt; | ⋯ ⋯ | L3_SO2_sensor_zenith_angle &lt;dbl&gt; | L3_SO2_solar_azimuth_angle &lt;dbl&gt; | L3_SO2_solar_zenith_angle &lt;dbl&gt; | L3_CH4_CH4_column_volume_mixing_ratio_dry_air &lt;dbl&gt; | L3_CH4_aerosol_height &lt;dbl&gt; | L3_CH4_aerosol_optical_depth &lt;dbl&gt; | L3_CH4_sensor_azimuth_angle &lt;dbl&gt; | L3_CH4_sensor_zenith_angle &lt;dbl&gt; | L3_CH4_solar_azimuth_angle &lt;dbl&gt; | L3_CH4_solar_zenith_angle &lt;dbl&gt; |\n",
       "|---|---|---|---|---|---|---|---|---|---|---|---|---|---|---|---|---|---|---|---|---|---|\n",
       "| 1 | 11.60000 | 30.2 | 0.00409000 | 14.65682 | 3.956377 |  0.7126049 | 5.338188e-05 | 0.0001081872 |  0.4661706 | 0.01075178 | ⋯ |  1.445658 | -95.98498 | 22.94202 |  945.231 | 1766.062 | 0.01812192 |    0.5874307 | 14.05384 | -71.28798 | 24.11399 |\n",
       "| 2 | 18.30000 | 42.9 | 0.00595000 | 15.02654 | 4.230430 |  0.6618921 | 5.044761e-05 | 0.0001090962 | -0.2136590 | 0.02830689 | ⋯ | 34.641758 | -95.01491 | 18.53912 |  945.231 | 1766.062 | 0.01812192 |    0.5874307 | 14.05384 | -71.28798 | 24.11399 |\n",
       "| 3 | 17.60000 | 41.3 | 0.00590000 | 15.51104 | 5.245728 |  1.6405591 | 5.035383e-05 | 0.0001344593 | -0.2542505 | 0.01037382 | ⋯ | 55.872276 | -94.01542 | 14.14082 |  945.231 | 1766.062 | 0.01812192 |    0.5874307 | 14.05384 | -71.28798 | 24.11399 |\n",
       "| 4 | 15.01195 | 53.1 | 0.00709000 | 14.44186 | 5.454001 | -0.1905322 | 5.499153e-05 | 0.0001546277 | -0.2684903 | 0.08879496 | ⋯ | 59.174188 | -97.24760 | 32.73055 |  945.231 | 1766.062 | 0.01812192 |    0.5874307 | 14.05384 | -71.28798 | 24.11399 |\n",
       "| 5 |  9.70000 | 71.6 | 0.00808000 | 11.89630 | 3.511787 | -0.2794409 | 5.508028e-05 | 0.0001308539 |  0.4607204 | 0.04119687 | ⋯ | 40.925873 | -96.05727 | 28.32053 | 1831.262 | 3229.119 | 0.03106805 | -100.2783432 | 41.84708 | -95.91074 | 28.49879 |\n",
       "| 6 | 13.40000 | 69.3 | 0.00828156 | 12.74487 | 3.945603 | -0.2409253 | 5.809714e-05 | 0.0001141703 |  0.8438090 | 0.02319110 | ⋯ | 10.836973 | -94.79964 | 23.90786 | 1837.775 | 2994.671 | 0.02152895 |  -97.4295780 | 11.77791 | -94.48296 | 24.03635 |\n",
       "\n"
      ],
      "text/plain": [
       "  precipitable_water_entire_atmosphere relative_humidity_2m_above_ground\n",
       "1 11.60000                             30.2                             \n",
       "2 18.30000                             42.9                             \n",
       "3 17.60000                             41.3                             \n",
       "4 15.01195                             53.1                             \n",
       "5  9.70000                             71.6                             \n",
       "6 13.40000                             69.3                             \n",
       "  specific_humidity_2m_above_ground temperature_2m_above_ground\n",
       "1 0.00409000                        14.65682                   \n",
       "2 0.00595000                        15.02654                   \n",
       "3 0.00590000                        15.51104                   \n",
       "4 0.00709000                        14.44186                   \n",
       "5 0.00808000                        11.89630                   \n",
       "6 0.00828156                        12.74487                   \n",
       "  u_component_of_wind_10m_above_ground v_component_of_wind_10m_above_ground\n",
       "1 3.956377                              0.7126049                          \n",
       "2 4.230430                              0.6618921                          \n",
       "3 5.245728                              1.6405591                          \n",
       "4 5.454001                             -0.1905322                          \n",
       "5 3.511787                             -0.2794409                          \n",
       "6 3.945603                             -0.2409253                          \n",
       "  L3_NO2_NO2_column_number_density L3_NO2_NO2_slant_column_number_density\n",
       "1 5.338188e-05                     0.0001081872                          \n",
       "2 5.044761e-05                     0.0001090962                          \n",
       "3 5.035383e-05                     0.0001344593                          \n",
       "4 5.499153e-05                     0.0001546277                          \n",
       "5 5.508028e-05                     0.0001308539                          \n",
       "6 5.809714e-05                     0.0001141703                          \n",
       "  L3_NO2_absorbing_aerosol_index L3_NO2_cloud_fraction ⋯\n",
       "1  0.4661706                     0.01075178            ⋯\n",
       "2 -0.2136590                     0.02830689            ⋯\n",
       "3 -0.2542505                     0.01037382            ⋯\n",
       "4 -0.2684903                     0.08879496            ⋯\n",
       "5  0.4607204                     0.04119687            ⋯\n",
       "6  0.8438090                     0.02319110            ⋯\n",
       "  L3_SO2_sensor_zenith_angle L3_SO2_solar_azimuth_angle\n",
       "1  1.445658                  -95.98498                 \n",
       "2 34.641758                  -95.01491                 \n",
       "3 55.872276                  -94.01542                 \n",
       "4 59.174188                  -97.24760                 \n",
       "5 40.925873                  -96.05727                 \n",
       "6 10.836973                  -94.79964                 \n",
       "  L3_SO2_solar_zenith_angle L3_CH4_CH4_column_volume_mixing_ratio_dry_air\n",
       "1 22.94202                   945.231                                     \n",
       "2 18.53912                   945.231                                     \n",
       "3 14.14082                   945.231                                     \n",
       "4 32.73055                   945.231                                     \n",
       "5 28.32053                  1831.262                                     \n",
       "6 23.90786                  1837.775                                     \n",
       "  L3_CH4_aerosol_height L3_CH4_aerosol_optical_depth\n",
       "1 1766.062              0.01812192                  \n",
       "2 1766.062              0.01812192                  \n",
       "3 1766.062              0.01812192                  \n",
       "4 1766.062              0.01812192                  \n",
       "5 3229.119              0.03106805                  \n",
       "6 2994.671              0.02152895                  \n",
       "  L3_CH4_sensor_azimuth_angle L3_CH4_sensor_zenith_angle\n",
       "1    0.5874307                14.05384                  \n",
       "2    0.5874307                14.05384                  \n",
       "3    0.5874307                14.05384                  \n",
       "4    0.5874307                14.05384                  \n",
       "5 -100.2783432                41.84708                  \n",
       "6  -97.4295780                11.77791                  \n",
       "  L3_CH4_solar_azimuth_angle L3_CH4_solar_zenith_angle\n",
       "1 -71.28798                  24.11399                 \n",
       "2 -71.28798                  24.11399                 \n",
       "3 -71.28798                  24.11399                 \n",
       "4 -71.28798                  24.11399                 \n",
       "5 -95.91074                  28.49879                 \n",
       "6 -94.48296                  24.03635                 "
      ]
     },
     "metadata": {},
     "output_type": "display_data"
    }
   ],
   "source": [
    "head(trainDataset)\n",
    "head(X_train)\n",
    "head(testDataset)"
   ]
  },
  {
   "cell_type": "markdown",
   "metadata": {},
   "source": [
    "# 3 - Feature selection :\n",
    "\n",
    "\"Complex models usually have a high variance, sensitive to changes in training data and are prone to overfitting. On the other hand simpler models have high bias and are likely to fail in predicting complex real world phenomena. So it is quite important to strike a balance between bias & variance by selecting the right complexity for the model. One of the metric for determining the model complexity is the no of features used for building the model and selecting the right no of features is therefore crucial\" : \n",
    "https://gijopeter.medium.com/cross-validation-for-ml-feature-selection-ffdb71e5a68f \n",
    "\n",
    "We will use feature selection by using the filter methods for their rapidity, instead of the wrapper methods based on the performances of a model. \n",
    "We will use two algorithms : \n",
    "- The correlation based method\n",
    "- The mRmR method"
   ]
  },
  {
   "cell_type": "markdown",
   "metadata": {},
   "source": [
    "The code below computes the correlation of each feature with the output target and sorts them in decreasing order of correlation. Then, it uses cross-validation to evaluate the performance of the model (here a linear regression) depending on the number of features used. It begins with a single feature (the most correlated one) and adds the rest step by step based on the ranking. This shows us how the performance of our model evolves as we add more variables.\n",
    "\n",
    "The goal here is to make a trade-off between the number of variables (not too much because we want an efficient model at the end which generalizes well, avoiding overfitting) and its performance. \n",
    "\n",
    "For each number of features, we evaluate the RMSE, allowing us to determine the optimal number of features that minimizes the error. This helps to identify the point at which adding more features no longer improves the model and may even degrade its performance due to overfitting.\n",
    "\n",
    "# But what is the advantage of cross validation in feature selection ?\n",
    "\n",
    "By proceeding without cross-validation, we risk selecting features that only appear to perform well for that specific training dataset. The selected features may not generalize well to new data, leading to a model that overfits, and that have poor generalizing to new data. However, with cross-validation, we will create multiple validation sets to ensure our model generalizes well. "
   ]
  },
  {
   "cell_type": "code",
   "execution_count": 10,
   "metadata": {
    "vscode": {
     "languageId": "r"
    }
   },
   "outputs": [
    {
     "name": "stdout",
     "output_type": "stream",
     "text": [
      " [1] \"#Features:  1  ; RMSE= 43.8692  ; std dev= 5.3491\" \n",
      " [2] \"#Features:  2  ; RMSE= 43.4199  ; std dev= 5.3215\" \n",
      " [3] \"#Features:  3  ; RMSE= 42.3469  ; std dev= 5.2826\" \n",
      " [4] \"#Features:  4  ; RMSE= 40.7321  ; std dev= 5.6295\" \n",
      " [5] \"#Features:  5  ; RMSE= 40.3653  ; std dev= 5.3842\" \n",
      " [6] \"#Features:  6  ; RMSE= 40.3459  ; std dev= 5.3871\" \n",
      " [7] \"#Features:  7  ; RMSE= 40.1469  ; std dev= 5.1678\" \n",
      " [8] \"#Features:  8  ; RMSE= 40.1243  ; std dev= 5.173\"  \n",
      " [9] \"#Features:  9  ; RMSE= 40.1266  ; std dev= 5.1745\" \n",
      "[10] \"#Features:  10  ; RMSE= 39.8625  ; std dev= 5.2233\"\n",
      "[11] \"#Features:  11  ; RMSE= 39.8241  ; std dev= 5.2888\"\n",
      "[12] \"#Features:  12  ; RMSE= 39.825  ; std dev= 5.2851\" \n",
      "[13] \"#Features:  13  ; RMSE= 39.8236  ; std dev= 5.2862\"\n",
      "[14] \"#Features:  14  ; RMSE= 39.7373  ; std dev= 5.3027\"\n",
      "[15] \"#Features:  15  ; RMSE= 39.6725  ; std dev= 5.3617\"\n",
      "[16] \"#Features:  16  ; RMSE= 39.4071  ; std dev= 5.3496\"\n",
      "[17] \"#Features:  17  ; RMSE= 39.403  ; std dev= 5.3749\" \n",
      "[18] \"#Features:  18  ; RMSE= 39.3665  ; std dev= 5.3797\"\n",
      "[19] \"#Features:  19  ; RMSE= 39.392  ; std dev= 5.388\"  \n",
      "[20] \"#Features:  20  ; RMSE= 39.2753  ; std dev= 5.4031\"\n",
      "[21] \"#Features:  21  ; RMSE= 39.272  ; std dev= 5.3767\" \n",
      "[22] \"#Features:  22  ; RMSE= 39.2749  ; std dev= 5.3928\"\n",
      "[23] \"#Features:  23  ; RMSE= 39.2404  ; std dev= 5.3326\"\n",
      "[24] \"#Features:  24  ; RMSE= 39.1293  ; std dev= 5.3293\"\n",
      "[25] \"#Features:  25  ; RMSE= 39.1268  ; std dev= 5.3754\"\n",
      "[26] \"#Features:  26  ; RMSE= 39.0415  ; std dev= 5.3349\"\n",
      "[27] \"#Features:  27  ; RMSE= 38.9995  ; std dev= 5.3828\"\n",
      "[28] \"#Features:  28  ; RMSE= 38.9856  ; std dev= 5.4164\"\n",
      "[29] \"#Features:  29  ; RMSE= 38.9362  ; std dev= 5.369\" \n",
      "[30] \"#Features:  30  ; RMSE= 38.899  ; std dev= 5.4017\" \n",
      "[31] \"#Features:  31  ; RMSE= 38.8955  ; std dev= 5.4072\"\n",
      "[32] \"#Features:  32  ; RMSE= 38.8959  ; std dev= 5.4179\"\n",
      "[33] \"#Features:  33  ; RMSE= 38.8277  ; std dev= 5.3961\"\n",
      "[34] \"#Features:  34  ; RMSE= 38.8292  ; std dev= 5.3856\"\n",
      "[35] \"#Features:  35  ; RMSE= 38.8012  ; std dev= 5.4189\"\n",
      "[36] \"#Features:  36  ; RMSE= 38.7041  ; std dev= 5.5534\"\n",
      "[37] \"#Features:  37  ; RMSE= 38.6888  ; std dev= 5.5656\"\n",
      "[38] \"#Features:  38  ; RMSE= 38.5801  ; std dev= 5.5023\"\n",
      "[39] \"#Features:  39  ; RMSE= 38.5528  ; std dev= 5.4923\"\n",
      "[40] \"#Features:  40  ; RMSE= 38.5475  ; std dev= 5.4946\"\n",
      "[41] \"#Features:  41  ; RMSE= 38.5601  ; std dev= 5.4953\"\n",
      "[42] \"#Features:  42  ; RMSE= 38.5478  ; std dev= 5.4981\"\n",
      "[43] \"#Features:  43  ; RMSE= 38.4722  ; std dev= 5.5267\"\n",
      "[44] \"#Features:  44  ; RMSE= 38.4836  ; std dev= 5.5189\"\n",
      "[45] \"#Features:  45  ; RMSE= 38.4899  ; std dev= 5.5331\"\n",
      "[46] \"#Features:  46  ; RMSE= 38.3856  ; std dev= 5.4288\"\n",
      "[47] \"#Features:  47  ; RMSE= 38.3594  ; std dev= 5.3646\"\n",
      "[48] \"#Features:  48  ; RMSE= 38.2603  ; std dev= 5.3765\"\n",
      "[49] \"#Features:  49  ; RMSE= 38.2249  ; std dev= 5.3612\"\n",
      "[50] \"#Features:  50  ; RMSE= 38.2396  ; std dev= 5.3526\"\n",
      "[51] \"#Features:  51  ; RMSE= 38.1365  ; std dev= 5.397\" \n",
      "[52] \"#Features:  52  ; RMSE= 37.9407  ; std dev= 5.1094\"\n",
      "[53] \"#Features:  53  ; RMSE= 37.8831  ; std dev= 5.0945\"\n",
      "[54] \"#Features:  54  ; RMSE= 37.8563  ; std dev= 5.116\" \n",
      "[55] \"#Features:  55  ; RMSE= 37.8531  ; std dev= 5.106\" \n",
      "[56] \"#Features:  56  ; RMSE= 37.8385  ; std dev= 5.1033\"\n",
      "[57] \"#Features:  57  ; RMSE= 37.8497  ; std dev= 5.0961\"\n",
      "[58] \"#Features:  58  ; RMSE= 37.8319  ; std dev= 5.0854\"\n",
      "[59] \"#Features:  59  ; RMSE= 37.821  ; std dev= 5.0685\" \n",
      "[60] \"#Features:  60  ; RMSE= 37.8006  ; std dev= 5.0779\"\n",
      "[61] \"#Features:  61  ; RMSE= 37.7313  ; std dev= 4.9761\"\n",
      "[62] \"#Features:  62  ; RMSE= 37.7241  ; std dev= 4.9776\"\n",
      "[63] \"#Features:  63  ; RMSE= 37.7133  ; std dev= 4.9661\"\n",
      "[64] \"#Features:  64  ; RMSE= 37.7039  ; std dev= 4.9641\"\n",
      "[65] \"#Features:  65  ; RMSE= 37.6946  ; std dev= 4.9701\"\n",
      "[66] \"#Features:  66  ; RMSE= 37.6751  ; std dev= 4.9714\"\n",
      "[67] \"#Features:  67  ; RMSE= 37.6647  ; std dev= 4.9829\"\n",
      "[68] \"#Features:  68  ; RMSE= 37.6513  ; std dev= 4.983\" \n",
      "[69] \"#Features:  69  ; RMSE= 37.6402  ; std dev= 4.9776\"\n",
      "[70] \"#Features:  70  ; RMSE= 37.6349  ; std dev= 4.9776\"\n",
      "[71] \"#Features:  71  ; RMSE= 37.6639  ; std dev= 4.982\" \n",
      "[72] \"#Features:  72  ; RMSE= 37.6618  ; std dev= 4.9824\"\n",
      "[73] \"#Features:  73  ; RMSE= 37.6627  ; std dev= 4.9844\"\n",
      "[74] \"#Features:  74  ; RMSE= 37.6469  ; std dev= 4.9898\"\n"
     ]
    }
   ],
   "source": [
    "CV_folds <- 10 # Number of folds for cross validation\n",
    "\n",
    "size_CV <-floor(N_train/CV_folds) # Size of each folds \n",
    "\n",
    "CV_errCorrelationMethod<-matrix(0,nrow=n_train,ncol=CV_folds) # Validation error for each features, and for each fold\n",
    "\n",
    "## Loop of cross validation\n",
    "\n",
    "for (i in 1:CV_folds) {\n",
    "    \n",
    "    idx_ts<-(((i-1)*size_CV+1):(i*size_CV))  ### idx_ts represents the indices of the test set the i-th fold\n",
    "    X_ts<-X_train[idx_ts,]  \n",
    "    Y_ts<-Y_train[idx_ts]  \n",
    "     \n",
    "    idx_tr<-setdiff(1:N_train,idx_ts) ### idx_tr represents  indices of the training sefor the i-th fold\n",
    "    X_tr<-X_train[idx_tr,]\n",
    "    Y_tr<-Y_train[idx_tr]                          \n",
    "    \n",
    "    # Compute correlation across all the input variables and the target variable\n",
    "    correlation_vector <-abs(cor(X_tr,Y_tr))\n",
    "    \n",
    "    # Rank variables according to correlation with the output\n",
    "    correlation_ranking_idx <-sort(correlation_vector,dec=T,index.return=T)$ix\n",
    "     \n",
    "    for (nb_features in 1:n_train) { \n",
    "        # Create a dataset including only the nb_features most correlated variables with the output\n",
    "        DS<-cbind(X_tr[,correlation_ranking_idx[1:nb_features],drop=F],target=Y_tr)\n",
    "        \n",
    "        # Model fit (using linear model)\n",
    "        model<- lm(target~.,DS)\n",
    "        \n",
    "        # Model prediction\n",
    "        Y_hat_ts<- predict(model,X_ts[,correlation_ranking_idx[1:nb_features],drop=F])\n",
    "        \n",
    "        # Cross validation error = MSE\n",
    "        CV_errCorrelationMethod[nb_features,i] <- sqrt(mean((Y_hat_ts-Y_ts)^2))\n",
    "    }\n",
    "}  \n",
    "\n",
    "print(paste(\"#Features: \",c(1:n_train),\" ; RMSE=\",round(apply(CV_errCorrelationMethod,1,mean),digits=4), \" ; std dev=\",round(apply(CV_errCorrelationMethod,1,sd),digits=4)))"
   ]
  },
  {
   "cell_type": "markdown",
   "metadata": {},
   "source": [
    "We can see that the error decreases as the number of features increases, but let's try to do better, as our goal is to find a trade-off between the performance of the model and the number of variables."
   ]
  },
  {
   "cell_type": "markdown",
   "metadata": {},
   "source": [
    "With this simple algorithm, the most correlated variables are selected first, without taking into account the redundancy. This approach has some limitations and benefits compared to more sophisticated methods like MRMR (Minimum Redundancy Maximum Relevance).\n",
    "\n",
    "- Correlation-based selection is simple and easy to implement. It is computationally quick because it only considers the correlation of each feature with the target variable. However, this method does not account for redundancy between features, which can lead to less efficient models. Additionally, it only captures linear relationships and may miss non-linear patterns.\n",
    "\n",
    "\n",
    "- MRMR selects features by maximizing relevance with the target variable while minimizing redundancy among the selected features. This ensures that each selected feature provides unique information, reducing redundancy. As a result, MRMR helps models generalize better to new data and reduces the risk of overfitting. MRMR can also capture more complex, non-linear relationships between features and the target variable. Thus, with MRMR, if two features are similar, or highly correlated, only the more relevant one will be considered important."
   ]
  },
  {
   "cell_type": "markdown",
   "metadata": {},
   "source": [
    "# mRmR"
   ]
  },
  {
   "cell_type": "markdown",
   "metadata": {},
   "source": [
    "The code below implement a feature selection with the mRmR technique (Minimum Redundancy Maximum Relevance) and uses cross validation in order to evaluate the performance of the model based on the number of features used. "
   ]
  },
  {
   "cell_type": "code",
   "execution_count": 11,
   "metadata": {
    "vscode": {
     "languageId": "r"
    }
   },
   "outputs": [
    {
     "name": "stdout",
     "output_type": "stream",
     "text": [
      " [1] \"#Features:  1  ; CV error= 43.8692  ; std dev= 5.3491\" \n",
      " [2] \"#Features:  2  ; CV error= 42.8139  ; std dev= 5.6282\" \n",
      " [3] \"#Features:  3  ; CV error= 41.5264  ; std dev= 5.3779\" \n",
      " [4] \"#Features:  4  ; CV error= 40.6459  ; std dev= 5.1544\" \n",
      " [5] \"#Features:  5  ; CV error= 40.2417  ; std dev= 5.2329\" \n",
      " [6] \"#Features:  6  ; CV error= 40.1188  ; std dev= 5.2597\" \n",
      " [7] \"#Features:  7  ; CV error= 39.9419  ; std dev= 5.3146\" \n",
      " [8] \"#Features:  8  ; CV error= 39.8965  ; std dev= 5.3251\" \n",
      " [9] \"#Features:  9  ; CV error= 39.8446  ; std dev= 5.3966\" \n",
      "[10] \"#Features:  10  ; CV error= 39.8364  ; std dev= 5.3756\"\n",
      "[11] \"#Features:  11  ; CV error= 39.8684  ; std dev= 5.4059\"\n",
      "[12] \"#Features:  12  ; CV error= 39.8248  ; std dev= 5.3938\"\n",
      "[13] \"#Features:  13  ; CV error= 39.7748  ; std dev= 5.418\" \n",
      "[14] \"#Features:  14  ; CV error= 39.6256  ; std dev= 5.4643\"\n",
      "[15] \"#Features:  15  ; CV error= 39.549  ; std dev= 5.436\"  \n",
      "[16] \"#Features:  16  ; CV error= 39.6224  ; std dev= 5.3813\"\n",
      "[17] \"#Features:  17  ; CV error= 39.529  ; std dev= 5.4237\" \n",
      "[18] \"#Features:  18  ; CV error= 39.5153  ; std dev= 5.418\" \n",
      "[19] \"#Features:  19  ; CV error= 39.4087  ; std dev= 5.5114\"\n",
      "[20] \"#Features:  20  ; CV error= 39.4607  ; std dev= 5.4374\"\n",
      "[21] \"#Features:  21  ; CV error= 39.3874  ; std dev= 5.3851\"\n",
      "[22] \"#Features:  22  ; CV error= 39.2136  ; std dev= 5.3063\"\n",
      "[23] \"#Features:  23  ; CV error= 39.229  ; std dev= 5.3245\" \n",
      "[24] \"#Features:  24  ; CV error= 39.2807  ; std dev= 5.3452\"\n",
      "[25] \"#Features:  25  ; CV error= 39.2468  ; std dev= 5.3646\"\n",
      "[26] \"#Features:  26  ; CV error= 39.1937  ; std dev= 5.3501\"\n",
      "[27] \"#Features:  27  ; CV error= 39.071  ; std dev= 5.2802\" \n",
      "[28] \"#Features:  28  ; CV error= 39.052  ; std dev= 5.451\"  \n",
      "[29] \"#Features:  29  ; CV error= 39.0315  ; std dev= 5.4608\"\n",
      "[30] \"#Features:  30  ; CV error= 38.9282  ; std dev= 5.3886\"\n",
      "[31] \"#Features:  31  ; CV error= 38.9204  ; std dev= 5.4007\"\n",
      "[32] \"#Features:  32  ; CV error= 38.7326  ; std dev= 5.2949\"\n",
      "[33] \"#Features:  33  ; CV error= 38.6829  ; std dev= 5.3454\"\n",
      "[34] \"#Features:  34  ; CV error= 38.671  ; std dev= 5.3488\" \n",
      "[35] \"#Features:  35  ; CV error= 38.6837  ; std dev= 5.3906\"\n",
      "[36] \"#Features:  36  ; CV error= 38.682  ; std dev= 5.3852\" \n",
      "[37] \"#Features:  37  ; CV error= 38.6793  ; std dev= 5.3864\"\n",
      "[38] \"#Features:  38  ; CV error= 38.6723  ; std dev= 5.37\"  \n",
      "[39] \"#Features:  39  ; CV error= 38.5669  ; std dev= 5.3457\"\n",
      "[40] \"#Features:  40  ; CV error= 38.437  ; std dev= 5.2562\" \n",
      "[41] \"#Features:  41  ; CV error= 38.4272  ; std dev= 5.2976\"\n",
      "[42] \"#Features:  42  ; CV error= 38.3512  ; std dev= 5.3185\"\n",
      "[43] \"#Features:  43  ; CV error= 38.3534  ; std dev= 5.301\" \n",
      "[44] \"#Features:  44  ; CV error= 38.3508  ; std dev= 5.2932\"\n",
      "[45] \"#Features:  45  ; CV error= 38.2807  ; std dev= 5.295\" \n",
      "[46] \"#Features:  46  ; CV error= 38.2766  ; std dev= 5.291\" \n",
      "[47] \"#Features:  47  ; CV error= 38.251  ; std dev= 5.295\"  \n",
      "[48] \"#Features:  48  ; CV error= 38.2525  ; std dev= 5.2973\"\n",
      "[49] \"#Features:  49  ; CV error= 38.2445  ; std dev= 5.2899\"\n",
      "[50] \"#Features:  50  ; CV error= 38.2107  ; std dev= 5.3062\"\n",
      "[51] \"#Features:  51  ; CV error= 38.222  ; std dev= 5.2977\" \n",
      "[52] \"#Features:  52  ; CV error= 38.2251  ; std dev= 5.2979\"\n",
      "[53] \"#Features:  53  ; CV error= 37.8269  ; std dev= 5.0266\"\n",
      "[54] \"#Features:  54  ; CV error= 37.8207  ; std dev= 5.0236\"\n",
      "[55] \"#Features:  55  ; CV error= 37.8201  ; std dev= 5.0218\"\n",
      "[56] \"#Features:  56  ; CV error= 37.8198  ; std dev= 5.0064\"\n",
      "[57] \"#Features:  57  ; CV error= 37.8146  ; std dev= 5.0281\"\n",
      "[58] \"#Features:  58  ; CV error= 37.8308  ; std dev= 5.0224\"\n",
      "[59] \"#Features:  59  ; CV error= 37.8123  ; std dev= 5.0126\"\n",
      "[60] \"#Features:  60  ; CV error= 37.8001  ; std dev= 5.0049\"\n",
      "[61] \"#Features:  61  ; CV error= 37.7969  ; std dev= 5.0058\"\n",
      "[62] \"#Features:  62  ; CV error= 37.7723  ; std dev= 4.998\" \n",
      "[63] \"#Features:  63  ; CV error= 37.7648  ; std dev= 5.0024\"\n",
      "[64] \"#Features:  64  ; CV error= 37.7516  ; std dev= 4.9955\"\n",
      "[65] \"#Features:  65  ; CV error= 37.7337  ; std dev= 4.9947\"\n",
      "[66] \"#Features:  66  ; CV error= 37.7328  ; std dev= 4.9887\"\n",
      "[67] \"#Features:  67  ; CV error= 37.7366  ; std dev= 4.9971\"\n",
      "[68] \"#Features:  68  ; CV error= 37.7417  ; std dev= 4.9995\"\n",
      "[69] \"#Features:  69  ; CV error= 37.731  ; std dev= 5.0011\" \n",
      "[70] \"#Features:  70  ; CV error= 37.7285  ; std dev= 5.0018\"\n",
      "[71] \"#Features:  71  ; CV error= 37.6476  ; std dev= 4.9886\"\n",
      "[72] \"#Features:  72  ; CV error= 37.6463  ; std dev= 4.9871\"\n",
      "[73] \"#Features:  73  ; CV error= 37.6457  ; std dev= 4.9903\"\n",
      "[74] \"#Features:  74  ; CV error= 37.6469  ; std dev= 4.9898\"\n"
     ]
    }
   ],
   "source": [
    "CV_folds <- 10\n",
    "\n",
    "size_CV <- floor(N_train / CV_folds)\n",
    "\n",
    "CV_errmRmR <- matrix(0, nrow = n_train, ncol = CV_folds)\n",
    "\n",
    "for (i in 1:CV_folds) \n",
    "{\n",
    "    \n",
    "    idx_ts <- (((i - 1) * size_CV + 1):(i * size_CV))  ### idx_ts represents the indices of the test set the i-th fold \n",
    "    X_ts <- X_train[idx_ts,]  \n",
    "    Y_ts <- Y_train[idx_ts]  \n",
    "    \n",
    "    idx_tr <- setdiff(1:N_train, idx_ts) ### idx_tr represents the indices of the training set for the i-th fold\n",
    "    X_tr <- X_train[idx_tr,]\n",
    "    Y_tr <- Y_train[idx_tr]                          \n",
    "    \n",
    "    # Computing the mutual_info between input variables and output variable on the training set\n",
    "    mutual_info <- -0.5 * log(1 - cor(X_tr, Y_tr)^2)\n",
    "    \n",
    "    # Initialization : No variables are selected and all the variables are candidates\n",
    "    selected <- c()\n",
    "    candidates <- 1:n_train\n",
    "    \n",
    "    # mRMR ranks the variables by taking account not only the mutual_info with the output, but also by avoiding redundant variables\n",
    "    for (j in 1:n_train) {\n",
    "        redundancy_score <- numeric(length(candidates))\n",
    "        \n",
    "        if (length(selected) > 0) {\n",
    "            # Compute the mutual_info between the selected variables and the candidates on the training set\n",
    "            mutual_info_selected_candidates <- -0.5 * log(1 - cor(X_tr[, selected, drop = F], X_tr[, candidates, drop = F])^2)\n",
    "            # Compute the mean mutual_info for each candidate variable, across the selected variables\n",
    "            redundancy_score <- apply(mutual_info_selected_candidates, 2, mean)\n",
    "        }\n",
    "        \n",
    "        # mRMR: minimum Redundancy Maximum Relevancy\n",
    "        mRMR_score <- mutual_info[candidates] - redundancy_score\n",
    "        \n",
    "        # Select the candidate variable that maximises the mRMR score\n",
    "        selected_current <- candidates[which.max(mRMR_score)]\n",
    "        selected <- c(selected, selected_current)\n",
    "        \n",
    "        # Remove the selected variables from the candidates\n",
    "        candidates <- setdiff(candidates, selected_current)\n",
    "    }\n",
    "    \n",
    "    ranking <- selected\n",
    "    \n",
    "    for (nb_features in 1:n_train) {\n",
    "        # Create a dataset including only the first nb_features selected variables\n",
    "        DS <- cbind(X_tr[, ranking[1:nb_features], drop = F], target = Y_tr)\n",
    "        \n",
    "        # Model fit (using lm function)\n",
    "        model <- lm(target ~ ., DS)\n",
    "        \n",
    "        # Model prediction\n",
    "        Y_hat_ts <- predict(model, X_ts[, ranking[1:nb_features], drop = F])\n",
    "        \n",
    "        # Cross-validation error = MSE\n",
    "        CV_errmRmR[nb_features, i] <- sqrt(mean((Y_hat_ts - Y_ts)^2))\n",
    "    \n",
    "    }\n",
    "}  \n",
    "\n",
    "print(paste(\"#Features: \", c(1:n_train), \" ; CV error=\", round(apply(CV_errmRmR, 1, mean), digits = 4), \" ; std dev=\", round(apply(CV_errmRmR, 1, sd), digits = 4)))"
   ]
  },
  {
   "cell_type": "markdown",
   "metadata": {},
   "source": [
    "Let's compare the ranking of the variables for each algorithms, as well as the graph representing the error based on the number of features"
   ]
  },
  {
   "cell_type": "code",
   "execution_count": 12,
   "metadata": {
    "vscode": {
     "languageId": "r"
    }
   },
   "outputs": [
    {
     "name": "stderr",
     "output_type": "stream",
     "text": [
      "Installing package into 'C:/Users/micha/AppData/Local/R/win-library/4.3'\n",
      "(as 'lib' is unspecified)\n",
      "\n"
     ]
    },
    {
     "name": "stdout",
     "output_type": "stream",
     "text": [
      "package 'tidyverse' successfully unpacked and MD5 sums checked\n",
      "\n",
      "The downloaded binary packages are in\n",
      "\tC:\\Users\\micha\\AppData\\Local\\Temp\\RtmpIVpl0r\\downloaded_packages\n"
     ]
    },
    {
     "name": "stderr",
     "output_type": "stream",
     "text": [
      "Warning message:\n",
      "\"package 'tidyverse' was built under R version 4.3.3\"\n",
      "Warning message:\n",
      "\"package 'ggplot2' was built under R version 4.3.3\"\n",
      "Warning message:\n",
      "\"package 'tibble' was built under R version 4.3.3\"\n",
      "Warning message:\n",
      "\"package 'tidyr' was built under R version 4.3.3\"\n",
      "Warning message:\n",
      "\"package 'readr' was built under R version 4.3.3\"\n",
      "Warning message:\n",
      "\"package 'dplyr' was built under R version 4.3.3\"\n",
      "Warning message:\n",
      "\"package 'forcats' was built under R version 4.3.3\"\n",
      "Warning message:\n",
      "\"package 'lubridate' was built under R version 4.3.3\"\n",
      "── \u001b[1mAttaching core tidyverse packages\u001b[22m ──────────────────────── tidyverse 2.0.0 ──\n",
      "\u001b[32m✔\u001b[39m \u001b[34mdplyr    \u001b[39m 1.1.4     \u001b[32m✔\u001b[39m \u001b[34mreadr    \u001b[39m 2.1.5\n",
      "\u001b[32m✔\u001b[39m \u001b[34mforcats  \u001b[39m 1.0.0     \u001b[32m✔\u001b[39m \u001b[34mstringr  \u001b[39m 1.5.1\n",
      "\u001b[32m✔\u001b[39m \u001b[34mggplot2  \u001b[39m 3.5.1     \u001b[32m✔\u001b[39m \u001b[34mtibble   \u001b[39m 3.2.1\n",
      "\u001b[32m✔\u001b[39m \u001b[34mlubridate\u001b[39m 1.9.3     \u001b[32m✔\u001b[39m \u001b[34mtidyr    \u001b[39m 1.3.1\n",
      "\u001b[32m✔\u001b[39m \u001b[34mpurrr    \u001b[39m 1.0.2     \n",
      "── \u001b[1mConflicts\u001b[22m ────────────────────────────────────────── tidyverse_conflicts() ──\n",
      "\u001b[31m✖\u001b[39m \u001b[34mdplyr\u001b[39m::\u001b[32mfilter()\u001b[39m masks \u001b[34mstats\u001b[39m::filter()\n",
      "\u001b[31m✖\u001b[39m \u001b[34mdplyr\u001b[39m::\u001b[32mlag()\u001b[39m    masks \u001b[34mstats\u001b[39m::lag()\n",
      "\u001b[36mℹ\u001b[39m Use the conflicted package (\u001b[3m\u001b[34m<http://conflicted.r-lib.org/>\u001b[39m\u001b[23m) to force all conflicts to become errors\n"
     ]
    }
   ],
   "source": [
    "install.packages(\"tidyverse\")\n",
    "\n",
    "library(tidyverse)"
   ]
  },
  {
   "cell_type": "code",
   "execution_count": 13,
   "metadata": {
    "vscode": {
     "languageId": "r"
    }
   },
   "outputs": [
    {
     "name": "stderr",
     "output_type": "stream",
     "text": [
      "Warning message:\n",
      "\"package 'pracma' was built under R version 4.3.3\"\n"
     ]
    },
    {
     "name": "stderr",
     "output_type": "stream",
     "text": [
      "\n",
      "Attaching package: 'pracma'\n",
      "\n",
      "\n",
      "The following object is masked from 'package:purrr':\n",
      "\n",
      "    cross\n",
      "\n",
      "\n"
     ]
    },
    {
     "data": {
      "image/png": "[encoded data removed]",
      "text/plain": [
       "plot without title"
      ]
     },
     "metadata": {
      "image/png": {
       "height": 600,
       "width": 1200
      }
     },
     "output_type": "display_data"
    }
   ],
   "source": [
    "library(ggplot2)\n",
    "library(pracma)\n",
    "\n",
    "x <- 1:n_train\n",
    "\n",
    "y_corr <- apply(CV_errCorrelationMethod, 1, mean)\n",
    "\n",
    "y_mrmr <- apply(CV_errmRmR, 1, mean)\n",
    "\n",
    "results <- data.frame(\n",
    "  Number_of_Features = rep(x, 2),\n",
    "  CV_Error = c(y_corr, y_mrmr),\n",
    "  Method = rep(c(\"Correlation\", \"MRMR\"), each = n_train)\n",
    ")\n",
    "\n",
    "ggplot(results) +\n",
    "  geom_point(aes(x = Number_of_Features, y = CV_Error, color = Method)) +\n",
    "  geom_line(aes(x = Number_of_Features, y = CV_Error, color = Method)) +\n",
    "  labs(title = \"Validation Error vs. Number of Features\",\n",
    "       x = \"Number of Features\",\n",
    "       y = \"CV Error (RMSE)\") +\n",
    "  facet_wrap(~ Method, scales = \"free\") +\n",
    "  theme_minimal()\n"
   ]
  },
  {
   "cell_type": "markdown",
   "metadata": {},
   "source": [
    "Although the differences between these two graph are not very high, we would take mRmR thanks to its ability to minimize the redundances between variables. We can see that the validation error (RMSE) decreases significantly as the number of features increases up to around 30. By choosing a threshold of 30 features, we balance model complexity and performance, ensuring the model remains efficient and avoids overfitting. This threshold helps in maintaining a simpler, more generalizable model that performs well on new, unseen data."
   ]
  },
  {
   "cell_type": "code",
   "execution_count": 14,
   "metadata": {
    "vscode": {
     "languageId": "r"
    }
   },
   "outputs": [
    {
     "name": "stdout",
     "output_type": "stream",
     "text": [
      "Ranking  of features with the correlation based algorithm :"
     ]
    },
    {
     "data": {
      "text/html": [
       "<style>\n",
       ".list-inline {list-style: none; margin:0; padding: 0}\n",
       ".list-inline>li {display: inline-block}\n",
       ".list-inline>li:not(:last-child)::after {content: \"\\00b7\"; padding: 0 .5ex}\n",
       "</style>\n",
       "<ol class=list-inline><li>26</li><li>40</li><li>54</li><li>8</li><li>34</li><li>7</li><li>18</li><li>57</li><li>50</li><li>24</li><li>14</li><li>38</li><li>66</li><li>5</li><li>32</li><li>62</li><li>47</li><li>10</li><li>45</li><li>44</li><li>46</li><li>21</li><li>41</li><li>28</li><li>43</li><li>17</li><li>19</li><li>58</li><li>42</li><li>51</li><li>2</li><li>53</li><li>73</li><li>25</li><li>11</li><li>33</li><li>52</li><li>61</li><li>70</li><li>6</li><li>68</li><li>69</li><li>39</li><li>67</li><li>59</li><li>13</li><li>20</li><li>4</li><li>9</li><li>16</li><li>74</li><li>72</li><li>3</li><li>63</li><li>1</li><li>64</li><li>23</li><li>36</li><li>31</li><li>49</li><li>37</li><li>65</li><li>27</li><li>35</li><li>30</li><li>60</li><li>56</li><li>29</li><li>71</li><li>55</li><li>15</li><li>48</li><li>12</li><li>22</li></ol>\n"
      ],
      "text/latex": [
       "\\begin{enumerate*}\n",
       "\\item 26\n",
       "\\item 40\n",
       "\\item 54\n",
       "\\item 8\n",
       "\\item 34\n",
       "\\item 7\n",
       "\\item 18\n",
       "\\item 57\n",
       "\\item 50\n",
       "\\item 24\n",
       "\\item 14\n",
       "\\item 38\n",
       "\\item 66\n",
       "\\item 5\n",
       "\\item 32\n",
       "\\item 62\n",
       "\\item 47\n",
       "\\item 10\n",
       "\\item 45\n",
       "\\item 44\n",
       "\\item 46\n",
       "\\item 21\n",
       "\\item 41\n",
       "\\item 28\n",
       "\\item 43\n",
       "\\item 17\n",
       "\\item 19\n",
       "\\item 58\n",
       "\\item 42\n",
       "\\item 51\n",
       "\\item 2\n",
       "\\item 53\n",
       "\\item 73\n",
       "\\item 25\n",
       "\\item 11\n",
       "\\item 33\n",
       "\\item 52\n",
       "\\item 61\n",
       "\\item 70\n",
       "\\item 6\n",
       "\\item 68\n",
       "\\item 69\n",
       "\\item 39\n",
       "\\item 67\n",
       "\\item 59\n",
       "\\item 13\n",
       "\\item 20\n",
       "\\item 4\n",
       "\\item 9\n",
       "\\item 16\n",
       "\\item 74\n",
       "\\item 72\n",
       "\\item 3\n",
       "\\item 63\n",
       "\\item 1\n",
       "\\item 64\n",
       "\\item 23\n",
       "\\item 36\n",
       "\\item 31\n",
       "\\item 49\n",
       "\\item 37\n",
       "\\item 65\n",
       "\\item 27\n",
       "\\item 35\n",
       "\\item 30\n",
       "\\item 60\n",
       "\\item 56\n",
       "\\item 29\n",
       "\\item 71\n",
       "\\item 55\n",
       "\\item 15\n",
       "\\item 48\n",
       "\\item 12\n",
       "\\item 22\n",
       "\\end{enumerate*}\n"
      ],
      "text/markdown": [
       "1. 26\n",
       "2. 40\n",
       "3. 54\n",
       "4. 8\n",
       "5. 34\n",
       "6. 7\n",
       "7. 18\n",
       "8. 57\n",
       "9. 50\n",
       "10. 24\n",
       "11. 14\n",
       "12. 38\n",
       "13. 66\n",
       "14. 5\n",
       "15. 32\n",
       "16. 62\n",
       "17. 47\n",
       "18. 10\n",
       "19. 45\n",
       "20. 44\n",
       "21. 46\n",
       "22. 21\n",
       "23. 41\n",
       "24. 28\n",
       "25. 43\n",
       "26. 17\n",
       "27. 19\n",
       "28. 58\n",
       "29. 42\n",
       "30. 51\n",
       "31. 2\n",
       "32. 53\n",
       "33. 73\n",
       "34. 25\n",
       "35. 11\n",
       "36. 33\n",
       "37. 52\n",
       "38. 61\n",
       "39. 70\n",
       "40. 6\n",
       "41. 68\n",
       "42. 69\n",
       "43. 39\n",
       "44. 67\n",
       "45. 59\n",
       "46. 13\n",
       "47. 20\n",
       "48. 4\n",
       "49. 9\n",
       "50. 16\n",
       "51. 74\n",
       "52. 72\n",
       "53. 3\n",
       "54. 63\n",
       "55. 1\n",
       "56. 64\n",
       "57. 23\n",
       "58. 36\n",
       "59. 31\n",
       "60. 49\n",
       "61. 37\n",
       "62. 65\n",
       "63. 27\n",
       "64. 35\n",
       "65. 30\n",
       "66. 60\n",
       "67. 56\n",
       "68. 29\n",
       "69. 71\n",
       "70. 55\n",
       "71. 15\n",
       "72. 48\n",
       "73. 12\n",
       "74. 22\n",
       "\n",
       "\n"
      ],
      "text/plain": [
       " [1] 26 40 54  8 34  7 18 57 50 24 14 38 66  5 32 62 47 10 45 44 46 21 41 28 43\n",
       "[26] 17 19 58 42 51  2 53 73 25 11 33 52 61 70  6 68 69 39 67 59 13 20  4  9 16\n",
       "[51] 74 72  3 63  1 64 23 36 31 49 37 65 27 35 30 60 56 29 71 55 15 48 12 22"
      ]
     },
     "metadata": {},
     "output_type": "display_data"
    },
    {
     "name": "stdout",
     "output_type": "stream",
     "text": [
      "Ranking  of features with the mRmR algorithm :"
     ]
    },
    {
     "data": {
      "text/html": [
       "<style>\n",
       ".list-inline {list-style: none; margin:0; padding: 0}\n",
       ".list-inline>li {display: inline-block}\n",
       ".list-inline>li:not(:last-child)::after {content: \"\\00b7\"; padding: 0 .5ex}\n",
       "</style>\n",
       "<ol class=list-inline><li>26</li><li>8</li><li>40</li><li>54</li><li>62</li><li>5</li><li>45</li><li>59</li><li>47</li><li>70</li><li>71</li><li>57</li><li>41</li><li>7</li><li>6</li><li>10</li><li>12</li><li>19</li><li>31</li><li>34</li><li>52</li><li>72</li><li>28</li><li>2</li><li>66</li><li>16</li><li>27</li><li>18</li><li>53</li><li>73</li><li>60</li><li>35</li><li>32</li><li>58</li><li>61</li><li>29</li><li>36</li><li>14</li><li>13</li><li>1</li><li>9</li><li>20</li><li>44</li><li>74</li><li>17</li><li>30</li><li>42</li><li>38</li><li>37</li><li>67</li><li>11</li><li>63</li><li>4</li><li>24</li><li>55</li><li>56</li><li>69</li><li>3</li><li>33</li><li>21</li><li>64</li><li>15</li><li>23</li><li>43</li><li>50</li><li>65</li><li>68</li><li>39</li><li>22</li><li>25</li><li>46</li><li>51</li><li>49</li><li>48</li></ol>\n"
      ],
      "text/latex": [
       "\\begin{enumerate*}\n",
       "\\item 26\n",
       "\\item 8\n",
       "\\item 40\n",
       "\\item 54\n",
       "\\item 62\n",
       "\\item 5\n",
       "\\item 45\n",
       "\\item 59\n",
       "\\item 47\n",
       "\\item 70\n",
       "\\item 71\n",
       "\\item 57\n",
       "\\item 41\n",
       "\\item 7\n",
       "\\item 6\n",
       "\\item 10\n",
       "\\item 12\n",
       "\\item 19\n",
       "\\item 31\n",
       "\\item 34\n",
       "\\item 52\n",
       "\\item 72\n",
       "\\item 28\n",
       "\\item 2\n",
       "\\item 66\n",
       "\\item 16\n",
       "\\item 27\n",
       "\\item 18\n",
       "\\item 53\n",
       "\\item 73\n",
       "\\item 60\n",
       "\\item 35\n",
       "\\item 32\n",
       "\\item 58\n",
       "\\item 61\n",
       "\\item 29\n",
       "\\item 36\n",
       "\\item 14\n",
       "\\item 13\n",
       "\\item 1\n",
       "\\item 9\n",
       "\\item 20\n",
       "\\item 44\n",
       "\\item 74\n",
       "\\item 17\n",
       "\\item 30\n",
       "\\item 42\n",
       "\\item 38\n",
       "\\item 37\n",
       "\\item 67\n",
       "\\item 11\n",
       "\\item 63\n",
       "\\item 4\n",
       "\\item 24\n",
       "\\item 55\n",
       "\\item 56\n",
       "\\item 69\n",
       "\\item 3\n",
       "\\item 33\n",
       "\\item 21\n",
       "\\item 64\n",
       "\\item 15\n",
       "\\item 23\n",
       "\\item 43\n",
       "\\item 50\n",
       "\\item 65\n",
       "\\item 68\n",
       "\\item 39\n",
       "\\item 22\n",
       "\\item 25\n",
       "\\item 46\n",
       "\\item 51\n",
       "\\item 49\n",
       "\\item 48\n",
       "\\end{enumerate*}\n"
      ],
      "text/markdown": [
       "1. 26\n",
       "2. 8\n",
       "3. 40\n",
       "4. 54\n",
       "5. 62\n",
       "6. 5\n",
       "7. 45\n",
       "8. 59\n",
       "9. 47\n",
       "10. 70\n",
       "11. 71\n",
       "12. 57\n",
       "13. 41\n",
       "14. 7\n",
       "15. 6\n",
       "16. 10\n",
       "17. 12\n",
       "18. 19\n",
       "19. 31\n",
       "20. 34\n",
       "21. 52\n",
       "22. 72\n",
       "23. 28\n",
       "24. 2\n",
       "25. 66\n",
       "26. 16\n",
       "27. 27\n",
       "28. 18\n",
       "29. 53\n",
       "30. 73\n",
       "31. 60\n",
       "32. 35\n",
       "33. 32\n",
       "34. 58\n",
       "35. 61\n",
       "36. 29\n",
       "37. 36\n",
       "38. 14\n",
       "39. 13\n",
       "40. 1\n",
       "41. 9\n",
       "42. 20\n",
       "43. 44\n",
       "44. 74\n",
       "45. 17\n",
       "46. 30\n",
       "47. 42\n",
       "48. 38\n",
       "49. 37\n",
       "50. 67\n",
       "51. 11\n",
       "52. 63\n",
       "53. 4\n",
       "54. 24\n",
       "55. 55\n",
       "56. 56\n",
       "57. 69\n",
       "58. 3\n",
       "59. 33\n",
       "60. 21\n",
       "61. 64\n",
       "62. 15\n",
       "63. 23\n",
       "64. 43\n",
       "65. 50\n",
       "66. 65\n",
       "67. 68\n",
       "68. 39\n",
       "69. 22\n",
       "70. 25\n",
       "71. 46\n",
       "72. 51\n",
       "73. 49\n",
       "74. 48\n",
       "\n",
       "\n"
      ],
      "text/plain": [
       " [1] 26  8 40 54 62  5 45 59 47 70 71 57 41  7  6 10 12 19 31 34 52 72 28  2 66\n",
       "[26] 16 27 18 53 73 60 35 32 58 61 29 36 14 13  1  9 20 44 74 17 30 42 38 37 67\n",
       "[51] 11 63  4 24 55 56 69  3 33 21 64 15 23 43 50 65 68 39 22 25 46 51 49 48"
      ]
     },
     "metadata": {},
     "output_type": "display_data"
    }
   ],
   "source": [
    "cat(\"Ranking  of features with the correlation based algorithm :\")\n",
    "correlation_ranking_idx\n",
    "cat(\"Ranking  of features with the mRmR algorithm :\")\n",
    "selected"
   ]
  },
  {
   "cell_type": "code",
   "execution_count": 15,
   "metadata": {
    "vscode": {
     "languageId": "r"
    }
   },
   "outputs": [
    {
     "name": "stdout",
     "output_type": "stream",
     "text": [
      "Indexes of selected features (MRMR): 26 8 40 54 62 5 45 59 47 70 71 57 41 7 6 10 12 19 31 34 52 72 28 2 66 16 27 18 53 73 \n"
     ]
    },
    {
     "name": "stdout",
     "output_type": "stream",
     "text": [
      "Indexes of features to remove: 1 3 4 9 11 13 14 15 17 20 21 22 23 24 25 29 30 32 33 35 36 37 38 39 42 43 44 46 48 49 50 51 55 56 58 60 61 63 64 65 67 68 69 74 \n",
      "Selected features in training set: L3_CO_CO_column_number_density L3_NO2_NO2_slant_column_number_density L3_HCHO_tropospheric_HCHO_column_number_density L3_AER_AI_sensor_altitude L3_SO2_absorbing_aerosol_index u_component_of_wind_10m_above_ground L3_CLOUD_cloud_optical_depth L3_SO2_SO2_column_number_density L3_CLOUD_cloud_top_pressure L3_CH4_aerosol_optical_depth L3_CH4_sensor_azimuth_angle L3_AER_AI_solar_azimuth_angle L3_HCHO_tropospheric_HCHO_column_number_density_amf L3_NO2_NO2_column_number_density v_component_of_wind_10m_above_ground L3_NO2_cloud_fraction L3_NO2_sensor_azimuth_angle L3_O3_O3_column_number_density L3_CO_sensor_zenith_angle L3_HCHO_HCHO_slant_column_number_density L3_CLOUD_surface_albedo L3_CH4_sensor_zenith_angle L3_CO_cloud_height relative_humidity_2m_above_ground L3_SO2_solar_azimuth_angle L3_NO2_stratospheric_NO2_column_number_density L3_CO_H2O_column_number_density L3_NO2_tropospheric_NO2_column_number_density L3_AER_AI_absorbing_aerosol_index L3_CH4_solar_azimuth_angle \n",
      "Selected features in test set: L3_CO_CO_column_number_density L3_NO2_NO2_slant_column_number_density L3_HCHO_tropospheric_HCHO_column_number_density L3_AER_AI_sensor_altitude L3_SO2_absorbing_aerosol_index u_component_of_wind_10m_above_ground L3_CLOUD_cloud_optical_depth L3_SO2_SO2_column_number_density L3_CLOUD_cloud_top_pressure L3_CH4_aerosol_optical_depth L3_CH4_sensor_azimuth_angle L3_AER_AI_solar_azimuth_angle L3_HCHO_tropospheric_HCHO_column_number_density_amf L3_NO2_NO2_column_number_density v_component_of_wind_10m_above_ground L3_NO2_cloud_fraction L3_NO2_sensor_azimuth_angle L3_O3_O3_column_number_density L3_CO_sensor_zenith_angle L3_HCHO_HCHO_slant_column_number_density L3_CLOUD_surface_albedo L3_CH4_sensor_zenith_angle L3_CO_cloud_height relative_humidity_2m_above_ground L3_SO2_solar_azimuth_angle L3_NO2_stratospheric_NO2_column_number_density L3_CO_H2O_column_number_density L3_NO2_tropospheric_NO2_column_number_density L3_AER_AI_absorbing_aerosol_index L3_CH4_solar_azimuth_angle \n"
     ]
    },
    {
     "data": {
      "text/html": [
       "<style>\n",
       ".list-inline {list-style: none; margin:0; padding: 0}\n",
       ".list-inline>li {display: inline-block}\n",
       ".list-inline>li:not(:last-child)::after {content: \"\\00b7\"; padding: 0 .5ex}\n",
       "</style>\n",
       "<ol class=list-inline><li>30557</li><li>30</li></ol>\n"
      ],
      "text/latex": [
       "\\begin{enumerate*}\n",
       "\\item 30557\n",
       "\\item 30\n",
       "\\end{enumerate*}\n"
      ],
      "text/markdown": [
       "1. 30557\n",
       "2. 30\n",
       "\n",
       "\n"
      ],
      "text/plain": [
       "[1] 30557    30"
      ]
     },
     "metadata": {},
     "output_type": "display_data"
    },
    {
     "data": {
      "text/html": [
       "<style>\n",
       ".list-inline {list-style: none; margin:0; padding: 0}\n",
       ".list-inline>li {display: inline-block}\n",
       ".list-inline>li:not(:last-child)::after {content: \"\\00b7\"; padding: 0 .5ex}\n",
       "</style>\n",
       "<ol class=list-inline><li>16136</li><li>30</li></ol>\n"
      ],
      "text/latex": [
       "\\begin{enumerate*}\n",
       "\\item 16136\n",
       "\\item 30\n",
       "\\end{enumerate*}\n"
      ],
      "text/markdown": [
       "1. 16136\n",
       "2. 30\n",
       "\n",
       "\n"
      ],
      "text/plain": [
       "[1] 16136    30"
      ]
     },
     "metadata": {},
     "output_type": "display_data"
    }
   ],
   "source": [
    "# Putting a threshold using mRmR technique\n",
    "\n",
    "optimal_threshold_mrmr <- 30\n",
    "\n",
    "selected_mRmR <- selected[1:optimal_threshold_mrmr]\n",
    "\n",
    "all_features <- 1:ncol(X_train)\n",
    "\n",
    "features_to_remove <- setdiff(all_features, selected_mRmR)\n",
    "\n",
    "cat(\"Indexes of selected features (MRMR):\", selected_mRmR, \"\\n\")\n",
    "cat(\"Indexes of features to remove:\", features_to_remove, \"\\n\")\n",
    "\n",
    "X_train_selected <- X_train[, selected_mRmR, drop = FALSE]\n",
    "X_test_selected <- X_test[, selected_mRmR, drop = FALSE]\n",
    "\n",
    "# Afficher les noms des caractéristiques sélectionnées pour vérifier\n",
    "cat(\"Selected features in training set:\", names(X_train_selected), \"\\n\")\n",
    "cat(\"Selected features in test set:\", names(X_test_selected), \"\\n\")\n",
    "\n",
    "dim(X_train_selected) # We can see that we have our 30 best features\n",
    "dim(X_test_selected)"
   ]
  },
  {
   "cell_type": "markdown",
   "metadata": {},
   "source": [
    "# Question 2 : \n",
    "\n",
    "For this question , we will implement three different models, in order to test their performance , and select the best one (The one minimizing the average errrors for each of our cross-validation folds.)\n",
    "To have a more accurate measure of the generalization error, let's use validation techniques, cross validation for instance.\n",
    "\n",
    " Let's implement a function in order to do it, and call it for each of our models : \n",
    "\n",
    "for exercise 2 : \n",
    "\n",
    " - Model 1 : Neural network\n",
    " \n",
    " - Model 2 : Decision tree\n",
    " \n",
    " - Model 3 : Random forest\n",
    "\n",
    "For exercise 3 : \n",
    "    \n",
    "- xGboost\n",
    "    "
   ]
  },
  {
   "cell_type": "code",
   "execution_count": 16,
   "metadata": {
    "vscode": {
     "languageId": "r"
    }
   },
   "outputs": [
    {
     "data": {
      "text/html": [
       "<style>\n",
       ".list-inline {list-style: none; margin:0; padding: 0}\n",
       ".list-inline>li {display: inline-block}\n",
       ".list-inline>li:not(:last-child)::after {content: \"\\00b7\"; padding: 0 .5ex}\n",
       "</style>\n",
       "<ol class=list-inline><li>30557</li><li>30</li></ol>\n"
      ],
      "text/latex": [
       "\\begin{enumerate*}\n",
       "\\item 30557\n",
       "\\item 30\n",
       "\\end{enumerate*}\n"
      ],
      "text/markdown": [
       "1. 30557\n",
       "2. 30\n",
       "\n",
       "\n"
      ],
      "text/plain": [
       "[1] 30557    30"
      ]
     },
     "metadata": {},
     "output_type": "display_data"
    }
   ],
   "source": [
    "dim(X_train_selected)"
   ]
  },
  {
   "cell_type": "markdown",
   "metadata": {},
   "source": [
    "# Cross validation for random forest and decision tree models"
   ]
  },
  {
   "cell_type": "code",
   "execution_count": 50,
   "metadata": {
    "vscode": {
     "languageId": "r"
    }
   },
   "outputs": [],
   "source": [
    "library(rpart)\n",
    "library(randomForest)\n",
    "\n",
    "perform_cv <- function(X_train, Y_train, model_func, pred_type, ...) {\n",
    "    CV_folds <- 10\n",
    "    N_train <- nrow(X_train)\n",
    "    size_CV <- floor(N_train / CV_folds)\n",
    "\n",
    "    RMSE_err <- numeric(CV_folds)\n",
    "    NMSE_err <- numeric(CV_folds)\n",
    "\n",
    "    for (i in 1:CV_folds) {\n",
    "        idx_ts <- ((i - 1) * size_CV + 1):(i * size_CV)\n",
    "        if (i == CV_folds) {\n",
    "            idx_ts <- ((i - 1) * size_CV + 1):N_train\n",
    "        }\n",
    "\n",
    "        X_ts <- X_train[idx_ts, ]\n",
    "        Y_ts <- Y_train[idx_ts]\n",
    "        \n",
    "        idx_tr <- setdiff(1:N_train, idx_ts)\n",
    "        X_tr <- X_train[idx_tr, ]\n",
    "        Y_tr <- Y_train[idx_tr]\n",
    "        \n",
    "        DS <- cbind(X_tr, target = Y_tr)\n",
    "        \n",
    "        model <- model_func(target ~ ., data = DS, ...)\n",
    "        \n",
    "        Y_hat_ts <- predict(model, X_ts, type = pred_type)\n",
    "        \n",
    "        RMSE_err[i] <- sqrt(mean((Y_hat_ts - Y_ts)^2))\n",
    "        NMSE_err[i] <- sum((Y_hat_ts - Y_ts)^2) / sum((Y_ts - mean(Y_ts))^2)\n",
    "    }\n",
    "    # Display the average errors at the end of each folds.\n",
    "\n",
    "    cat(\"\\nMean of errors to evaluate the performance of the model :\\n\")\n",
    "    cat(\"Average of RMSE: \", mean(RMSE_err), \"\\n\")\n",
    "    cat(\"Average of NMSE: \", mean(NMSE_err), \"\\n\")\n",
    "    \n",
    "    # Create the model which will be returned by our function\n",
    "    \n",
    "    DS_final <- cbind(X_train, target = Y_train)\n",
    "    final_model <- model_func(target ~ ., data = DS_final, ...)\n",
    "    \n",
    "    return(list(model = final_model, RMSE = mean(RMSE_err), NMSE = mean(NMSE_err))) # In order to use cross validation errors for point 5\n",
    "}"
   ]
  },
  {
   "cell_type": "code",
   "execution_count": 18,
   "metadata": {
    "vscode": {
     "languageId": "r"
    }
   },
   "outputs": [
    {
     "name": "stderr",
     "output_type": "stream",
     "text": [
      "Installing package into 'C:/Users/micha/AppData/Local/R/win-library/4.3'\n",
      "(as 'lib' is unspecified)\n",
      "\n"
     ]
    },
    {
     "name": "stdout",
     "output_type": "stream",
     "text": [
      "package 'keras' successfully unpacked and MD5 sums checked\n",
      "\n",
      "The downloaded binary packages are in\n",
      "\tC:\\Users\\micha\\AppData\\Local\\Temp\\RtmpIVpl0r\\downloaded_packages\n"
     ]
    },
    {
     "name": "stderr",
     "output_type": "stream",
     "text": [
      "Warning message:\n",
      "\"package 'keras' was built under R version 4.3.3\"\n"
     ]
    }
   ],
   "source": [
    "\n",
    "install.packages(\"keras\") # or remotes::install_github(\"rstudio/keras\")\n",
    "\n",
    "library(keras) "
   ]
  },
  {
   "cell_type": "markdown",
   "metadata": {},
   "source": [
    "# Cross validation for neural network"
   ]
  },
  {
   "cell_type": "markdown",
   "metadata": {},
   "source": [
    "We'll define first a function for the neural network model"
   ]
  },
  {
   "cell_type": "code",
   "execution_count": 19,
   "metadata": {
    "vscode": {
     "languageId": "r"
    }
   },
   "outputs": [
    {
     "name": "stdout",
     "output_type": "stream",
     "text": [
      "Starting fold 1 of 10...\n",
      "Fold 1, Epoch 1 - RMSE: 29.344858, NMSE: 0.560843\n",
      "Fold 1, Epoch 2 - RMSE: 29.344858, NMSE: 0.560843\n",
      "Fold 1, Epoch 3 - RMSE: 29.344858, NMSE: 0.560843\n",
      "Fold 1, Epoch 4 - RMSE: 29.344858, NMSE: 0.560843\n",
      "Fold 1, Epoch 5 - RMSE: 29.344858, NMSE: 0.560843\n",
      "Fold 1, Epoch 6 - RMSE: 29.344858, NMSE: 0.560843\n",
      "Fold 1, Epoch 7 - RMSE: 29.344858, NMSE: 0.560843\n",
      "Fold 1, Epoch 8 - RMSE: 29.344858, NMSE: 0.560843\n",
      "Fold 1, Epoch 9 - RMSE: 29.344858, NMSE: 0.560843\n",
      "Fold 1, Epoch 10 - RMSE: 29.344858, NMSE: 0.560843\n",
      "Fold 1, Epoch 11 - RMSE: 29.344858, NMSE: 0.560843\n",
      "Fold 1, Epoch 12 - RMSE: 29.344858, NMSE: 0.560843\n",
      "Fold 1, Epoch 13 - RMSE: 29.344858, NMSE: 0.560843\n",
      "Fold 1, Epoch 14 - RMSE: 29.344858, NMSE: 0.560843\n",
      "Fold 1, Epoch 15 - RMSE: 29.344858, NMSE: 0.560843\n",
      "Fold 1, Epoch 16 - RMSE: 29.344858, NMSE: 0.560843\n",
      "Fold 1, Epoch 17 - RMSE: 29.344858, NMSE: 0.560843\n",
      "Fold 1, Epoch 18 - RMSE: 29.344858, NMSE: 0.560843\n",
      "Fold 1, Epoch 19 - RMSE: 29.344858, NMSE: 0.560843\n",
      "Fold 1, Epoch 20 - RMSE: 29.344858, NMSE: 0.560843\n",
      "Starting fold 2 of 10...\n",
      "Fold 2, Epoch 1 - RMSE: 43.308201, NMSE: 0.635905\n",
      "Fold 2, Epoch 2 - RMSE: 43.308201, NMSE: 0.635905\n",
      "Fold 2, Epoch 3 - RMSE: 43.308201, NMSE: 0.635905\n",
      "Fold 2, Epoch 4 - RMSE: 43.308201, NMSE: 0.635905\n",
      "Fold 2, Epoch 5 - RMSE: 43.308201, NMSE: 0.635905\n",
      "Fold 2, Epoch 6 - RMSE: 43.308201, NMSE: 0.635905\n",
      "Fold 2, Epoch 7 - RMSE: 43.308201, NMSE: 0.635905\n",
      "Fold 2, Epoch 8 - RMSE: 43.308201, NMSE: 0.635905\n",
      "Fold 2, Epoch 9 - RMSE: 43.308201, NMSE: 0.635905\n",
      "Fold 2, Epoch 10 - RMSE: 43.308201, NMSE: 0.635905\n",
      "Fold 2, Epoch 11 - RMSE: 43.308201, NMSE: 0.635905\n",
      "Fold 2, Epoch 12 - RMSE: 43.308201, NMSE: 0.635905\n",
      "Fold 2, Epoch 13 - RMSE: 43.308201, NMSE: 0.635905\n",
      "Fold 2, Epoch 14 - RMSE: 43.308201, NMSE: 0.635905\n",
      "Fold 2, Epoch 15 - RMSE: 43.308201, NMSE: 0.635905\n",
      "Fold 2, Epoch 16 - RMSE: 43.308201, NMSE: 0.635905\n",
      "Fold 2, Epoch 17 - RMSE: 43.308201, NMSE: 0.635905\n",
      "Fold 2, Epoch 18 - RMSE: 43.308201, NMSE: 0.635905\n",
      "Fold 2, Epoch 19 - RMSE: 43.308201, NMSE: 0.635905\n",
      "Fold 2, Epoch 20 - RMSE: 43.308201, NMSE: 0.635905\n",
      "Starting fold 3 of 10...\n",
      "Fold 3, Epoch 1 - RMSE: 37.605881, NMSE: 0.718152\n",
      "Fold 3, Epoch 2 - RMSE: 37.605881, NMSE: 0.718152\n",
      "Fold 3, Epoch 3 - RMSE: 37.605881, NMSE: 0.718152\n",
      "Fold 3, Epoch 4 - RMSE: 37.605881, NMSE: 0.718152\n",
      "Fold 3, Epoch 5 - RMSE: 37.605881, NMSE: 0.718152\n",
      "Fold 3, Epoch 6 - RMSE: 37.605881, NMSE: 0.718152\n",
      "Fold 3, Epoch 7 - RMSE: 37.605881, NMSE: 0.718152\n",
      "Fold 3, Epoch 8 - RMSE: 37.605881, NMSE: 0.718152\n",
      "Fold 3, Epoch 9 - RMSE: 37.605881, NMSE: 0.718152\n",
      "Fold 3, Epoch 10 - RMSE: 37.605881, NMSE: 0.718152\n",
      "Fold 3, Epoch 11 - RMSE: 37.605881, NMSE: 0.718152\n",
      "Fold 3, Epoch 12 - RMSE: 37.605881, NMSE: 0.718152\n",
      "Fold 3, Epoch 13 - RMSE: 37.605881, NMSE: 0.718152\n",
      "Fold 3, Epoch 14 - RMSE: 37.605881, NMSE: 0.718152\n",
      "Fold 3, Epoch 15 - RMSE: 37.605881, NMSE: 0.718152\n",
      "Fold 3, Epoch 16 - RMSE: 37.605881, NMSE: 0.718152\n",
      "Fold 3, Epoch 17 - RMSE: 37.605881, NMSE: 0.718152\n",
      "Fold 3, Epoch 18 - RMSE: 37.605881, NMSE: 0.718152\n",
      "Fold 3, Epoch 19 - RMSE: 37.605881, NMSE: 0.718152\n",
      "Fold 3, Epoch 20 - RMSE: 37.605881, NMSE: 0.718152\n",
      "Starting fold 4 of 10...\n",
      "Fold 4, Epoch 1 - RMSE: 29.476337, NMSE: 0.552283\n",
      "Fold 4, Epoch 2 - RMSE: 29.476337, NMSE: 0.552283\n",
      "Fold 4, Epoch 3 - RMSE: 29.476337, NMSE: 0.552283\n",
      "Fold 4, Epoch 4 - RMSE: 29.476337, NMSE: 0.552283\n",
      "Fold 4, Epoch 5 - RMSE: 29.476337, NMSE: 0.552283\n",
      "Fold 4, Epoch 6 - RMSE: 29.476337, NMSE: 0.552283\n",
      "Fold 4, Epoch 7 - RMSE: 29.476337, NMSE: 0.552283\n",
      "Fold 4, Epoch 8 - RMSE: 29.476337, NMSE: 0.552283\n",
      "Fold 4, Epoch 9 - RMSE: 29.476337, NMSE: 0.552283\n",
      "Fold 4, Epoch 10 - RMSE: 29.476337, NMSE: 0.552283\n",
      "Fold 4, Epoch 11 - RMSE: 29.476337, NMSE: 0.552283\n",
      "Fold 4, Epoch 12 - RMSE: 29.476337, NMSE: 0.552283\n",
      "Fold 4, Epoch 13 - RMSE: 29.476337, NMSE: 0.552283\n",
      "Fold 4, Epoch 14 - RMSE: 29.476337, NMSE: 0.552283\n",
      "Fold 4, Epoch 15 - RMSE: 29.476337, NMSE: 0.552283\n",
      "Fold 4, Epoch 16 - RMSE: 29.476337, NMSE: 0.552283\n",
      "Fold 4, Epoch 17 - RMSE: 29.476337, NMSE: 0.552283\n",
      "Fold 4, Epoch 18 - RMSE: 29.476337, NMSE: 0.552283\n",
      "Fold 4, Epoch 19 - RMSE: 29.476337, NMSE: 0.552283\n",
      "Fold 4, Epoch 20 - RMSE: 29.476337, NMSE: 0.552283\n",
      "Starting fold 5 of 10...\n",
      "Fold 5, Epoch 1 - RMSE: 30.344850, NMSE: 0.530690\n",
      "Fold 5, Epoch 2 - RMSE: 30.344850, NMSE: 0.530690\n",
      "Fold 5, Epoch 3 - RMSE: 30.344850, NMSE: 0.530690\n",
      "Fold 5, Epoch 4 - RMSE: 30.344850, NMSE: 0.530690\n",
      "Fold 5, Epoch 5 - RMSE: 30.344850, NMSE: 0.530690\n",
      "Fold 5, Epoch 6 - RMSE: 30.344850, NMSE: 0.530690\n",
      "Fold 5, Epoch 7 - RMSE: 30.344850, NMSE: 0.530690\n",
      "Fold 5, Epoch 8 - RMSE: 30.344850, NMSE: 0.530690\n",
      "Fold 5, Epoch 9 - RMSE: 30.344850, NMSE: 0.530690\n",
      "Fold 5, Epoch 10 - RMSE: 30.344850, NMSE: 0.530690\n",
      "Fold 5, Epoch 11 - RMSE: 30.344850, NMSE: 0.530690\n",
      "Fold 5, Epoch 12 - RMSE: 30.344850, NMSE: 0.530690\n",
      "Fold 5, Epoch 13 - RMSE: 30.344850, NMSE: 0.530690\n",
      "Fold 5, Epoch 14 - RMSE: 30.344850, NMSE: 0.530690\n",
      "Fold 5, Epoch 15 - RMSE: 30.344850, NMSE: 0.530690\n",
      "Fold 5, Epoch 16 - RMSE: 30.344850, NMSE: 0.530690\n",
      "Fold 5, Epoch 17 - RMSE: 30.344850, NMSE: 0.530690\n",
      "Fold 5, Epoch 18 - RMSE: 30.344850, NMSE: 0.530690\n",
      "Fold 5, Epoch 19 - RMSE: 30.344850, NMSE: 0.530690\n",
      "Fold 5, Epoch 20 - RMSE: 30.344850, NMSE: 0.530690\n",
      "Starting fold 6 of 10...\n",
      "Fold 6, Epoch 1 - RMSE: 35.571940, NMSE: 0.717827\n",
      "Fold 6, Epoch 2 - RMSE: 35.571940, NMSE: 0.717827\n",
      "Fold 6, Epoch 3 - RMSE: 35.571940, NMSE: 0.717827\n",
      "Fold 6, Epoch 4 - RMSE: 35.571940, NMSE: 0.717827\n",
      "Fold 6, Epoch 5 - RMSE: 35.571940, NMSE: 0.717827\n",
      "Fold 6, Epoch 6 - RMSE: 35.571940, NMSE: 0.717827\n",
      "Fold 6, Epoch 7 - RMSE: 35.571940, NMSE: 0.717827\n",
      "Fold 6, Epoch 8 - RMSE: 35.571940, NMSE: 0.717827\n",
      "Fold 6, Epoch 9 - RMSE: 35.571940, NMSE: 0.717827\n",
      "Fold 6, Epoch 10 - RMSE: 35.571940, NMSE: 0.717827\n",
      "Fold 6, Epoch 11 - RMSE: 35.571940, NMSE: 0.717827\n",
      "Fold 6, Epoch 12 - RMSE: 35.571940, NMSE: 0.717827\n",
      "Fold 6, Epoch 13 - RMSE: 35.571940, NMSE: 0.717827\n",
      "Fold 6, Epoch 14 - RMSE: 35.571940, NMSE: 0.717827\n",
      "Fold 6, Epoch 15 - RMSE: 35.571940, NMSE: 0.717827\n",
      "Fold 6, Epoch 16 - RMSE: 35.571940, NMSE: 0.717827\n",
      "Fold 6, Epoch 17 - RMSE: 35.571940, NMSE: 0.717827\n",
      "Fold 6, Epoch 18 - RMSE: 35.571940, NMSE: 0.717827\n",
      "Fold 6, Epoch 19 - RMSE: 35.571940, NMSE: 0.717827\n",
      "Fold 6, Epoch 20 - RMSE: 35.571940, NMSE: 0.717827\n",
      "Starting fold 7 of 10...\n",
      "Fold 7, Epoch 1 - RMSE: 35.556953, NMSE: 0.503398\n",
      "Fold 7, Epoch 2 - RMSE: 35.556953, NMSE: 0.503398\n",
      "Fold 7, Epoch 3 - RMSE: 35.556953, NMSE: 0.503398\n",
      "Fold 7, Epoch 4 - RMSE: 35.556953, NMSE: 0.503398\n",
      "Fold 7, Epoch 5 - RMSE: 35.556953, NMSE: 0.503398\n",
      "Fold 7, Epoch 6 - RMSE: 35.556953, NMSE: 0.503398\n",
      "Fold 7, Epoch 7 - RMSE: 35.556953, NMSE: 0.503398\n",
      "Fold 7, Epoch 8 - RMSE: 35.556953, NMSE: 0.503398\n",
      "Fold 7, Epoch 9 - RMSE: 35.556953, NMSE: 0.503398\n",
      "Fold 7, Epoch 10 - RMSE: 35.556953, NMSE: 0.503398\n",
      "Fold 7, Epoch 11 - RMSE: 35.556953, NMSE: 0.503398\n",
      "Fold 7, Epoch 12 - RMSE: 35.556953, NMSE: 0.503398\n",
      "Fold 7, Epoch 13 - RMSE: 35.556953, NMSE: 0.503398\n",
      "Fold 7, Epoch 14 - RMSE: 35.556953, NMSE: 0.503398\n",
      "Fold 7, Epoch 15 - RMSE: 35.556953, NMSE: 0.503398\n",
      "Fold 7, Epoch 16 - RMSE: 35.556953, NMSE: 0.503398\n",
      "Fold 7, Epoch 17 - RMSE: 35.556953, NMSE: 0.503398\n",
      "Fold 7, Epoch 18 - RMSE: 35.556953, NMSE: 0.503398\n",
      "Fold 7, Epoch 19 - RMSE: 35.556953, NMSE: 0.503398\n",
      "Fold 7, Epoch 20 - RMSE: 35.556953, NMSE: 0.503398\n",
      "Starting fold 8 of 10...\n",
      "Fold 8, Epoch 1 - RMSE: 41.947622, NMSE: 0.625727\n",
      "Fold 8, Epoch 2 - RMSE: 41.947622, NMSE: 0.625727\n",
      "Fold 8, Epoch 3 - RMSE: 41.947622, NMSE: 0.625727\n",
      "Fold 8, Epoch 4 - RMSE: 41.947622, NMSE: 0.625727\n",
      "Fold 8, Epoch 5 - RMSE: 41.947622, NMSE: 0.625727\n",
      "Fold 8, Epoch 6 - RMSE: 41.947622, NMSE: 0.625727\n",
      "Fold 8, Epoch 7 - RMSE: 41.947622, NMSE: 0.625727\n",
      "Fold 8, Epoch 8 - RMSE: 41.947622, NMSE: 0.625727\n",
      "Fold 8, Epoch 9 - RMSE: 41.947622, NMSE: 0.625727\n",
      "Fold 8, Epoch 10 - RMSE: 41.947622, NMSE: 0.625727\n",
      "Fold 8, Epoch 11 - RMSE: 41.947622, NMSE: 0.625727\n",
      "Fold 8, Epoch 12 - RMSE: 41.947622, NMSE: 0.625727\n",
      "Fold 8, Epoch 13 - RMSE: 41.947622, NMSE: 0.625727\n",
      "Fold 8, Epoch 14 - RMSE: 41.947622, NMSE: 0.625727\n",
      "Fold 8, Epoch 15 - RMSE: 41.947622, NMSE: 0.625727\n",
      "Fold 8, Epoch 16 - RMSE: 41.947622, NMSE: 0.625727\n",
      "Fold 8, Epoch 17 - RMSE: 41.947622, NMSE: 0.625727\n",
      "Fold 8, Epoch 18 - RMSE: 41.947622, NMSE: 0.625727\n",
      "Fold 8, Epoch 19 - RMSE: 41.947622, NMSE: 0.625727\n",
      "Fold 8, Epoch 20 - RMSE: 41.947622, NMSE: 0.625727\n",
      "Starting fold 9 of 10...\n",
      "Fold 9, Epoch 1 - RMSE: 34.476607, NMSE: 0.466214\n",
      "Fold 9, Epoch 2 - RMSE: 34.476607, NMSE: 0.466214\n",
      "Fold 9, Epoch 3 - RMSE: 34.476607, NMSE: 0.466214\n",
      "Fold 9, Epoch 4 - RMSE: 34.476607, NMSE: 0.466214\n",
      "Fold 9, Epoch 5 - RMSE: 34.476607, NMSE: 0.466214\n",
      "Fold 9, Epoch 6 - RMSE: 34.476607, NMSE: 0.466214\n",
      "Fold 9, Epoch 7 - RMSE: 34.476607, NMSE: 0.466214\n",
      "Fold 9, Epoch 8 - RMSE: 34.476607, NMSE: 0.466214\n",
      "Fold 9, Epoch 9 - RMSE: 34.476607, NMSE: 0.466214\n",
      "Fold 9, Epoch 10 - RMSE: 34.476607, NMSE: 0.466214\n",
      "Fold 9, Epoch 11 - RMSE: 34.476607, NMSE: 0.466214\n",
      "Fold 9, Epoch 12 - RMSE: 34.476607, NMSE: 0.466214\n",
      "Fold 9, Epoch 13 - RMSE: 34.476607, NMSE: 0.466214\n",
      "Fold 9, Epoch 14 - RMSE: 34.476607, NMSE: 0.466214\n",
      "Fold 9, Epoch 15 - RMSE: 34.476607, NMSE: 0.466214\n",
      "Fold 9, Epoch 16 - RMSE: 34.476607, NMSE: 0.466214\n",
      "Fold 9, Epoch 17 - RMSE: 34.476607, NMSE: 0.466214\n",
      "Fold 9, Epoch 18 - RMSE: 34.476607, NMSE: 0.466214\n",
      "Fold 9, Epoch 19 - RMSE: 34.476607, NMSE: 0.466214\n",
      "Fold 9, Epoch 20 - RMSE: 34.476607, NMSE: 0.466214\n",
      "Starting fold 10 of 10...\n",
      "Fold 10, Epoch 1 - RMSE: 35.826223, NMSE: 0.629089\n",
      "Fold 10, Epoch 2 - RMSE: 35.826223, NMSE: 0.629089\n",
      "Fold 10, Epoch 3 - RMSE: 35.826223, NMSE: 0.629089\n",
      "Fold 10, Epoch 4 - RMSE: 35.826223, NMSE: 0.629089\n",
      "Fold 10, Epoch 5 - RMSE: 35.826223, NMSE: 0.629089\n",
      "Fold 10, Epoch 6 - RMSE: 35.826223, NMSE: 0.629089\n",
      "Fold 10, Epoch 7 - RMSE: 35.826223, NMSE: 0.629089\n",
      "Fold 10, Epoch 8 - RMSE: 35.826223, NMSE: 0.629089\n",
      "Fold 10, Epoch 9 - RMSE: 35.826223, NMSE: 0.629089\n",
      "Fold 10, Epoch 10 - RMSE: 35.826223, NMSE: 0.629089\n",
      "Fold 10, Epoch 11 - RMSE: 35.826223, NMSE: 0.629089\n",
      "Fold 10, Epoch 12 - RMSE: 35.826223, NMSE: 0.629089\n",
      "Fold 10, Epoch 13 - RMSE: 35.826223, NMSE: 0.629089\n",
      "Fold 10, Epoch 14 - RMSE: 35.826223, NMSE: 0.629089\n",
      "Fold 10, Epoch 15 - RMSE: 35.826223, NMSE: 0.629089\n",
      "Fold 10, Epoch 16 - RMSE: 35.826223, NMSE: 0.629089\n",
      "Fold 10, Epoch 17 - RMSE: 35.826223, NMSE: 0.629089\n",
      "Fold 10, Epoch 18 - RMSE: 35.826223, NMSE: 0.629089\n",
      "Fold 10, Epoch 19 - RMSE: 35.826223, NMSE: 0.629089\n",
      "Fold 10, Epoch 20 - RMSE: 35.826223, NMSE: 0.629089\n",
      "Average of RMSE for epoch 1: 35.345947\n",
      "Average of NMSE for epoch 1: 0.594013\n",
      "Average of RMSE for epoch 2: 35.345947\n",
      "Average of NMSE for epoch 2: 0.594013\n",
      "Average of RMSE for epoch 3: 35.345947\n",
      "Average of NMSE for epoch 3: 0.594013\n",
      "Average of RMSE for epoch 4: 35.345947\n",
      "Average of NMSE for epoch 4: 0.594013\n",
      "Average of RMSE for epoch 5: 35.345947\n",
      "Average of NMSE for epoch 5: 0.594013\n",
      "Average of RMSE for epoch 6: 35.345947\n",
      "Average of NMSE for epoch 6: 0.594013\n",
      "Average of RMSE for epoch 7: 35.345947\n",
      "Average of NMSE for epoch 7: 0.594013\n",
      "Average of RMSE for epoch 8: 35.345947\n",
      "Average of NMSE for epoch 8: 0.594013\n",
      "Average of RMSE for epoch 9: 35.345947\n",
      "Average of NMSE for epoch 9: 0.594013\n",
      "Average of RMSE for epoch 10: 35.345947\n",
      "Average of NMSE for epoch 10: 0.594013\n",
      "Average of RMSE for epoch 11: 35.345947\n",
      "Average of NMSE for epoch 11: 0.594013\n",
      "Average of RMSE for epoch 12: 35.345947\n",
      "Average of NMSE for epoch 12: 0.594013\n",
      "Average of RMSE for epoch 13: 35.345947\n",
      "Average of NMSE for epoch 13: 0.594013\n",
      "Average of RMSE for epoch 14: 35.345947\n",
      "Average of NMSE for epoch 14: 0.594013\n",
      "Average of RMSE for epoch 15: 35.345947\n",
      "Average of NMSE for epoch 15: 0.594013\n",
      "Average of RMSE for epoch 16: 35.345947\n",
      "Average of NMSE for epoch 16: 0.594013\n",
      "Average of RMSE for epoch 17: 35.345947\n",
      "Average of NMSE for epoch 17: 0.594013\n",
      "Average of RMSE for epoch 18: 35.345947\n",
      "Average of NMSE for epoch 18: 0.594013\n",
      "Average of RMSE for epoch 19: 35.345947\n",
      "Average of NMSE for epoch 19: 0.594013\n",
      "Average of RMSE for epoch 20: 35.345947\n",
      "Average of NMSE for epoch 20: 0.594013\n",
      "\n",
      "Global average of RMSE across all epochs and folds:  35.34595 \n",
      "Global average of NMSE across all epochs and folds:  0.5940128 \n"
     ]
    }
   ],
   "source": [
    "library(keras)\n",
    "\n",
    "# Normalization layer\n",
    "normalize_data <- function(X) {\n",
    "  X <- scale(X)\n",
    "  return(X)\n",
    "}\n",
    "\n",
    "# Define the metrics used\n",
    "rmse_metric <- custom_metric(\"rmse\", function(y_true, y_pred) {\n",
    "  k_sqrt(k_mean(k_square(y_true - y_pred)))\n",
    "})\n",
    "\n",
    "nmse_metric <- custom_metric(\"nmse\", function(y_true, y_pred) {\n",
    "  mse <- k_mean(k_square(y_true - y_pred))\n",
    "  var_y_true <- k_var(y_true)\n",
    "  nmse <- mse / var_y_true\n",
    "  return(nmse)\n",
    "})\n",
    "\n",
    "# Create the model \n",
    "create_nn_model <- function(input_shape) {\n",
    "  model_DNN <- keras_model_sequential() %>%\n",
    "    layer_dense(units = 128, activation = 'relu', input_shape = input_shape) %>%\n",
    "    layer_dense(units = 128, activation = 'relu') %>%\n",
    "    layer_batch_normalization() %>%\n",
    "    layer_dense(units = 64, activation = 'relu') %>%\n",
    "    layer_batch_normalization() %>%\n",
    "    layer_dense(units = 32, activation = 'relu') %>%\n",
    "    layer_batch_normalization() %>%\n",
    "    layer_dense(units = 1)\n",
    "\n",
    "  model_DNN %>% compile(\n",
    "    optimizer = optimizer_adam(lr = 0.001),\n",
    "    loss = 'mean_squared_error',\n",
    "    metrics = c(rmse_metric, nmse_metric)\n",
    "  )\n",
    "  \n",
    "  return(model_DNN)\n",
    "}\n",
    "\n",
    "nn_model <- function(model_DNN, X_training, Y_training, X_testing, Y_testing, epochs) {\n",
    "  history_nn <- model_DNN %>% fit(\n",
    "    x = as.matrix(X_training),\n",
    "    y = as.matrix(Y_training),\n",
    "    epochs = epochs,\n",
    "    batch_size = 32,\n",
    "    verbose = 0\n",
    "  )  \n",
    "\n",
    "  history <- history_nn$metrics # History contains the metrics of our model\n",
    "\n",
    "  predictions <- predict(object = model_DNN, x = as.matrix(X_testing)) # Doing the predictions.\n",
    "\n",
    "  predictions <- as.vector(predictions)\n",
    "\n",
    "  return(list(model = model_DNN, predictions = predictions, history = history))\n",
    "}\n",
    "\n",
    "#Cross validation using the model returned, and its parameters.\n",
    "\n",
    "perform_cv_nn <- function(X_train, Y_train, CV_folds = 10, epochs = 50) {\n",
    "  X_train <- normalize_data(X_train)\n",
    "  N_train <- nrow(X_train)\n",
    "  size_CV <- floor(N_train / CV_folds)\n",
    "\n",
    "  epoch_RMSE <- matrix(0, nrow = epochs, ncol = CV_folds)\n",
    "  epoch_NMSE <- matrix(0, nrow = epochs, ncol = CV_folds)\n",
    "\n",
    "  for (i in 1:CV_folds) {\n",
    "    cat(sprintf(\"Starting fold %d of %d...\\n\", i, CV_folds))\n",
    "    flush.console()\n",
    "\n",
    "    idx_ts <- ((i - 1) * size_CV + 1):(i * size_CV)\n",
    "    if (i == CV_folds) {\n",
    "      idx_ts <- ((i - 1) * size_CV + 1):N_train\n",
    "    }\n",
    "\n",
    "    X_ts <- X_train[idx_ts, ]\n",
    "    Y_ts <- Y_train[idx_ts]\n",
    "\n",
    "    idx_tr <- setdiff(1:N_train, idx_ts)\n",
    "    X_tr <- X_train[idx_tr, ]\n",
    "    Y_tr <- Y_train[idx_tr]\n",
    "\n",
    "    model <- create_nn_model(ncol(X_train))\n",
    "    result <- nn_model(model, X_tr, Y_tr, X_ts, Y_ts, epochs)\n",
    "\n",
    "    predictions <- result$predictions\n",
    "\n",
    "    for (epoch in 1:epochs) {\n",
    "      epoch_RMSE[epoch, i] <- sqrt(mean((predictions - Y_ts)^2))\n",
    "      epoch_NMSE[epoch, i] <- sum((predictions - Y_ts)^2) / sum((Y_ts - mean(Y_ts))^2)\n",
    "\n",
    "      cat(sprintf(\"Fold %d, Epoch %d - RMSE: %f, NMSE: %f\\n\", i, epoch, epoch_RMSE[epoch, i], epoch_NMSE[epoch, i]))\n",
    "    }\n",
    "\n",
    "    flush.console()\n",
    "  }\n",
    "\n",
    "  # Moyenne des erreurs pour chaque epoch\n",
    "  avg_RMSE_per_epoch <- rowMeans(epoch_RMSE)\n",
    "  avg_NMSE_per_epoch <- rowMeans(epoch_NMSE)\n",
    "\n",
    "  for (epoch in 1:epochs) {\n",
    "\n",
    "    # Print the average of each epoch\n",
    "    cat(sprintf(\"Average of RMSE for epoch %d: %f\\n\", epoch, avg_RMSE_per_epoch[epoch]))\n",
    "    cat(sprintf(\"Average of NMSE for epoch %d: %f\\n\", epoch, avg_NMSE_per_epoch[epoch]))\n",
    "  }\n",
    "\n",
    "  # Moyenne globale des erreurs sur toutes les epochs et tous les folds\n",
    "  global_avg_RMSE <- mean(avg_RMSE_per_epoch)\n",
    "  global_avg_NMSE <- mean(avg_NMSE_per_epoch)\n",
    "\n",
    "  # Average of the averages (Average of the errors obtained after each folds)\n",
    "\n",
    "  cat(\"\\nGlobal average of RMSE across all epochs and folds: \", global_avg_RMSE, \"\\n\")\n",
    "  cat(\"Global average of NMSE across all epochs and folds: \", global_avg_NMSE, \"\\n\")\n",
    "\n",
    "  # Return the model\n",
    "  final_model <- create_nn_model(ncol(X_train))\n",
    "  \n",
    "  return(final_model)\n",
    "} \n",
    "\n",
    "#Calling the function\n",
    "\n",
    "best_model_nn <- perform_cv_nn(X_train_selected, Y_train, CV_folds = 10, epochs = 20)"
   ]
  },
  {
   "cell_type": "markdown",
   "metadata": {},
   "source": [
    "Performances of the DNN"
   ]
  },
  {
   "cell_type": "markdown",
   "metadata": {},
   "source": [
    "# Decision tree"
   ]
  },
  {
   "cell_type": "code",
   "execution_count": 20,
   "metadata": {
    "vscode": {
     "languageId": "r"
    }
   },
   "outputs": [
    {
     "name": "stdout",
     "output_type": "stream",
     "text": [
      "\n",
      "Mean of errors to evaluate the performance of the model :\n",
      "Average of RMSE:  40.53392 \n",
      "Average of NMSE:  0.7827073 \n",
      "n= 30557 \n",
      "\n",
      "node), split, n, deviance, yval\n",
      "      * denotes terminal node\n",
      "\n",
      " 1) root 30557 67100430  61.14804  \n",
      "   2) L3_CO_CO_column_number_density< 0.04131689 25466 43162300  53.78665  \n",
      "     4) L3_AER_AI_sensor_altitude>=833659.9 8737  6887988  38.35973 *\n",
      "     5) L3_AER_AI_sensor_altitude< 833659.9 16729 33109040  61.84361  \n",
      "      10) L3_NO2_NO2_slant_column_number_density< 0.0002269435 14776 26446880  58.34287  \n",
      "        20) L3_AER_AI_sensor_altitude>=830439.3 10236 15834580  52.40948  \n",
      "          40) u_component_of_wind_10m_above_ground>=2.01522 2207  1228477  35.44676 *\n",
      "          41) u_component_of_wind_10m_above_ground< 2.01522 8029 13796520  57.07216 *\n",
      "        21) L3_AER_AI_sensor_altitude< 830439.3 4540  9439462  71.72044  \n",
      "          42) L3_CO_CO_column_number_density< 0.03482733 2264  3786745  58.61100 *\n",
      "          43) L3_CO_CO_column_number_density>=0.03482733 2276  4876598  84.76076 *\n",
      "      11) L3_NO2_NO2_slant_column_number_density>=0.0002269435 1953  5111036  88.32954 *\n",
      "   3) L3_CO_CO_column_number_density>=0.04131689 5091 15655120  97.97093  \n",
      "     6) L3_NO2_NO2_slant_column_number_density< 0.000307282 4360 10715950  90.36032  \n",
      "      12) L3_HCHO_tropospheric_HCHO_column_number_density< 0.0001404119 2572  5324377  76.41719 *\n",
      "      13) L3_HCHO_tropospheric_HCHO_column_number_density>=0.0001404119 1788  4172275 110.41720 *\n",
      "     7) L3_NO2_NO2_slant_column_number_density>=0.000307282 731  3180387 143.36390 *\n"
     ]
    }
   ],
   "source": [
    "results_rpart <- perform_cv(X_train_selected, Y_train, rpart, pred_type=\"vector\")\n",
    "print(results_rpart)"
   ]
  },
  {
   "cell_type": "markdown",
   "metadata": {},
   "source": [
    "# Random forest"
   ]
  },
  {
   "cell_type": "code",
   "execution_count": 51,
   "metadata": {
    "vscode": {
     "languageId": "r"
    }
   },
   "outputs": [
    {
     "name": "stdout",
     "output_type": "stream",
     "text": [
      "\n",
      "Mean of errors to evaluate the performance of the model :\n",
      "Average of RMSE:  34.9169 \n",
      "Average of NMSE:  0.5787054 \n",
      "$model\n",
      "\n",
      "Call:\n",
      " randomForest(formula = target ~ ., data = DS_final, ntree = 20,      mtry = ..2) \n",
      "               Type of random forest: regression\n",
      "                     Number of trees: 20\n",
      "No. of variables tried at each split: 5\n",
      "\n",
      "          Mean of squared residuals: 1173.879\n",
      "                    % Var explained: 46.54\n",
      "\n",
      "$RMSE\n",
      "[1] 34.9169\n",
      "\n",
      "$NMSE\n",
      "[1] 0.5787054\n",
      "\n"
     ]
    }
   ],
   "source": [
    "results_randomForest <- perform_cv(X_train_selected, Y_train, randomForest, pred_type=\"response\", ntree=20, mtry=sqrt(ncol(X_train_selected)))\n",
    "print(results_randomForest)"
   ]
  },
  {
   "cell_type": "markdown",
   "metadata": {},
   "source": [
    "# Question 3"
   ]
  },
  {
   "cell_type": "markdown",
   "metadata": {},
   "source": [
    "Let's implement a new model that we didn't practice during the practical exercise (the library chosen is xgboost)"
   ]
  },
  {
   "cell_type": "code",
   "execution_count": 22,
   "metadata": {
    "vscode": {
     "languageId": "r"
    }
   },
   "outputs": [
    {
     "data": {
      "text/html": [
       "<style>\n",
       ".list-inline {list-style: none; margin:0; padding: 0}\n",
       ".list-inline>li {display: inline-block}\n",
       ".list-inline>li:not(:last-child)::after {content: \"\\00b7\"; padding: 0 .5ex}\n",
       "</style>\n",
       "<ol class=list-inline><li>30557</li><li>30</li></ol>\n"
      ],
      "text/latex": [
       "\\begin{enumerate*}\n",
       "\\item 30557\n",
       "\\item 30\n",
       "\\end{enumerate*}\n"
      ],
      "text/markdown": [
       "1. 30557\n",
       "2. 30\n",
       "\n",
       "\n"
      ],
      "text/plain": [
       "[1] 30557    30"
      ]
     },
     "metadata": {},
     "output_type": "display_data"
    },
    {
     "data": {
      "text/html": [
       "<style>\n",
       ".list-inline {list-style: none; margin:0; padding: 0}\n",
       ".list-inline>li {display: inline-block}\n",
       ".list-inline>li:not(:last-child)::after {content: \"\\00b7\"; padding: 0 .5ex}\n",
       "</style>\n",
       "<ol class=list-inline><li>16136</li><li>30</li></ol>\n"
      ],
      "text/latex": [
       "\\begin{enumerate*}\n",
       "\\item 16136\n",
       "\\item 30\n",
       "\\end{enumerate*}\n"
      ],
      "text/markdown": [
       "1. 16136\n",
       "2. 30\n",
       "\n",
       "\n"
      ],
      "text/plain": [
       "[1] 16136    30"
      ]
     },
     "metadata": {},
     "output_type": "display_data"
    }
   ],
   "source": [
    "dim(X_train_selected)\n",
    "dim(X_test_selected)\n"
   ]
  },
  {
   "cell_type": "markdown",
   "metadata": {},
   "source": [
    "# Cross validation for xgboost"
   ]
  },
  {
   "cell_type": "code",
   "execution_count": 23,
   "metadata": {
    "vscode": {
     "languageId": "r"
    }
   },
   "outputs": [
    {
     "name": "stderr",
     "output_type": "stream",
     "text": [
      "Warning message:\n",
      "\"package 'xgboost' was built under R version 4.3.3\"\n",
      "\n",
      "Attaching package: 'xgboost'\n",
      "\n",
      "\n",
      "The following object is masked from 'package:dplyr':\n",
      "\n",
      "    slice\n",
      "\n",
      "\n"
     ]
    },
    {
     "name": "stdout",
     "output_type": "stream",
     "text": [
      "\n",
      "Mean of errors to evaluate the performance of the model :\n",
      "Average of RMSE:  35.84951 \n",
      "Average of NMSE:  0.6094874 \n"
     ]
    }
   ],
   "source": [
    "# Load required libraries\n",
    "library(xgboost)\n",
    "\n",
    "perform_cv_xgboost <- function(X_train, Y_train, params, nrounds) {\n",
    "    CV_folds <- 10\n",
    "    N_train <- nrow(X_train)\n",
    "    size_CV <- floor(N_train / CV_folds)\n",
    "    \n",
    "    RMSE_err <- numeric(CV_folds)\n",
    "    NMSE_err <- numeric(CV_folds)\n",
    "    \n",
    "    for (i in 1:CV_folds) {\n",
    "        idx_ts <- ((i - 1) * size_CV + 1):(i * size_CV)\n",
    "        if (i == CV_folds) {\n",
    "            idx_ts <- ((i - 1) * size_CV + 1):N_train\n",
    "        }\n",
    "        \n",
    "        X_ts <- X_train[idx_ts, ]\n",
    "        Y_ts <- Y_train[idx_ts]\n",
    "        \n",
    "        idx_tr <- setdiff(1:N_train, idx_ts)\n",
    "        X_tr <- X_train[idx_tr, ]\n",
    "        Y_tr <- Y_train[idx_tr]\n",
    "        \n",
    "        # Create XGBoost DMatrix for training and validation data\n",
    "        train_xgb_data <- xgb.DMatrix(data = as.matrix(X_tr), label = Y_tr)\n",
    "        valid_xgb_data <- xgb.DMatrix(data = as.matrix(X_ts), label = Y_ts)\n",
    "        \n",
    "        # Train the XGBoost model using the specified parameters and training data\n",
    "        xgb_model <- xgb.train(params = params, data = train_xgb_data, nrounds = nrounds)\n",
    "        \n",
    "        # Make predictions on the validation data set\n",
    "        preds <- predict(xgb_model, valid_xgb_data)\n",
    "        \n",
    "        # Calculate RMSE for the current fold\n",
    "        RMSE_err[i] <- sqrt(mean((preds - Y_ts) ^ 2))\n",
    "        \n",
    "        # Calculate NMSE for the current fold\n",
    "        mse <- mean((preds - Y_ts) ^ 2)\n",
    "        variance_label <- var(Y_ts)\n",
    "        NMSE_err[i] <- mse / variance_label\n",
    "    }\n",
    "    \n",
    "    cat(\"\\nMean of errors to evaluate the performance of the model :\\n\")\n",
    "    cat(\"Average of RMSE: \", mean(RMSE_err), \"\\n\")\n",
    "    cat(\"Average of NMSE: \", mean(NMSE_err), \"\\n\")\n",
    "    \n",
    "    # Create the final model using all the training data\n",
    "    final_xgb_data <- xgb.DMatrix(data = as.matrix(X_train), label = Y_train)\n",
    "    final_model <- xgb.train(params = params, data = final_xgb_data, nrounds = nrounds)\n",
    "    \n",
    "    return(final_model)\n",
    "}\n",
    "\n",
    "# Define the parameters for the XGBoost model\n",
    "params <- list(\n",
    "    booster = \"gbtree\",\n",
    "    objective = \"reg:squarederror\",\n",
    "    eta = 0.1,\n",
    "    max_depth = 3,\n",
    "    gamma = 1,\n",
    "    subsample = 0.5,\n",
    "    colsample_bytree = 0.5\n",
    ")\n",
    "\n",
    "# Number of boosting rounds\n",
    "nrounds <- 100\n",
    "\n",
    "# Assuming X_train_selected and Y_train are already defined\n",
    "final_model <- perform_cv_xgboost(X_train_selected, Y_train, params, nrounds)\n"
   ]
  },
  {
   "cell_type": "markdown",
   "metadata": {},
   "source": [
    "# Comparing the performances"
   ]
  },
  {
   "cell_type": "code",
   "execution_count": 24,
   "metadata": {
    "vscode": {
     "languageId": "r"
    }
   },
   "outputs": [
    {
     "name": "stderr",
     "output_type": "stream",
     "text": [
      "Installing package into 'C:/Users/micha/AppData/Local/R/win-library/4.3'\n",
      "(as 'lib' is unspecified)\n",
      "\n"
     ]
    },
    {
     "name": "stdout",
     "output_type": "stream",
     "text": [
      "package 'readxl' successfully unpacked and MD5 sums checked\n"
     ]
    },
    {
     "name": "stderr",
     "output_type": "stream",
     "text": [
      "Warning message:\n",
      "\"cannot remove prior installation of package 'readxl'\"\n",
      "Warning message in file.copy(savedcopy, lib, recursive = TRUE):\n",
      "\"problem copying C:\\Users\\micha\\AppData\\Local\\R\\win-library\\4.3\\00LOCK\\readxl\\libs\\x64\\readxl.dll to C:\\Users\\micha\\AppData\\Local\\R\\win-library\\4.3\\readxl\\libs\\x64\\readxl.dll: Permission denied\"\n",
      "Warning message:\n",
      "\"restored 'readxl'\"\n"
     ]
    },
    {
     "name": "stdout",
     "output_type": "stream",
     "text": [
      "\n",
      "The downloaded binary packages are in\n",
      "\tC:\\Users\\micha\\AppData\\Local\\Temp\\RtmpIVpl0r\\downloaded_packages\n"
     ]
    },
    {
     "name": "stderr",
     "output_type": "stream",
     "text": [
      "Installing package into 'C:/Users/micha/AppData/Local/R/win-library/4.3'\n",
      "(as 'lib' is unspecified)\n",
      "\n"
     ]
    },
    {
     "name": "stdout",
     "output_type": "stream",
     "text": [
      "package 'writexl' successfully unpacked and MD5 sums checked\n"
     ]
    },
    {
     "name": "stderr",
     "output_type": "stream",
     "text": [
      "Warning message:\n",
      "\"cannot remove prior installation of package 'writexl'\"\n",
      "Warning message in file.copy(savedcopy, lib, recursive = TRUE):\n",
      "\"problem copying C:\\Users\\micha\\AppData\\Local\\R\\win-library\\4.3\\00LOCK\\writexl\\libs\\x64\\writexl.dll to C:\\Users\\micha\\AppData\\Local\\R\\win-library\\4.3\\writexl\\libs\\x64\\writexl.dll: Permission denied\"\n",
      "Warning message:\n",
      "\"restored 'writexl'\"\n"
     ]
    },
    {
     "name": "stdout",
     "output_type": "stream",
     "text": [
      "\n",
      "The downloaded binary packages are in\n",
      "\tC:\\Users\\micha\\AppData\\Local\\Temp\\RtmpIVpl0r\\downloaded_packages\n"
     ]
    },
    {
     "name": "stderr",
     "output_type": "stream",
     "text": [
      "Warning message:\n",
      "\"package 'readxl' was built under R version 4.3.3\"\n",
      "Warning message:\n",
      "\"package 'writexl' was built under R version 4.3.3\"\n",
      "\u001b[1m\u001b[22mNew names:\n",
      "\u001b[36m•\u001b[39m `` -> `...1`\n"
     ]
    },
    {
     "data": {
      "text/html": [
       "<table class=\"dataframe\">\n",
       "<caption>A tibble: 2 × 5</caption>\n",
       "<thead>\n",
       "\t<tr><th scope=col>...1</th><th scope=col>Neural Network</th><th scope=col>Decision Tree</th><th scope=col>Random Forest</th><th scope=col>Xgboost</th></tr>\n",
       "\t<tr><th scope=col>&lt;chr&gt;</th><th scope=col>&lt;dbl&gt;</th><th scope=col>&lt;dbl&gt;</th><th scope=col>&lt;dbl&gt;</th><th scope=col>&lt;dbl&gt;</th></tr>\n",
       "</thead>\n",
       "<tbody>\n",
       "\t<tr><td>NMSE</td><td> 0.600085</td><td> 0.7827073</td><td> 0.5783812</td><td> 0.610468</td></tr>\n",
       "\t<tr><td>RMSE</td><td>35.522380</td><td>40.5339200</td><td>34.8976100</td><td>35.871560</td></tr>\n",
       "</tbody>\n",
       "</table>\n"
      ],
      "text/latex": [
       "A tibble: 2 × 5\n",
       "\\begin{tabular}{lllll}\n",
       " ...1 & Neural Network & Decision Tree & Random Forest & Xgboost\\\\\n",
       " <chr> & <dbl> & <dbl> & <dbl> & <dbl>\\\\\n",
       "\\hline\n",
       "\t NMSE &  0.600085 &  0.7827073 &  0.5783812 &  0.610468\\\\\n",
       "\t RMSE & 35.522380 & 40.5339200 & 34.8976100 & 35.871560\\\\\n",
       "\\end{tabular}\n"
      ],
      "text/markdown": [
       "\n",
       "A tibble: 2 × 5\n",
       "\n",
       "| ...1 &lt;chr&gt; | Neural Network &lt;dbl&gt; | Decision Tree &lt;dbl&gt; | Random Forest &lt;dbl&gt; | Xgboost &lt;dbl&gt; |\n",
       "|---|---|---|---|---|\n",
       "| NMSE |  0.600085 |  0.7827073 |  0.5783812 |  0.610468 |\n",
       "| RMSE | 35.522380 | 40.5339200 | 34.8976100 | 35.871560 |\n",
       "\n"
      ],
      "text/plain": [
       "  ...1 Neural Network Decision Tree Random Forest Xgboost  \n",
       "1 NMSE  0.600085       0.7827073     0.5783812     0.610468\n",
       "2 RMSE 35.522380      40.5339200    34.8976100    35.871560"
      ]
     },
     "metadata": {},
     "output_type": "display_data"
    }
   ],
   "source": [
    "# Installer les packages nécessaires (à exécuter une seule fois)\n",
    "install.packages(\"readxl\")\n",
    "install.packages(\"writexl\")\n",
    "\n",
    "# Charger les packages\n",
    "library(readxl)\n",
    "library(writexl)\n",
    "\n",
    "# Spécifier le chemin de votre fichier Excel\n",
    "file_path <- \"perf.xlsx\"\n",
    "\n",
    "# Lire le fichier Excel\n",
    "data <- read_excel(file_path)\n",
    "\n",
    "# Afficher les premières lignes des données\n",
    "head(data)\n"
   ]
  },
  {
   "cell_type": "code",
   "execution_count": 25,
   "metadata": {
    "vscode": {
     "languageId": "r"
    }
   },
   "outputs": [
    {
     "data": {
      "image/png": "[encoded data removed]",
      "text/plain": [
       "plot without title"
      ]
     },
     "metadata": {
      "image/png": {
       "height": 600,
       "width": 1200
      }
     },
     "output_type": "display_data"
    }
   ],
   "source": [
    "library(png)\n",
    "library(grid)\n",
    "img <- readPNG(\"perf.png\")\n",
    "grid.raster(img)\n"
   ]
  },
  {
   "cell_type": "markdown",
   "metadata": {},
   "source": [
    "We will use the model obtained by our cross validation fonction when we used random forestt, because its the model performing better to our data."
   ]
  },
  {
   "cell_type": "markdown",
   "metadata": {},
   "source": [
    "# Question 4"
   ]
  },
  {
   "cell_type": "markdown",
   "metadata": {},
   "source": [
    "Let's use our best model (The one which minimizes the Averages of errors of each folds, which is random forest) in order to make our predictions on the target.\n",
    "\n",
    "\n",
    "The correct submission file is the one computed with random forest, named \"SampleSubmission_RandomForest_Final.csv\""
   ]
  },
  {
   "cell_type": "markdown",
   "metadata": {},
   "source": [
    "# Predictions with our best model submitted on Zindi (random forest model)"
   ]
  },
  {
   "cell_type": "markdown",
   "metadata": {},
   "source": [
    "For the question 4, we submitted on Zindi platform the predictions computed with our random forest model, but in this notebook, we chose to compute it with our boosting model (xgb library) due to its fast computation time (80 minutes for random forest vs 30 seconds for xgBoost), although we also generated in this repository the prediction computed with random Forest also."
   ]
  },
  {
   "cell_type": "code",
   "execution_count": 90,
   "metadata": {
    "vscode": {
     "languageId": "r"
    }
   },
   "outputs": [
    {
     "name": "stdout",
     "output_type": "stream",
     "text": [
      "\n",
      "Mean of errors to evaluate the performance of the model :\n",
      "Average of RMSE:  34.87143 \n",
      "Average of NMSE:  0.5770854 \n"
     ]
    }
   ],
   "source": [
    "set.seed(123)\n",
    "ntrees <- 20  # Number of trees is set to 20 as computed before\n",
    "p <- ncol(X_train_selected)  # Number of predictor variables\n",
    "mtry <- if(is.null(mtry)) sqrt(p) else mtry  # Set mtry to default if NULL\n",
    "\n",
    "# Perform cross-validation and train the final model\n",
    "result <- perform_cv(X_train_selected, Y_train, randomForest, \"response\", ntree = ntrees, mtry = mtry)\n",
    "final_model <- result$model\n",
    "\n",
    "# Ensure all columns in test data are numeric\n",
    "test_data <- X_test_selected\n",
    "test_data[] <- lapply(test_data, function(x) if(is.logical(x)) as.numeric(x) else x)\n",
    "\n",
    "train_cols <- colnames(X_train_selected)\n",
    "test_cols <- colnames(test_data)\n",
    "\n",
    "select_cols <- train_cols\n",
    "# Make predictions on the test data set using the final model\n",
    "test_preds <- predict(final_model, test_data[, select_cols, drop = FALSE])\n",
    "\n",
    "# Load the sample submission file, update it with predictions, and save the updated file\n",
    "submissions <- read.csv(\"SampleSubmission.csv\")\n",
    "submissions$target <- test_preds\n",
    "write.csv(submissions, file = \"SampleSubmission_RandomForest_Final.csv\", row.names = FALSE)"
   ]
  },
  {
   "cell_type": "markdown",
   "metadata": {},
   "source": [
    "# Prediction with our xgboost model\n",
    "\n",
    "Let's use our model returned by the 'perform_cv' function"
   ]
  },
  {
   "cell_type": "code",
   "execution_count": 91,
   "metadata": {
    "vscode": {
     "languageId": "r"
    }
   },
   "outputs": [
    {
     "name": "stdout",
     "output_type": "stream",
     "text": [
      "\n",
      "Mean of errors to evaluate the performance of the model :\n",
      "Average of RMSE:  35.92796 \n",
      "Average of NMSE:  0.6125941 \n"
     ]
    }
   ],
   "source": [
    "set.seed(123)\n",
    "# Assuming the final_model is obtained from the cross-validation function\n",
    "final_model <- perform_cv_xgboost(X_train_selected, Y_train, params, nrounds)\n",
    "\n",
    "# Ensure all columns in test data are numeric\n",
    "test_data <- X_test_selected\n",
    "test_data[] <- lapply(test_data, function(x) if(is.logical(x)) as.numeric(x) else x)\n",
    "\n",
    "# Check if column names in test_data match those in train_data (excluding target column)\n",
    "train_cols <- colnames(X_train_selected)\n",
    "test_cols <- colnames(test_data)\n",
    "select_cols <- train_cols\n",
    "\n",
    "# Convert the test data for selected columns into a format suitable for XGBoost prediction\n",
    "test_xgb_data <- xgb.DMatrix(data = as.matrix(test_data[, select_cols, drop = FALSE]))\n",
    "\n",
    "# Make predictions on the test data set using the final model\n",
    "test_preds <- predict(final_model, test_xgb_data)\n",
    "\n",
    "# Load the sample submission file, update it with predictions, and save the updated file\n",
    "submissions <- read.csv(\"SampleSubmission.csv\")\n",
    "submissions$target <- test_preds\n",
    "write.csv(submissions, file = \"SampleSubmission_xgBoost.csv\", row.names = FALSE)"
   ]
  },
  {
   "cell_type": "markdown",
   "metadata": {},
   "source": [
    "The same was made for random forest, and it was the one with the highest score in Zindi platform (36 for random forest, and 38 for xgboost) So we conclude that despite its slowest computation, randomforest performs better than the boosting method.\n",
    "The Excel files for both algorithm (xgboost and randomforest) were generated and \"SampleSubmission_RF\" corresponds to the predictions of the random forest (our best model), and \"SampleSubmission_xgBoost\" corresponds to the predictions of our model implemented with the boosting method."
   ]
  },
  {
   "cell_type": "markdown",
   "metadata": {},
   "source": [
    "# Question 5: Ranking Features by Predictive Power\n",
    "\n",
    "Using the regression model selected in the previous steps (Here we will use the xgboost for its fast computationnal time), the code below returns a ranking of the features in terms of predictive power. The predictive power of the ith feature is computed as the conditional information of Xi about the target Y, given the set of all other features (X_i)\n",
    "\n",
    "I(x \n",
    "i\n",
    "​\n",
    " ;y∣X \n",
    "−i\n",
    "​\n",
    " )=H(y∣X \n",
    "−i\n",
    "​\n",
    " )−H(y∣X)\n",
    "\n",
    "To do this, we will :\n",
    "\n",
    "1 - Identify the top 10 most relevant features from our dataset, based on the feature selection and modeling procedures already implemented.\n",
    "\n",
    "2 - We will use the concept of conditional entropy to compute the predictive power of each feature."
   ]
  },
  {
   "cell_type": "code",
   "execution_count": 52,
   "metadata": {
    "vscode": {
     "languageId": "r"
    }
   },
   "outputs": [
    {
     "name": "stdout",
     "output_type": "stream",
     "text": [
      "\n",
      "Mean of errors to evaluate the performance of the model :\n",
      "Average of RMSE:  36.27871 \n",
      "Average of NMSE:  0.6247278 \n",
      "\n",
      "Mean of errors to evaluate the performance of the model :\n",
      "Average of RMSE:  37.63957 \n",
      "Average of NMSE:  0.6740475 \n",
      "\n",
      "Mean of errors to evaluate the performance of the model :\n",
      "Average of RMSE:  37.68552 \n",
      "Average of NMSE:  0.6753428 \n",
      "\n",
      "Mean of errors to evaluate the performance of the model :\n",
      "Average of RMSE:  37.13835 \n",
      "Average of NMSE:  0.6540627 \n",
      "\n",
      "Mean of errors to evaluate the performance of the model :\n",
      "Average of RMSE:  38.08797 \n",
      "Average of NMSE:  0.6881842 \n",
      "\n",
      "Mean of errors to evaluate the performance of the model :\n",
      "Average of RMSE:  36.50782 \n",
      "Average of NMSE:  0.6329134 \n",
      "\n",
      "Mean of errors to evaluate the performance of the model :\n",
      "Average of RMSE:  37.1562 \n",
      "Average of NMSE:  0.655745 \n",
      "\n",
      "Mean of errors to evaluate the performance of the model :\n",
      "Average of RMSE:  36.57871 \n",
      "Average of NMSE:  0.6348315 \n",
      "\n",
      "Mean of errors to evaluate the performance of the model :\n",
      "Average of RMSE:  36.2143 \n",
      "Average of NMSE:  0.6226768 \n",
      "\n",
      "Mean of errors to evaluate the performance of the model :\n",
      "Average of RMSE:  36.64911 \n",
      "Average of NMSE:  0.6370412 \n",
      "\n",
      "Mean of errors to evaluate the performance of the model :\n",
      "Average of RMSE:  36.37917 \n",
      "Average of NMSE:  0.6279007 \n",
      "                                           Feature Conditional_Information\n",
      "4                        L3_AER_AI_sensor_altitude              1.80925159\n",
      "2           L3_NO2_NO2_slant_column_number_density              1.40680758\n",
      "1                   L3_CO_CO_column_number_density              1.36085465\n",
      "6             u_component_of_wind_10m_above_ground              0.87748344\n",
      "3  L3_HCHO_tropospheric_HCHO_column_number_density              0.85963480\n",
      "9                      L3_CLOUD_cloud_top_pressure              0.37039422\n",
      "7                     L3_CLOUD_cloud_optical_depth              0.30000098\n",
      "5                   L3_SO2_absorbing_aerosol_index              0.22911107\n",
      "10                    L3_CH4_aerosol_optical_depth              0.10045174\n",
      "8                 L3_SO2_SO2_column_number_density             -0.06441616\n"
     ]
    }
   ],
   "source": [
    "library(rpart)\n",
    "library(randomForest)\n",
    "library(caret)\n",
    "library(dplyr)\n",
    "\n",
    "# Top 10 feature selection\n",
    "set.seed(123)\n",
    "X_top_features <- X_train_selected[, 1:10]\n",
    "top_feature_names <- names(X_top_features)\n",
    "\n",
    "# Step 1: Train the model on the full feature set and get the cross-validation error, which will be used to approximate our conditionnal entropy\n",
    "\n",
    "results_full <- perform_cv(X_top_features, Y_train, randomForest, pred_type=\"response\", ntree = 20, mtry = sqrt(ncol(X_top_features)))\n",
    "H_y_X <- results_full$RMSE\n",
    "\n",
    "# Step 2: Initialize a vector to store the cross-validation errors for each subset\n",
    "\n",
    "cv_errors <- numeric(ncol(X_top_features))\n",
    "\n",
    "# Here, we calculate the cross-validation error for each subset, where each subset is the original set of features minus one specific feature.\n",
    "# We will thus perform a loop because we will iterate over each feature to exclude it and compute the error.\n",
    "\n",
    "for (i in 1:ncol(X_top_features)) {\n",
    "    X_minus_i <- X_top_features[, -i, drop = FALSE] # Ensure the subset is still a data frame\n",
    "    results_minus_i <- perform_cv(X_minus_i, Y_train, randomForest, pred_type=\"response\", ntree = 20, mtry = sqrt(ncol(X_minus_i)))\n",
    "    cv_errors[i] <- results_minus_i$RMSE\n",
    "}\n",
    "\n",
    "# Calculate the conditional information for each feature\n",
    "conditional_information <- cv_errors - H_y_X\n",
    "\n",
    "# Rank the features based on the conditional information\n",
    "ranked_features <- data.frame(\n",
    "  Feature = colnames(X_top_features),\n",
    "  Conditional_Information = conditional_information\n",
    ")\n",
    "\n",
    "ranked_features <- ranked_features[order(ranked_features$Conditional_Information, decreasing = TRUE), ]\n"
   ]
  },
  {
   "cell_type": "code",
   "execution_count": 54,
   "metadata": {
    "vscode": {
     "languageId": "r"
    }
   },
   "outputs": [
    {
     "name": "stdout",
     "output_type": "stream",
     "text": [
      "                                           Feature Conditional_Information\n",
      "4                        L3_AER_AI_sensor_altitude              1.80925159\n",
      "2           L3_NO2_NO2_slant_column_number_density              1.40680758\n",
      "1                   L3_CO_CO_column_number_density              1.36085465\n",
      "6             u_component_of_wind_10m_above_ground              0.87748344\n",
      "3  L3_HCHO_tropospheric_HCHO_column_number_density              0.85963480\n",
      "9                      L3_CLOUD_cloud_top_pressure              0.37039422\n",
      "7                     L3_CLOUD_cloud_optical_depth              0.30000098\n",
      "5                   L3_SO2_absorbing_aerosol_index              0.22911107\n",
      "10                    L3_CH4_aerosol_optical_depth              0.10045174\n",
      "8                 L3_SO2_SO2_column_number_density             -0.06441616\n"
     ]
    }
   ],
   "source": [
    "# Display the ranked features\n",
    "print(ranked_features)"
   ]
  },
  {
   "cell_type": "markdown",
   "metadata": {},
   "source": [
    "This feature has the highest positive conditional information, suggesting it is the most important feature for your model. \n",
    "\n",
    "Removing it will result in a significant increase in the RMSE, indicating it provides critical information for predicting the target variable."
   ]
  },
  {
   "cell_type": "markdown",
   "metadata": {},
   "source": [
    "# Let's compare the columns obtained by this method of feature selection with the 10 first columns wich resulted of our feature selection in part 1 : "
   ]
  },
  {
   "cell_type": "code",
   "execution_count": 75,
   "metadata": {
    "vscode": {
     "languageId": "r"
    }
   },
   "outputs": [
    {
     "data": {
      "text/html": [
       "<style>\n",
       ".list-inline {list-style: none; margin:0; padding: 0}\n",
       ".list-inline>li {display: inline-block}\n",
       ".list-inline>li:not(:last-child)::after {content: \"\\00b7\"; padding: 0 .5ex}\n",
       "</style>\n",
       "<ol class=list-inline><li>'L3_CO_CO_column_number_density'</li><li>'L3_NO2_NO2_slant_column_number_density'</li><li>'L3_HCHO_tropospheric_HCHO_column_number_density'</li><li>'L3_AER_AI_sensor_altitude'</li><li>'L3_SO2_absorbing_aerosol_index'</li><li>'u_component_of_wind_10m_above_ground'</li><li>'L3_CLOUD_cloud_optical_depth'</li><li>'L3_SO2_SO2_column_number_density'</li><li>'L3_CLOUD_cloud_top_pressure'</li><li>'L3_CH4_aerosol_optical_depth'</li></ol>\n"
      ],
      "text/latex": [
       "\\begin{enumerate*}\n",
       "\\item 'L3\\_CO\\_CO\\_column\\_number\\_density'\n",
       "\\item 'L3\\_NO2\\_NO2\\_slant\\_column\\_number\\_density'\n",
       "\\item 'L3\\_HCHO\\_tropospheric\\_HCHO\\_column\\_number\\_density'\n",
       "\\item 'L3\\_AER\\_AI\\_sensor\\_altitude'\n",
       "\\item 'L3\\_SO2\\_absorbing\\_aerosol\\_index'\n",
       "\\item 'u\\_component\\_of\\_wind\\_10m\\_above\\_ground'\n",
       "\\item 'L3\\_CLOUD\\_cloud\\_optical\\_depth'\n",
       "\\item 'L3\\_SO2\\_SO2\\_column\\_number\\_density'\n",
       "\\item 'L3\\_CLOUD\\_cloud\\_top\\_pressure'\n",
       "\\item 'L3\\_CH4\\_aerosol\\_optical\\_depth'\n",
       "\\end{enumerate*}\n"
      ],
      "text/markdown": [
       "1. 'L3_CO_CO_column_number_density'\n",
       "2. 'L3_NO2_NO2_slant_column_number_density'\n",
       "3. 'L3_HCHO_tropospheric_HCHO_column_number_density'\n",
       "4. 'L3_AER_AI_sensor_altitude'\n",
       "5. 'L3_SO2_absorbing_aerosol_index'\n",
       "6. 'u_component_of_wind_10m_above_ground'\n",
       "7. 'L3_CLOUD_cloud_optical_depth'\n",
       "8. 'L3_SO2_SO2_column_number_density'\n",
       "9. 'L3_CLOUD_cloud_top_pressure'\n",
       "10. 'L3_CH4_aerosol_optical_depth'\n",
       "\n",
       "\n"
      ],
      "text/plain": [
       " [1] \"L3_CO_CO_column_number_density\"                 \n",
       " [2] \"L3_NO2_NO2_slant_column_number_density\"         \n",
       " [3] \"L3_HCHO_tropospheric_HCHO_column_number_density\"\n",
       " [4] \"L3_AER_AI_sensor_altitude\"                      \n",
       " [5] \"L3_SO2_absorbing_aerosol_index\"                 \n",
       " [6] \"u_component_of_wind_10m_above_ground\"           \n",
       " [7] \"L3_CLOUD_cloud_optical_depth\"                   \n",
       " [8] \"L3_SO2_SO2_column_number_density\"               \n",
       " [9] \"L3_CLOUD_cloud_top_pressure\"                    \n",
       "[10] \"L3_CH4_aerosol_optical_depth\"                   "
      ]
     },
     "metadata": {},
     "output_type": "display_data"
    }
   ],
   "source": [
    "mrmr_selected_features <- colnames(X_train)[selected_mRmR[1:10]]\n",
    "model_based_features <- ranked_features$Feature\n",
    "mrmr_selected_features\n"
   ]
  },
  {
   "cell_type": "code",
   "execution_count": 78,
   "metadata": {
    "vscode": {
     "languageId": "r"
    }
   },
   "outputs": [
    {
     "data": {
      "image/png": "[encoded data removed]",
      "text/plain": [
       "plot without title"
      ]
     },
     "metadata": {
      "image/png": {
       "height": 600,
       "width": 1200
      }
     },
     "output_type": "display_data"
    }
   ],
   "source": [
    "library(ggplot2)\n",
    "\n",
    "importance_df <- data.frame(\n",
    "  Feature = c(mrmr_selected_features, model_based_features),\n",
    "  Importance = c(rep(1, length(mrmr_selected_features)), ranked_features$Conditional_Information),\n",
    "  Method = c(rep(\"mRMR\", length(mrmr_selected_features)), rep(\"Model-Based\", length(model_based_features)))\n",
    ")\n",
    "\n",
    "# Bar plot for mRMR and Model-Based features with importance values\n",
    "\n",
    "ggplot(importance_df, aes(x = reorder(Feature, -Importance), y = Importance, fill = Method)) +\n",
    "  geom_bar(stat = \"identity\", position = \"dodge\") +\n",
    "  labs(title = \"Feature Importance Comparison\", x = \"Feature\", y = \"Importance\") +\n",
    "  theme(axis.text.x = element_text(angle = 45, hjust = 1))"
   ]
  },
  {
   "cell_type": "markdown",
   "metadata": {},
   "source": [
    "The fundamental difference in selection criteria can explain why some features are chosen by mRMR but not by the model-based method, and vice versa. mRMR focuses on statistical relevance and minimizing redundancy, ensuring that selected features are individually important to the target variable and not highly correlated with each other. In contrast, the model-based method emphasizes the immediate impact on predictive performance, evaluating the importance of each feature based on how much it reduces prediction error when included in the model.\n",
    "\n",
    "A hybrid approach could combine the strengths of both methods. For example, one could start with an initial selection of features using mRMR to reduce redundancy and ensure a diverse set of relevant features. This selection could then be refined using the model-based evaluation to maximize predictive performance by focusing on features that have the most significant impact on reducing prediction error.\n"
   ]
  },
  {
   "cell_type": "markdown",
   "metadata": {},
   "source": [
    "# Bibliography : "
   ]
  },
  {
   "cell_type": "markdown",
   "metadata": {},
   "source": [
    "https://gijopeter.medium.com/cross-validation-for-ml-feature-selection-ffdb71e5a68f "
   ]
  }
 ],
 "metadata": {
  "kernelspec": {
   "display_name": "R",
   "language": "R",
   "name": "ir"
  },
  "language_info": {
   "codemirror_mode": "r",
   "file_extension": ".r",
   "mimetype": "text/x-r-source",
   "name": "R",
   "pygments_lexer": "r",
   "version": "4.3.2"
  }
 },
 "nbformat": 4,
 "nbformat_minor": 2
}
